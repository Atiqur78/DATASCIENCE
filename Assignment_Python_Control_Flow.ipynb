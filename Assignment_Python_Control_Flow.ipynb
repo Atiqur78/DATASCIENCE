{
 "cells": [
  {
   "cell_type": "markdown",
   "metadata": {},
   "source": [
    "## **Basic If-Else Statements**"
   ]
  },
  {
   "cell_type": "markdown",
   "metadata": {},
   "source": [
    "### 1. Write a Python program to check if a given number is positive or negative.\n"
   ]
  },
  {
   "cell_type": "code",
   "execution_count": 1,
   "metadata": {},
   "outputs": [
    {
     "name": "stdout",
     "output_type": "stream",
     "text": [
      "Positive number\n"
     ]
    }
   ],
   "source": [
    "# Input: Number to check\n",
    "number = float(input(\"Enter a number: \"))\n",
    "\n",
    "# Check if the number is positive, negative, or zero\n",
    "if number > 0:\n",
    "    print(\"Positive number\")\n",
    "elif number < 0:\n",
    "    print(\"Negative number\")\n",
    "else:\n",
    "    print(\"Zero\")"
   ]
  },
  {
   "cell_type": "markdown",
   "metadata": {},
   "source": [
    "### 2. Create a program that determines if a person is eligible to vote based on their age.\n"
   ]
  },
  {
   "cell_type": "code",
   "execution_count": 2,
   "metadata": {},
   "outputs": [
    {
     "name": "stdout",
     "output_type": "stream",
     "text": [
      "You are not eligible to vote.\n"
     ]
    }
   ],
   "source": [
    "# Input: Age of the person\n",
    "age = int(input(\"Enter your age: \"))\n",
    "\n",
    "# Check eligibility to vote\n",
    "if age >= 18:\n",
    "    print(\"You are eligible to vote.\")\n",
    "else:\n",
    "    print(\"You are not eligible to vote.\")"
   ]
  },
  {
   "cell_type": "markdown",
   "metadata": {},
   "source": [
    "### 3. Develop a program to find the maximum of two numbers using if-else statements.\n"
   ]
  },
  {
   "cell_type": "code",
   "execution_count": 3,
   "metadata": {},
   "outputs": [
    {
     "name": "stdout",
     "output_type": "stream",
     "text": [
      "Maximum: 4.0\n"
     ]
    }
   ],
   "source": [
    "# Input: Two numbers\n",
    "num1 = float(input(\"Enter the first number: \"))\n",
    "num2 = float(input(\"Enter the second number: \"))\n",
    "\n",
    "# Determine the maximum\n",
    "if num1 > num2:\n",
    "    print(\"Maximum:\", num1)\n",
    "else:\n",
    "    print(\"Maximum:\", num2)"
   ]
  },
  {
   "cell_type": "markdown",
   "metadata": {},
   "source": [
    "### 4. Write a Python script to classify a given year as a leap year or not.\n"
   ]
  },
  {
   "cell_type": "code",
   "execution_count": 4,
   "metadata": {},
   "outputs": [
    {
     "name": "stdout",
     "output_type": "stream",
     "text": [
      "2024 is a leap year.\n"
     ]
    }
   ],
   "source": [
    "# Input: Year to check\n",
    "year = int(input(\"Enter a year: \"))\n",
    "\n",
    "# Check if it's a leap year\n",
    "if (year % 4 == 0 and year % 100 != 0) or (year % 400 == 0):\n",
    "    print(year, \"is a leap year.\")\n",
    "else:\n",
    "    print(year, \"is not a leap year.\")"
   ]
  },
  {
   "cell_type": "markdown",
   "metadata": {},
   "source": [
    "### 5. Create a program that checks whether a character is a vowel or a consonant.\n"
   ]
  },
  {
   "cell_type": "code",
   "execution_count": 5,
   "metadata": {},
   "outputs": [
    {
     "name": "stdout",
     "output_type": "stream",
     "text": [
      "e is a vowel.\n"
     ]
    }
   ],
   "source": [
    "# Input: Character to check\n",
    "char = input(\"Enter a character: \").lower()\n",
    "\n",
    "# Check if it's a vowel or consonant\n",
    "if char.isalpha() and len(char) == 1:\n",
    "    if char in 'aeiou':\n",
    "        print(char, \"is a vowel.\")\n",
    "    else:\n",
    "        print(char, \"is a consonant.\")\n",
    "else:\n",
    "    print(\"Invalid input.\")"
   ]
  },
  {
   "cell_type": "markdown",
   "metadata": {},
   "source": [
    "### 6. Implement a program to determine whether a given number is even or odd.\n"
   ]
  },
  {
   "cell_type": "code",
   "execution_count": 6,
   "metadata": {},
   "outputs": [
    {
     "name": "stdout",
     "output_type": "stream",
     "text": [
      "5 is odd.\n"
     ]
    }
   ],
   "source": [
    "# Input: Number to check\n",
    "number = int(input(\"Enter a number: \"))\n",
    "\n",
    "# Check if it's even or odd\n",
    "if number % 2 == 0:\n",
    "    print(number, \"is even.\")\n",
    "else:\n",
    "    print(number, \"is odd.\")"
   ]
  },
  {
   "cell_type": "markdown",
   "metadata": {},
   "source": [
    "### 7. Write a Python function to calculate the absolute value of a number without using the `abs()` function.\n"
   ]
  },
  {
   "cell_type": "code",
   "execution_count": 7,
   "metadata": {},
   "outputs": [
    {
     "name": "stdout",
     "output_type": "stream",
     "text": [
      "Absolute value: 4.6\n"
     ]
    }
   ],
   "source": [
    "# Input: Number to find the absolute value of\n",
    "number = float(input(\"Enter a number: \"))\n",
    "\n",
    "# Calculate absolute value\n",
    "if number < 0:\n",
    "    abs_value = -number\n",
    "else:\n",
    "    abs_value = number\n",
    "\n",
    "print(\"Absolute value:\", abs_value)"
   ]
  },
  {
   "cell_type": "markdown",
   "metadata": {},
   "source": [
    "### 8. Develop a program that determines the largest of three given numbers using if-else statements.\n"
   ]
  },
  {
   "cell_type": "code",
   "execution_count": 8,
   "metadata": {},
   "outputs": [
    {
     "name": "stdout",
     "output_type": "stream",
     "text": [
      "Largest: 7.0\n"
     ]
    }
   ],
   "source": [
    "# Input: Three numbers\n",
    "num1 = float(input(\"Enter the first number: \"))\n",
    "num2 = float(input(\"Enter the second number: \"))\n",
    "num3 = float(input(\"Enter the third number: \"))\n",
    "\n",
    "# Determine the largest\n",
    "if num1 >= num2 and num1 >= num3:\n",
    "    print(\"Largest:\", num1)\n",
    "elif num2 >= num1 and num2 >= num3:\n",
    "    print(\"Largest:\", num2)\n",
    "else:\n",
    "    print(\"Largest:\", num3)"
   ]
  },
  {
   "cell_type": "markdown",
   "metadata": {},
   "source": [
    "### 9. Create a program that checks if a given string is a palindrome.\n"
   ]
  },
  {
   "cell_type": "code",
   "execution_count": 9,
   "metadata": {},
   "outputs": [
    {
     "name": "stdout",
     "output_type": "stream",
     "text": [
      "Palindrome\n"
     ]
    }
   ],
   "source": [
    "# Input: String to check\n",
    "text = input(\"Enter a string: \")\n",
    "\n",
    "# Remove spaces and convert to lowercase for case-insensitive check\n",
    "cleaned_text = text.replace(\" \", \"\").lower()\n",
    "\n",
    "# Check if it's a palindrome\n",
    "if cleaned_text == cleaned_text[::-1]:\n",
    "    print(\"Palindrome\")\n",
    "else:\n",
    "    print(\"Not a palindrome\")"
   ]
  },
  {
   "cell_type": "markdown",
   "metadata": {},
   "source": [
    "### 10. Write a Python program to calculate the grade based on a student's score.\n"
   ]
  },
  {
   "cell_type": "code",
   "execution_count": 11,
   "metadata": {},
   "outputs": [
    {
     "name": "stdout",
     "output_type": "stream",
     "text": [
      "Grade: B\n"
     ]
    }
   ],
   "source": [
    "# Input: Student's score\n",
    "score = float(input(\"Enter the student's score: \"))\n",
    "\n",
    "# Determine the grade\n",
    "if 90 <= score <= 100:\n",
    "    grade = 'A'\n",
    "elif 80 <= score < 90:\n",
    "    grade = 'B'\n",
    "elif 70 <= score < 80:\n",
    "    grade = 'C'\n",
    "elif 60 <= score < 70:\n",
    "    grade = 'D'\n",
    "elif 0 <= score < 60:\n",
    "    grade = 'F'\n",
    "else:\n",
    "    grade = 'Invalid input'\n",
    "\n",
    "print(\"Grade:\", grade)"
   ]
  },
  {
   "cell_type": "markdown",
   "metadata": {},
   "source": [
    "## **Nested If-Else Statements**"
   ]
  },
  {
   "cell_type": "markdown",
   "metadata": {},
   "source": [
    "### 11. Write a program to find the largest among three numbers using nested if-else statements.\n"
   ]
  },
  {
   "cell_type": "code",
   "execution_count": 12,
   "metadata": {},
   "outputs": [
    {
     "name": "stdout",
     "output_type": "stream",
     "text": [
      "Largest number: 5.6\n"
     ]
    }
   ],
   "source": [
    "# Input: Three numbers\n",
    "num1 = float(input(\"Enter the first number: \"))\n",
    "num2 = float(input(\"Enter the second number: \"))\n",
    "num3 = float(input(\"Enter the third number: \"))\n",
    "\n",
    "# Determine the largest using nested if-else statements\n",
    "if num1 >= num2:\n",
    "    if num1 >= num3:\n",
    "        largest = num1\n",
    "    else:\n",
    "        largest = num3\n",
    "else:\n",
    "    if num2 >= num3:\n",
    "        largest = num2\n",
    "    else:\n",
    "        largest = num3\n",
    "\n",
    "print(\"Largest number:\", largest)"
   ]
  },
  {
   "cell_type": "markdown",
   "metadata": {},
   "source": [
    "### 12. Implement a program to determine if a triangle is equilateral, isosceles, or scalene.\n"
   ]
  },
  {
   "cell_type": "code",
   "execution_count": 13,
   "metadata": {},
   "outputs": [
    {
     "name": "stdout",
     "output_type": "stream",
     "text": [
      "Triangle type: Equilateral\n"
     ]
    }
   ],
   "source": [
    "# Input: Lengths of the three sides of the triangle\n",
    "side1 = float(input(\"Enter the length of side 1: \"))\n",
    "side2 = float(input(\"Enter the length of side 2: \"))\n",
    "side3 = float(input(\"Enter the length of side 3: \"))\n",
    "\n",
    "# Check the type of triangle using if-else statements\n",
    "if side1 == side2 == side3:\n",
    "    triangle_type = \"Equilateral\"\n",
    "elif side1 == side2 or side1 == side3 or side2 == side3:\n",
    "    triangle_type = \"Isosceles\"\n",
    "else:\n",
    "    triangle_type = \"Scalene\"\n",
    "\n",
    "print(\"Triangle type:\", triangle_type)"
   ]
  },
  {
   "cell_type": "markdown",
   "metadata": {},
   "source": [
    "### 13. Develop a program that checks if a year is a leap year and also if it is a century year.\n"
   ]
  },
  {
   "cell_type": "code",
   "execution_count": 14,
   "metadata": {},
   "outputs": [
    {
     "name": "stdout",
     "output_type": "stream",
     "text": [
      "Leap year: False\n",
      "Century year: True\n"
     ]
    }
   ],
   "source": [
    "# Input: Year to check\n",
    "year = int(input(\"Enter a year: \"))\n",
    "\n",
    "# Check if it's a leap year and a century year using if-else statements\n",
    "if (year % 4 == 0 and year % 100 != 0) or (year % 400 == 0):\n",
    "    leap_year = True\n",
    "else:\n",
    "    leap_year = False\n",
    "\n",
    "if year % 100 == 0:\n",
    "    century_year = True\n",
    "else:\n",
    "    century_year = False\n",
    "\n",
    "print(\"Leap year:\", leap_year)\n",
    "print(\"Century year:\", century_year)"
   ]
  },
  {
   "cell_type": "markdown",
   "metadata": {},
   "source": [
    "### 14. Write a Python script to determine if a number is positive, negative, or zero.\n"
   ]
  },
  {
   "cell_type": "code",
   "execution_count": 15,
   "metadata": {},
   "outputs": [
    {
     "name": "stdout",
     "output_type": "stream",
     "text": [
      "Positive number\n"
     ]
    }
   ],
   "source": [
    "# Input: Number to check\n",
    "number = float(input(\"Enter a number: \"))\n",
    "\n",
    "# Check if it's positive, negative, or zero using if-else statements\n",
    "if number > 0:\n",
    "    print(\"Positive number\")\n",
    "elif number < 0:\n",
    "    print(\"Negative number\")\n",
    "else:\n",
    "    print(\"Zero\")"
   ]
  },
  {
   "cell_type": "markdown",
   "metadata": {},
   "source": [
    "### 15. Create a program to check if a person is a teenager (between 13 and 19 years old).\n"
   ]
  },
  {
   "cell_type": "code",
   "execution_count": 16,
   "metadata": {},
   "outputs": [
    {
     "name": "stdout",
     "output_type": "stream",
     "text": [
      "You are not a teenager.\n"
     ]
    }
   ],
   "source": [
    "# Input: Age of the person\n",
    "age = int(input(\"Enter your age: \"))\n",
    "\n",
    "# Check if the person is a teenager using if-else statements\n",
    "if 13 <= age <= 19:\n",
    "    print(\"You are a teenager.\")\n",
    "else:\n",
    "    print(\"You are not a teenager.\")"
   ]
  },
  {
   "cell_type": "markdown",
   "metadata": {},
   "source": [
    "### 16. Develop a program that determines the type of angle based on its measure (acute, obtuse, or right).\n"
   ]
  },
  {
   "cell_type": "code",
   "execution_count": 17,
   "metadata": {},
   "outputs": [
    {
     "name": "stdout",
     "output_type": "stream",
     "text": [
      "Angle type: Obtuse\n"
     ]
    }
   ],
   "source": [
    "# Input: Measure of the angle in degrees\n",
    "angle = float(input(\"Enter the measure of the angle: \"))\n",
    "\n",
    "# Determine the type of angle using if-else statements\n",
    "if angle < 90:\n",
    "    angle_type = \"Acute\"\n",
    "elif angle == 90:\n",
    "    angle_type = \"Right\"\n",
    "else:\n",
    "    angle_type = \"Obtuse\"\n",
    "\n",
    "print(\"Angle type:\", angle_type)"
   ]
  },
  {
   "cell_type": "markdown",
   "metadata": {},
   "source": [
    "### 17. Write a Python program to calculate the roots of a quadratic equation.\n"
   ]
  },
  {
   "cell_type": "code",
   "execution_count": 18,
   "metadata": {},
   "outputs": [
    {
     "name": "stdout",
     "output_type": "stream",
     "text": [
      "Two real and distinct roots: -0.42264973081037427 and -1.5773502691896255\n"
     ]
    }
   ],
   "source": [
    "import math\n",
    "\n",
    "# Input: Coefficients of the quadratic equation\n",
    "a = float(input(\"Enter coefficient a: \"))\n",
    "b = float(input(\"Enter coefficient b: \"))\n",
    "c = float(input(\"Enter coefficient c: \"))\n",
    "\n",
    "# Calculate the discriminant\n",
    "discriminant = b**2 - 4*a*c\n",
    "\n",
    "# Determine the roots using if-else statements\n",
    "if discriminant > 0:\n",
    "    root1 = (-b + math.sqrt(discriminant)) / (2*a)\n",
    "    root2 = (-b - math.sqrt(discriminant)) / (2*a)\n",
    "    print(\"Two real and distinct roots:\", root1, \"and\", root2)\n",
    "elif discriminant == 0:\n",
    "    root1 = root2 = -b / (2*a)\n",
    "    print(\"Two real and equal roots:\", root1)\n",
    "else:\n",
    "    real_part = -b / (2*a)\n",
    "    imaginary_part = math.sqrt(abs(discriminant)) / (2*a)\n",
    "    print(\"Two complex roots:\", real_part, \"+\", imaginary_part, \"i and\", real_part, \"-\", imaginary_part, \"i\")"
   ]
  },
  {
   "cell_type": "markdown",
   "metadata": {},
   "source": [
    "### 18. Implement a program to determine the day of the week based on a user-provided number (1 for Monday, 2 for Tuesday, etc.).\n"
   ]
  },
  {
   "cell_type": "code",
   "execution_count": 19,
   "metadata": {},
   "outputs": [
    {
     "name": "stdout",
     "output_type": "stream",
     "text": [
      "Day of the week: Thursday\n"
     ]
    }
   ],
   "source": [
    "# Input: Number representing the day of the week\n",
    "day_number = int(input(\"Enter a number (1-7) representing the day of the week: \"))\n",
    "\n",
    "# Determine the day of the week using if-else statements\n",
    "if day_number == 1:\n",
    "    day = \"Monday\"\n",
    "elif day_number == 2:\n",
    "    day = \"Tuesday\"\n",
    "elif day_number == 3:\n",
    "    day = \"Wednesday\"\n",
    "elif day_number == 4:\n",
    "    day = \"Thursday\"\n",
    "elif day_number == 5:\n",
    "    day = \"Friday\"\n",
    "elif day_number == 6:\n",
    "    day = \"Saturday\"\n",
    "elif day_number == 7:\n",
    "    day = \"Sunday\"\n",
    "else:\n",
    "    day = \"Invalid input\"\n",
    "\n",
    "print(\"Day of the week:\", day)"
   ]
  },
  {
   "cell_type": "markdown",
   "metadata": {},
   "source": [
    "### 19. Create a program that determines if a year is a leap year and also if it is evenly divisible by 400.\n"
   ]
  },
  {
   "cell_type": "code",
   "execution_count": 20,
   "metadata": {},
   "outputs": [
    {
     "name": "stdout",
     "output_type": "stream",
     "text": [
      "Leap year: False\n"
     ]
    }
   ],
   "source": [
    "# Input: Year to check\n",
    "year = int(input(\"Enter a year: \"))\n",
    "\n",
    "# Check if it's a leap year and divisible by 400 using if-else statements\n",
    "if year % 400 == 0:\n",
    "    leap_year = True\n",
    "else:\n",
    "    leap_year = False\n",
    "\n",
    "print(\"Leap year:\", leap_year)"
   ]
  },
  {
   "cell_type": "markdown",
   "metadata": {},
   "source": [
    "### 20. Develop a program that checks if a given number is prime or not using nested if-else statements.\n"
   ]
  },
  {
   "cell_type": "code",
   "execution_count": 21,
   "metadata": {},
   "outputs": [
    {
     "name": "stdout",
     "output_type": "stream",
     "text": [
      "5 is prime.\n"
     ]
    }
   ],
   "source": [
    "# Input: Number to check\n",
    "number = int(input(\"Enter a number: \"))\n",
    "\n",
    "# Check if it's prime using nested if-else statements\n",
    "if number <= 1:\n",
    "    is_prime = False\n",
    "else:\n",
    "    is_prime = True\n",
    "    for i in range(2, int(number**0.5) + 1):\n",
    "        if number % i == 0:\n",
    "            is_prime = False\n",
    "            break\n",
    "\n",
    "if is_prime:\n",
    "    print(number, \"is prime.\")\n",
    "else:\n",
    "    print(number, \"is not prime.\")"
   ]
  },
  {
   "cell_type": "markdown",
   "metadata": {},
   "source": [
    "## **Elif Statements**"
   ]
  },
  {
   "cell_type": "markdown",
   "metadata": {},
   "source": [
    "### 21. Write a Python program to assign grades based on different ranges of scores using elif statements.\n"
   ]
  },
  {
   "cell_type": "code",
   "execution_count": 22,
   "metadata": {},
   "outputs": [
    {
     "name": "stdout",
     "output_type": "stream",
     "text": [
      "Grade: F\n"
     ]
    }
   ],
   "source": [
    "# Input: Student's score\n",
    "score = float(input(\"Enter the student's score: \"))\n",
    "\n",
    "# Assign grades based on score ranges using elif statements\n",
    "if score >= 90:\n",
    "    grade = 'A'\n",
    "elif score >= 80:\n",
    "    grade = 'B'\n",
    "elif score >= 70:\n",
    "    grade = 'C'\n",
    "elif score >= 60:\n",
    "    grade = 'D'\n",
    "else:\n",
    "    grade = 'F'\n",
    "\n",
    "print(\"Grade:\", grade)"
   ]
  },
  {
   "cell_type": "markdown",
   "metadata": {},
   "source": [
    "### 22. Implement a program to determine the type of a triangle based on its angles.\n"
   ]
  },
  {
   "cell_type": "code",
   "execution_count": 23,
   "metadata": {},
   "outputs": [
    {
     "name": "stdout",
     "output_type": "stream",
     "text": [
      "Triangle type: Invalid\n"
     ]
    }
   ],
   "source": [
    "# Input: Angles of the triangle\n",
    "angle1 = float(input(\"Enter the first angle: \"))\n",
    "angle2 = float(input(\"Enter the second angle: \"))\n",
    "angle3 = float(input(\"Enter the third angle: \"))\n",
    "\n",
    "# Determine the type of triangle based on angles using elif statements\n",
    "if angle1 == angle2 == angle3 == 60:\n",
    "    triangle_type = \"Equilateral\"\n",
    "elif angle1 + angle2 + angle3 == 180:\n",
    "    if angle1 == angle2 or angle1 == angle3 or angle2 == angle3:\n",
    "        triangle_type = \"Isosceles\"\n",
    "    else:\n",
    "        triangle_type = \"Scalene\"\n",
    "else:\n",
    "    triangle_type = \"Invalid\"\n",
    "\n",
    "print(\"Triangle type:\", triangle_type)"
   ]
  },
  {
   "cell_type": "markdown",
   "metadata": {},
   "source": [
    "### 23. Develop a program to categorize a given person's BMI into underweight, normal, overweight, or obese using elif statements.\n"
   ]
  },
  {
   "cell_type": "code",
   "execution_count": 24,
   "metadata": {},
   "outputs": [
    {
     "name": "stdout",
     "output_type": "stream",
     "text": [
      "BMI Category: Underweight\n"
     ]
    }
   ],
   "source": [
    "# Input: Person's weight (kg) and height (m)\n",
    "weight = float(input(\"Enter weight in kg: \"))\n",
    "height = float(input(\"Enter height in meters: \"))\n",
    "\n",
    "# Calculate BMI\n",
    "bmi = weight / (height ** 2)\n",
    "\n",
    "# Categorize BMI using elif statements\n",
    "if bmi < 18.5:\n",
    "    category = \"Underweight\"\n",
    "elif 18.5 <= bmi < 24.9:\n",
    "    category = \"Normal\"\n",
    "elif 24.9 <= bmi < 29.9:\n",
    "    category = \"Overweight\"\n",
    "else:\n",
    "    category = \"Obese\"\n",
    "\n",
    "print(\"BMI Category:\", category)"
   ]
  },
  {
   "cell_type": "markdown",
   "metadata": {},
   "source": [
    "### 24. Create a program that determines whether a given number is positive, negative, or zero using elif statements.\n"
   ]
  },
  {
   "cell_type": "code",
   "execution_count": 25,
   "metadata": {},
   "outputs": [
    {
     "name": "stdout",
     "output_type": "stream",
     "text": [
      "Positive number\n"
     ]
    }
   ],
   "source": [
    "# Input: Number to check\n",
    "number = float(input(\"Enter a number: \"))\n",
    "\n",
    "# Determine if it's positive, negative, or zero using elif statements\n",
    "if number > 0:\n",
    "    print(\"Positive number\")\n",
    "elif number < 0:\n",
    "    print(\"Negative number\")\n",
    "else:\n",
    "    print(\"Zero\")"
   ]
  },
  {
   "cell_type": "markdown",
   "metadata": {},
   "source": [
    "### 25. Write a Python script to determine the type of a character (uppercase, lowercase, or special) using elif statements.\n"
   ]
  },
  {
   "cell_type": "code",
   "execution_count": 26,
   "metadata": {},
   "outputs": [
    {
     "name": "stdout",
     "output_type": "stream",
     "text": [
      "Character type: Lowercase\n"
     ]
    }
   ],
   "source": [
    "# Input: Character to check\n",
    "char = input(\"Enter a character: \")\n",
    "\n",
    "# Determine the type of character using elif statements\n",
    "if char.isupper():\n",
    "    char_type = \"Uppercase\"\n",
    "elif char.islower():\n",
    "    char_type = \"Lowercase\"\n",
    "else:\n",
    "    char_type = \"Special\"\n",
    "\n",
    "print(\"Character type:\", char_type)"
   ]
  },
  {
   "cell_type": "markdown",
   "metadata": {},
   "source": [
    "### 26. Implement a program to calculate the discounted price based on different purchase amounts using elif statements.\n"
   ]
  },
  {
   "cell_type": "code",
   "execution_count": 27,
   "metadata": {},
   "outputs": [
    {
     "name": "stdout",
     "output_type": "stream",
     "text": [
      "Discounted price: 2070.0\n"
     ]
    }
   ],
   "source": [
    "# Input: Purchase amount\n",
    "purchase_amount = float(input(\"Enter the purchase amount: \"))\n",
    "\n",
    "# Calculate discounted price using elif statements\n",
    "if purchase_amount >= 1000:\n",
    "    discount = 0.1  # 10% discount for purchases >= 1000\n",
    "elif purchase_amount >= 500:\n",
    "    discount = 0.05  # 5% discount for purchases >= 500\n",
    "else:\n",
    "    discount = 0  # No discount for purchases < 500\n",
    "\n",
    "discounted_price = purchase_amount - (purchase_amount * discount)\n",
    "print(\"Discounted price:\", discounted_price)"
   ]
  },
  {
   "cell_type": "markdown",
   "metadata": {},
   "source": [
    "### 27. Develop a program to calculate the electricity bill based on different consumption slabs using elif statements.\n"
   ]
  },
  {
   "cell_type": "code",
   "execution_count": 28,
   "metadata": {},
   "outputs": [
    {
     "name": "stdout",
     "output_type": "stream",
     "text": [
      "Electricity bill: 34.5\n"
     ]
    }
   ],
   "source": [
    "# Input: Electricity consumption in kWh\n",
    "consumption = float(input(\"Enter electricity consumption in kWh: \"))\n",
    "\n",
    "# Calculate electricity bill using elif statements\n",
    "if consumption <= 100:\n",
    "    bill = consumption * 1.5\n",
    "elif consumption <= 200:\n",
    "    bill = 100 * 1.5 + (consumption - 100) * 2\n",
    "else:\n",
    "    bill = 100 * 1.5 + 100 * 2 + (consumption - 200) * 3\n",
    "\n",
    "print(\"Electricity bill:\", bill)"
   ]
  },
  {
   "cell_type": "markdown",
   "metadata": {},
   "source": [
    "### 28. Create a program to determine the type of quadrilateral based on its angles and sides using elif statements.\n"
   ]
  },
  {
   "cell_type": "code",
   "execution_count": 29,
   "metadata": {},
   "outputs": [
    {
     "name": "stdout",
     "output_type": "stream",
     "text": [
      "Quadrilateral type: Rectangle\n"
     ]
    }
   ],
   "source": [
    "# Input: Angles and sides of the quadrilateral\n",
    "angle1 = float(input(\"Enter the first angle: \"))\n",
    "angle2 = float(input(\"Enter the second angle: \"))\n",
    "angle3 = float(input(\"Enter the third angle: \"))\n",
    "angle4 = float(input(\"Enter the fourth angle: \"))\n",
    "\n",
    "side1 = float(input(\"Enter the length of side 1: \"))\n",
    "side2 = float(input(\"Enter the length of side 2: \"))\n",
    "side3 = float(input(\"Enter the length of side 3: \"))\n",
    "side4 = float(input(\"Enter the length of side 4: \"))\n",
    "\n",
    "# Determine the type of quadrilateral using elif statements\n",
    "if angle1 == angle2 == angle3 == angle4 == 90:\n",
    "    quadrilateral_type = \"Rectangle\"\n",
    "elif angle1 == angle2 == angle3 == angle4 != 90:\n",
    "    quadrilateral_type = \"Rhombus\"\n",
    "elif angle1 == angle2 == angle3 == angle4 == 90 and side1 == side2 == side3 == side4:\n",
    "    quadrilateral_type = \"Square\"\n",
    "elif side1 == side2 == side3 == side4:\n",
    "    quadrilateral_type = \"Quadrilateral\"\n",
    "else:\n",
    "    quadrilateral_type = \"Irregular\"\n",
    "\n",
    "print(\"Quadrilateral type:\", quadrilateral_type)"
   ]
  },
  {
   "cell_type": "markdown",
   "metadata": {},
   "source": [
    "### 29. Write a Python script to determine the season based on a user-provided month using elif statements.\n"
   ]
  },
  {
   "cell_type": "code",
   "execution_count": 30,
   "metadata": {},
   "outputs": [
    {
     "name": "stdout",
     "output_type": "stream",
     "text": [
      "Season: Summer\n"
     ]
    }
   ],
   "source": [
    "# Input: Month as a number (1-12)\n",
    "month = int(input(\"Enter the month (1-12): \"))\n",
    "\n",
    "# Determine the season using elif statements\n",
    "if 3 <= month <= 5:\n",
    "    season = \"Spring\"\n",
    "elif 6 <= month <= 8:\n",
    "    season = \"Summer\"\n",
    "elif 9 <= month <= 11:\n",
    "    season = \"Autumn\"\n",
    "else:\n",
    "    season = \"Winter\"\n",
    "\n",
    "print(\"Season:\", season)"
   ]
  },
  {
   "cell_type": "markdown",
   "metadata": {},
   "source": [
    "### 30. Implement a program to determine the type of a year (leap or common) and month (30 or 31 days) using elif statements.\n"
   ]
  },
  {
   "cell_type": "code",
   "execution_count": 31,
   "metadata": {},
   "outputs": [
    {
     "name": "stdout",
     "output_type": "stream",
     "text": [
      "Common Year\n",
      "Number of days in the month: 30\n"
     ]
    }
   ],
   "source": [
    "# Input: Year and month\n",
    "year = int(input(\"Enter a year: \"))\n",
    "month = int(input(\"Enter a month (1-12): \"))\n",
    "\n",
    "# Determine the type of year (leap or common) using elif statements\n",
    "if (year % 4 == 0 and year % 100 != 0) or (year % 400 == 0):\n",
    "    year_type = \"Leap Year\"\n",
    "else:\n",
    "    year_type = \"Common Year\"\n",
    "\n",
    "# Determine the number of days in the month using elif statements\n",
    "if month in [4, 6, 9, 11]:\n",
    "    days = 30\n",
    "elif month == 2:\n",
    "    days = 29 if year_type == \"Leap Year\" else 28\n",
    "else:\n",
    "    days = 31\n",
    "\n",
    "print(year_type)\n",
    "print(\"Number of days in the month:\", days)\n"
   ]
  },
  {
   "cell_type": "markdown",
   "metadata": {},
   "source": [
    "## **Basic Level**"
   ]
  },
  {
   "cell_type": "markdown",
   "metadata": {},
   "source": [
    "### 1. Write a Python program to check if a given number is positive, negative, or zero.\n"
   ]
  },
  {
   "cell_type": "code",
   "execution_count": 32,
   "metadata": {},
   "outputs": [
    {
     "name": "stdout",
     "output_type": "stream",
     "text": [
      "Positive number\n"
     ]
    }
   ],
   "source": [
    "# Input: Number to check\n",
    "number = float(input(\"Enter a number: \"))\n",
    "\n",
    "# Check if it's positive, negative, or zero\n",
    "if number > 0:\n",
    "    print(\"Positive number\")\n",
    "elif number < 0:\n",
    "    print(\"Negative number\")\n",
    "else:\n",
    "    print(\"Zero\")\n"
   ]
  },
  {
   "cell_type": "markdown",
   "metadata": {},
   "source": [
    "### 2. Create a program to determine if a person is eligible to vote based on their age.\n"
   ]
  },
  {
   "cell_type": "code",
   "execution_count": 33,
   "metadata": {},
   "outputs": [
    {
     "name": "stdout",
     "output_type": "stream",
     "text": [
      "You are not eligible to vote.\n"
     ]
    }
   ],
   "source": [
    "# Input: Age of the person\n",
    "age = int(input(\"Enter your age: \"))\n",
    "\n",
    "# Check eligibility to vote\n",
    "if age >= 18:\n",
    "    print(\"You are eligible to vote.\")\n",
    "else:\n",
    "    print(\"You are not eligible to vote.\")"
   ]
  },
  {
   "cell_type": "markdown",
   "metadata": {},
   "source": [
    "### 3. Write a program to find the maximum of two given numbers using conditional statements.\n"
   ]
  },
  {
   "cell_type": "code",
   "execution_count": 34,
   "metadata": {},
   "outputs": [
    {
     "name": "stdout",
     "output_type": "stream",
     "text": [
      "Maximum: 6.0\n"
     ]
    }
   ],
   "source": [
    "# Input: Two numbers\n",
    "num1 = float(input(\"Enter the first number: \"))\n",
    "num2 = float(input(\"Enter the second number: \"))\n",
    "\n",
    "# Determine the maximum\n",
    "if num1 > num2:\n",
    "    print(\"Maximum:\", num1)\n",
    "else:\n",
    "    print(\"Maximum:\", num2)"
   ]
  },
  {
   "cell_type": "markdown",
   "metadata": {},
   "source": [
    "### 4. Develop a program that calculates the grade of a student based on their exam score.\n"
   ]
  },
  {
   "cell_type": "code",
   "execution_count": 35,
   "metadata": {},
   "outputs": [
    {
     "name": "stdout",
     "output_type": "stream",
     "text": [
      "Grade: F\n"
     ]
    }
   ],
   "source": [
    "# Input: Exam score\n",
    "score = float(input(\"Enter the exam score: \"))\n",
    "\n",
    "# Determine the grade\n",
    "if 90 <= score <= 100:\n",
    "    grade = 'A'\n",
    "elif 80 <= score < 90:\n",
    "    grade = 'B'\n",
    "elif 70 <= score < 80:\n",
    "    grade = 'C'\n",
    "elif 60 <= score < 70:\n",
    "    grade = 'D'\n",
    "else:\n",
    "    grade = 'F'\n",
    "\n",
    "print(\"Grade:\", grade)"
   ]
  },
  {
   "cell_type": "markdown",
   "metadata": {},
   "source": [
    "### 5. Create a program that checks if a year is a leap year or not.\n"
   ]
  },
  {
   "cell_type": "code",
   "execution_count": 36,
   "metadata": {},
   "outputs": [
    {
     "name": "stdout",
     "output_type": "stream",
     "text": [
      "2043 is not a leap year.\n"
     ]
    }
   ],
   "source": [
    "# Input: Year to check\n",
    "year = int(input(\"Enter a year: \"))\n",
    "\n",
    "# Check if it's a leap year\n",
    "if (year % 4 == 0 and year % 100 != 0) or (year % 400 == 0):\n",
    "    print(year, \"is a leap year.\")\n",
    "else:\n",
    "    print(year, \"is not a leap year.\")"
   ]
  },
  {
   "cell_type": "markdown",
   "metadata": {},
   "source": [
    "### 6. Write a program to classify a triangle based on its sides' lengths.\n"
   ]
  },
  {
   "cell_type": "code",
   "execution_count": 37,
   "metadata": {},
   "outputs": [
    {
     "name": "stdout",
     "output_type": "stream",
     "text": [
      "Triangle type: Isosceles\n"
     ]
    }
   ],
   "source": [
    "# Input: Lengths of the three sides of the triangle\n",
    "side1 = float(input(\"Enter the length of side 1: \"))\n",
    "side2 = float(input(\"Enter the length of side 2: \"))\n",
    "side3 = float(input(\"Enter the length of side 3: \"))\n",
    "\n",
    "# Determine the type of triangle\n",
    "if side1 == side2 == side3:\n",
    "    triangle_type = \"Equilateral\"\n",
    "elif side1 == side2 or side1 == side3 or side2 == side3:\n",
    "    triangle_type = \"Isosceles\"\n",
    "else:\n",
    "    triangle_type = \"Scalene\"\n",
    "\n",
    "print(\"Triangle type:\", triangle_type)"
   ]
  },
  {
   "cell_type": "markdown",
   "metadata": {},
   "source": [
    "### 7. Build a program that determines the largest of three given numbers.\n"
   ]
  },
  {
   "cell_type": "code",
   "execution_count": 38,
   "metadata": {},
   "outputs": [
    {
     "name": "stdout",
     "output_type": "stream",
     "text": [
      "Largest: 87.0\n"
     ]
    }
   ],
   "source": [
    "# Input: Three numbers\n",
    "num1 = float(input(\"Enter the first number: \"))\n",
    "num2 = float(input(\"Enter the second number: \"))\n",
    "num3 = float(input(\"Enter the third number: \"))\n",
    "\n",
    "# Determine the largest\n",
    "if num1 >= num2 and num1 >= num3:\n",
    "    print(\"Largest:\", num1)\n",
    "elif num2 >= num1 and num2 >= num3:\n",
    "    print(\"Largest:\", num2)\n",
    "else:\n",
    "    print(\"Largest:\", num3)"
   ]
  },
  {
   "cell_type": "markdown",
   "metadata": {},
   "source": [
    "### 8. Develop a program that checks whether a character is a vowel or a consonant.\n"
   ]
  },
  {
   "cell_type": "code",
   "execution_count": 39,
   "metadata": {},
   "outputs": [
    {
     "name": "stdout",
     "output_type": "stream",
     "text": [
      "s is a consonant.\n"
     ]
    }
   ],
   "source": [
    "# Input: Character to check\n",
    "char = input(\"Enter a character: \").lower()\n",
    "\n",
    "# Check if it's a vowel or consonant\n",
    "if char.isalpha() and len(char) == 1:\n",
    "    if char in 'aeiou':\n",
    "        print(char, \"is a vowel.\")\n",
    "    else:\n",
    "        print(char, \"is a consonant.\")\n",
    "else:\n",
    "    print(\"Invalid input.\")"
   ]
  },
  {
   "cell_type": "markdown",
   "metadata": {},
   "source": [
    "### 9. Create a program to calculate the total cost of a shopping cart based on discounts.\n"
   ]
  },
  {
   "cell_type": "code",
   "execution_count": 40,
   "metadata": {},
   "outputs": [
    {
     "name": "stdout",
     "output_type": "stream",
     "text": [
      "Discounted cost: 45.0\n"
     ]
    }
   ],
   "source": [
    "# Input: Total cost of items in the shopping cart\n",
    "total_cost = float(input(\"Enter the total cost of items: \"))\n",
    "\n",
    "# Calculate the total cost with discounts\n",
    "if total_cost >= 100:\n",
    "    discount = 0.1  # 10% discount for purchases >= 100\n",
    "else:\n",
    "    discount = 0\n",
    "\n",
    "discounted_cost = total_cost - (total_cost * discount)\n",
    "print(\"Discounted cost:\", discounted_cost)"
   ]
  },
  {
   "cell_type": "markdown",
   "metadata": {},
   "source": [
    "### 10. Write a program that checks if a given number is even or odd."
   ]
  },
  {
   "cell_type": "code",
   "execution_count": 41,
   "metadata": {},
   "outputs": [
    {
     "name": "stdout",
     "output_type": "stream",
     "text": [
      "6 is even.\n"
     ]
    }
   ],
   "source": [
    "# Input: Number to check\n",
    "number = int(input(\"Enter a number: \"))\n",
    "\n",
    "# Check if it's even or odd\n",
    "if number % 2 == 0:\n",
    "    print(number, \"is even.\")\n",
    "else:\n",
    "    print(number, \"is odd.\")"
   ]
  },
  {
   "cell_type": "markdown",
   "metadata": {},
   "source": [
    "## **Intermediate Level**\n",
    "\n"
   ]
  },
  {
   "cell_type": "markdown",
   "metadata": {},
   "source": [
    "### 11. Write a program that calculates the roots of a quadratic equation.\n"
   ]
  },
  {
   "cell_type": "code",
   "execution_count": 42,
   "metadata": {},
   "outputs": [
    {
     "name": "stdout",
     "output_type": "stream",
     "text": [
      "Two real and distinct roots: 0.35078105935821213 and -2.850781059358212\n"
     ]
    }
   ],
   "source": [
    "import math\n",
    "\n",
    "# Input: Coefficients of the quadratic equation\n",
    "a = float(input(\"Enter coefficient a: \"))\n",
    "b = float(input(\"Enter coefficient b: \"))\n",
    "c = float(input(\"Enter coefficient c: \"))\n",
    "\n",
    "# Calculate the discriminant\n",
    "discriminant = b**2 - 4*a*c\n",
    "\n",
    "# Calculate roots based on the discriminant\n",
    "if discriminant > 0:\n",
    "    root1 = (-b + math.sqrt(discriminant)) / (2*a)\n",
    "    root2 = (-b - math.sqrt(discriminant)) / (2*a)\n",
    "    print(\"Two real and distinct roots:\", root1, \"and\", root2)\n",
    "elif discriminant == 0:\n",
    "    root1 = root2 = -b / (2*a)\n",
    "    print(\"Two real and equal roots:\", root1)\n",
    "else:\n",
    "    real_part = -b / (2*a)\n",
    "    imaginary_part = math.sqrt(abs(discriminant)) / (2*a)\n",
    "    print(\"Two complex roots:\", real_part, \"+\", imaginary_part, \"i and\", real_part, \"-\", imaginary_part, \"i\")\n"
   ]
  },
  {
   "cell_type": "markdown",
   "metadata": {},
   "source": [
    "### 12. Create a program that determines the day of the week based on the day number (1-7).\n"
   ]
  },
  {
   "cell_type": "code",
   "execution_count": 43,
   "metadata": {},
   "outputs": [
    {
     "name": "stdout",
     "output_type": "stream",
     "text": [
      "Day of the week: Saturday\n"
     ]
    }
   ],
   "source": [
    "# Input: Day number (1-7)\n",
    "day_number = int(input(\"Enter a day number (1-7): \"))\n",
    "\n",
    "# Determine the day of the week\n",
    "if day_number == 1:\n",
    "    day = \"Monday\"\n",
    "elif day_number == 2:\n",
    "    day = \"Tuesday\"\n",
    "elif day_number == 3:\n",
    "    day = \"Wednesday\"\n",
    "elif day_number == 4:\n",
    "    day = \"Thursday\"\n",
    "elif day_number == 5:\n",
    "    day = \"Friday\"\n",
    "elif day_number == 6:\n",
    "    day = \"Saturday\"\n",
    "elif day_number == 7:\n",
    "    day = \"Sunday\"\n",
    "else:\n",
    "    day = \"Invalid input\"\n",
    "\n",
    "print(\"Day of the week:\", day)\n"
   ]
  },
  {
   "cell_type": "markdown",
   "metadata": {},
   "source": [
    "### 13. Develop a program that calculates the factorial of a given number using recursion.\n"
   ]
  },
  {
   "cell_type": "code",
   "execution_count": 44,
   "metadata": {},
   "outputs": [
    {
     "name": "stdout",
     "output_type": "stream",
     "text": [
      "Factorial of 7 is 5040\n"
     ]
    }
   ],
   "source": [
    "# Recursive function to calculate factorial\n",
    "def factorial(n):\n",
    "    if n == 0:\n",
    "        return 1\n",
    "    else:\n",
    "        return n * factorial(n - 1)\n",
    "\n",
    "# Input: Number to find factorial of\n",
    "num = int(input(\"Enter a number: \"))\n",
    "\n",
    "if num < 0:\n",
    "    print(\"Factorial is not defined for negative numbers.\")\n",
    "else:\n",
    "    result = factorial(num)\n",
    "    print(\"Factorial of\", num, \"is\", result)"
   ]
  },
  {
   "cell_type": "markdown",
   "metadata": {},
   "source": [
    "### 14. Write a program to find the largest among three numbers without using the `max()` function.\n"
   ]
  },
  {
   "cell_type": "code",
   "execution_count": 45,
   "metadata": {},
   "outputs": [
    {
     "name": "stdout",
     "output_type": "stream",
     "text": [
      "Largest number: 5.0\n"
     ]
    }
   ],
   "source": [
    "# Input: Three numbers\n",
    "num1 = float(input(\"Enter the first number: \"))\n",
    "num2 = float(input(\"Enter the second number: \"))\n",
    "num3 = float(input(\"Enter the third number: \"))\n",
    "\n",
    "# Determine the largest without using max()\n",
    "if num1 >= num2 and num1 >= num3:\n",
    "    largest = num1\n",
    "elif num2 >= num1 and num2 >= num3:\n",
    "    largest = num2\n",
    "else:\n",
    "    largest = num3\n",
    "\n",
    "print(\"Largest number:\", largest)"
   ]
  },
  {
   "cell_type": "markdown",
   "metadata": {},
   "source": [
    "### 15. Create a program that simulates a basic ATM transaction menu.\n"
   ]
  },
  {
   "cell_type": "code",
   "execution_count": 46,
   "metadata": {},
   "outputs": [
    {
     "name": "stdout",
     "output_type": "stream",
     "text": [
      "1. Check Balance\n",
      "2. Deposit\n",
      "3. Withdraw\n",
      "4. Exit\n",
      "Balance: $ 1000\n",
      "1. Check Balance\n",
      "2. Deposit\n",
      "3. Withdraw\n",
      "4. Exit\n",
      "Deposit successful. New balance: $ 1300.0\n",
      "1. Check Balance\n",
      "2. Deposit\n",
      "3. Withdraw\n",
      "4. Exit\n",
      "Withdrawal successful. New balance: $ 800.0\n",
      "1. Check Balance\n",
      "2. Deposit\n",
      "3. Withdraw\n",
      "4. Exit\n",
      "Exiting ATM. Have a nice day!\n"
     ]
    }
   ],
   "source": [
    "# Initial account balance\n",
    "balance = 1000\n",
    "\n",
    "while True:\n",
    "    print(\"1. Check Balance\")\n",
    "    print(\"2. Deposit\")\n",
    "    print(\"3. Withdraw\")\n",
    "    print(\"4. Exit\")\n",
    "    \n",
    "    choice = int(input(\"Enter your choice: \"))\n",
    "    \n",
    "    if choice == 1:\n",
    "        print(\"Balance: $\", balance)\n",
    "    elif choice == 2:\n",
    "        amount = float(input(\"Enter deposit amount: $\"))\n",
    "        balance += amount\n",
    "        print(\"Deposit successful. New balance: $\", balance)\n",
    "    elif choice == 3:\n",
    "        amount = float(input(\"Enter withdrawal amount: $\"))\n",
    "        if amount <= balance:\n",
    "            balance -= amount\n",
    "            print(\"Withdrawal successful. New balance: $\", balance)\n",
    "        else:\n",
    "            print(\"Insufficient funds.\")\n",
    "    elif choice == 4:\n",
    "        print(\"Exiting ATM. Have a nice day!\")\n",
    "        break\n",
    "    else:\n",
    "        print(\"Invalid choice. Please select a valid option.\")"
   ]
  },
  {
   "cell_type": "markdown",
   "metadata": {},
   "source": [
    "### 16. Build a program that checks if a given string is a palindrome or not.\n"
   ]
  },
  {
   "cell_type": "code",
   "execution_count": 47,
   "metadata": {},
   "outputs": [
    {
     "name": "stdout",
     "output_type": "stream",
     "text": [
      "Palindrome\n"
     ]
    }
   ],
   "source": [
    "# Input: String to check\n",
    "text = input(\"Enter a string: \")\n",
    "\n",
    "# Remove spaces and convert to lowercase for case-insensitive check\n",
    "cleaned_text = text.replace(\" \", \"\").lower()\n",
    "\n",
    "# Check if it's a palindrome\n",
    "if cleaned_text == cleaned_text[::-1]:\n",
    "    print(\"Palindrome\")\n",
    "else:\n",
    "    print(\"Not a palindrome\")"
   ]
  },
  {
   "cell_type": "markdown",
   "metadata": {},
   "source": [
    "### 17. Write a program that calculates the average of a list of numbers, excluding the smallest and largest values.\n"
   ]
  },
  {
   "cell_type": "code",
   "execution_count": 48,
   "metadata": {},
   "outputs": [
    {
     "name": "stdout",
     "output_type": "stream",
     "text": [
      "Average (excluding smallest and largest): 4.0\n"
     ]
    }
   ],
   "source": [
    "# Input: List of numbers\n",
    "numbers = [float(x) for x in input(\"Enter numbers separated by spaces: \").split()]\n",
    "\n",
    "# Check if there are at least three numbers\n",
    "if len(numbers) >= 3:\n",
    "    # Sort the list in ascending order\n",
    "    numbers.sort()\n",
    "    \n",
    "    # Exclude the smallest and largest values\n",
    "    numbers = numbers[1:-1]\n",
    "    \n",
    "    # Calculate and print the average\n",
    "    average = sum(numbers) / len(numbers)\n",
    "    print(\"Average (excluding smallest and largest):\", average)\n",
    "else:\n",
    "    print(\"Please enter at least three numbers.\")"
   ]
  },
  {
   "cell_type": "markdown",
   "metadata": {},
   "source": [
    "### 18. Develop a program that converts a given temperature from Celsius to Fahrenheit.\n"
   ]
  },
  {
   "cell_type": "code",
   "execution_count": 49,
   "metadata": {},
   "outputs": [
    {
     "name": "stdout",
     "output_type": "stream",
     "text": [
      "Temperature in Fahrenheit: 89.6\n"
     ]
    }
   ],
   "source": [
    "# Input: Temperature in Celsius\n",
    "celsius = float(input(\"Enter temperature in Celsius: \"))\n",
    "\n",
    "# Convert to Fahrenheit\n",
    "fahrenheit = (celsius * 9/5) + 32\n",
    "\n",
    "print(\"Temperature in Fahrenheit:\", fahrenheit)\n"
   ]
  },
  {
   "cell_type": "markdown",
   "metadata": {},
   "source": [
    "### 19. Create a program that simulates a basic calculator for addition, subtraction, multiplication, and division.\n"
   ]
  },
  {
   "cell_type": "code",
   "execution_count": 50,
   "metadata": {},
   "outputs": [
    {
     "name": "stdout",
     "output_type": "stream",
     "text": [
      "Result: 11.0\n"
     ]
    }
   ],
   "source": [
    "# Input: Two numbers and operation\n",
    "num1 = float(input(\"Enter first number: \"))\n",
    "num2 = float(input(\"Enter second number: \"))\n",
    "operation = input(\"Enter operation (+, -, *, /): \")\n",
    "\n",
    "# Perform the requested operation\n",
    "if operation == '+':\n",
    "    result = num1 + num2\n",
    "elif operation == '-':\n",
    "    result = num1 - num2\n",
    "elif operation == '*':\n",
    "    result = num1 * num2\n",
    "elif operation == '/':\n",
    "    if num2 != 0:\n",
    "        result = num1 / num2\n",
    "    else:\n",
    "        result = \"Cannot divide by zero\"\n",
    "else:\n",
    "    result = \"Invalid operation\"\n",
    "\n",
    "print(\"Result:\", result)\n"
   ]
  },
  {
   "cell_type": "markdown",
   "metadata": {},
   "source": [
    "### 20. Write a program that determines the roots of a cubic equation using the Cardano formula."
   ]
  },
  {
   "cell_type": "code",
   "execution_count": 51,
   "metadata": {},
   "outputs": [
    {
     "name": "stdout",
     "output_type": "stream",
     "text": [
      "One real root: (0.692011224637506+0.9768831360163324j)\n"
     ]
    }
   ],
   "source": [
    "# Input: Coefficients of the cubic equation\n",
    "a = float(input(\"Enter coefficient a: \"))\n",
    "b = float(input(\"Enter coefficient b: \"))\n",
    "c = float(input(\"Enter coefficient c: \"))\n",
    "d = float(input(\"Enter coefficient d: \"))\n",
    "\n",
    "# Calculate intermediate values\n",
    "p = c/a - (b**2)/(3*a**2)\n",
    "q = (2*b**3)/(27*a**3) - (b*c)/(3*a**2) + d/a\n",
    "\n",
    "# Calculate discriminant\n",
    "discriminant = (q**2)/4 + (p**3)/27\n",
    "\n",
    "# Calculate roots based on discriminant\n",
    "if discriminant > 0:\n",
    "    root1 = (-q/2 + discriminant**0.5)**(1/3) + (-q/2 - discriminant**0.5)**(1/3) - b/(3*a)\n",
    "    print(\"One real root:\", root1)\n",
    "elif discriminant == 0:\n",
    "    root1 = -q/2**(1/3) - b/(3*a)\n",
    "    root2 = -(2**0.5)*root1 - b/(3*a)\n",
    "    root3 = (2**0.5)*root1 - b/(3*a)\n",
    "    print(\"Three real roots:\", root1, \",\", root2, \",\", root3)\n",
    "else:\n",
    "    real_part = -q/2**(1/3)\n",
    "    imaginary_part = (3**0.5/2)*(discriminant**0.5)\n",
    "    root1 = (real_part + imaginary_part)**(1/3) + (real_part - imaginary_part)**(1/3) - b/(3*a)\n",
    "    print(\"One real root and two complex roots:\", root1)"
   ]
  },
  {
   "cell_type": "markdown",
   "metadata": {},
   "source": [
    "## **Advanced Level**"
   ]
  },
  {
   "cell_type": "markdown",
   "metadata": {},
   "source": [
    "### 21. Create a program that calculates the income tax based on the user's income and tax brackets.\n"
   ]
  },
  {
   "cell_type": "code",
   "execution_count": 52,
   "metadata": {},
   "outputs": [
    {
     "name": "stdout",
     "output_type": "stream",
     "text": [
      "Income tax: 64000.0\n"
     ]
    }
   ],
   "source": [
    "# Input: User's income\n",
    "income = float(input(\"Enter your income: \"))\n",
    "\n",
    "# Define tax brackets and rates\n",
    "brackets = [10000, 30000, 70000, 100000]\n",
    "rates = [0.1, 0.2, 0.3, 0.4, 0.5]\n",
    "\n",
    "# Calculate income tax based on tax brackets\n",
    "tax = 0\n",
    "remaining_income = income\n",
    "for i in range(len(brackets)):\n",
    "    if remaining_income <= 0:\n",
    "        break\n",
    "    if i == len(brackets) - 1 or remaining_income <= brackets[i+1]:\n",
    "        tax += remaining_income * rates[i]\n",
    "    else:\n",
    "        tax += brackets[i] * rates[i]\n",
    "        remaining_income -= brackets[i]\n",
    "\n",
    "print(\"Income tax:\", tax)"
   ]
  },
  {
   "cell_type": "markdown",
   "metadata": {},
   "source": [
    "### 22. Write a program that simulates a rock-paper-scissors game against the computer.\n"
   ]
  },
  {
   "cell_type": "code",
   "execution_count": 53,
   "metadata": {},
   "outputs": [
    {
     "name": "stdout",
     "output_type": "stream",
     "text": [
      "Your choice: paper, Computer's choice: paper\n",
      "It's a tie!\n"
     ]
    }
   ],
   "source": [
    "import random\n",
    "\n",
    "# Input: User's choice\n",
    "user_choice = input(\"Choose rock, paper, or scissors: \").lower()\n",
    "\n",
    "# Generate computer's choice\n",
    "choices = ['rock', 'paper', 'scissors']\n",
    "computer_choice = random.choice(choices)\n",
    "\n",
    "# Determine the winner\n",
    "if user_choice in choices:\n",
    "    if user_choice == computer_choice:\n",
    "        result = \"It's a tie!\"\n",
    "    elif (user_choice == 'rock' and computer_choice == 'scissors') or \\\n",
    "         (user_choice == 'paper' and computer_choice == 'rock') or \\\n",
    "         (user_choice == 'scissors' and computer_choice == 'paper'):\n",
    "        result = \"You win!\"\n",
    "    else:\n",
    "        result = \"Computer wins!\"\n",
    "else:\n",
    "    result = \"Invalid input. Please choose rock, paper, or scissors.\"\n",
    "\n",
    "print(f\"Your choice: {user_choice}, Computer's choice: {computer_choice}\")\n",
    "print(result)"
   ]
  },
  {
   "cell_type": "markdown",
   "metadata": {},
   "source": [
    "### 23. Develop a program that generates a random password based on user preferences (length, complexity).\n"
   ]
  },
  {
   "cell_type": "code",
   "execution_count": 54,
   "metadata": {},
   "outputs": [
    {
     "name": "stdout",
     "output_type": "stream",
     "text": [
      "Generated password: CZ4R+ZMd\n"
     ]
    }
   ],
   "source": [
    "import random\n",
    "import string\n",
    "\n",
    "# Input: Password length and complexity\n",
    "length = int(input(\"Enter the length of the password: \"))\n",
    "complexity = input(\"Enter complexity (easy, medium, strong): \").lower()\n",
    "\n",
    "# Define character sets based on complexity\n",
    "if complexity == 'easy':\n",
    "    characters = string.ascii_letters + string.digits\n",
    "elif complexity == 'medium':\n",
    "    characters = string.ascii_letters + string.digits + string.punctuation\n",
    "elif complexity == 'strong':\n",
    "    characters = string.ascii_letters + string.digits + string.punctuation + string.ascii_letters.upper()\n",
    "else:\n",
    "    print(\"Invalid complexity choice.\")\n",
    "    exit()\n",
    "\n",
    "# Generate the password\n",
    "password = ''.join(random.choice(characters) for _ in range(length))\n",
    "print(\"Generated password:\", password)\n"
   ]
  },
  {
   "cell_type": "markdown",
   "metadata": {},
   "source": [
    "### 24. Create a program that implements a simple text-based adventure game with branching scenarios.\n"
   ]
  },
  {
   "cell_type": "code",
   "execution_count": 55,
   "metadata": {},
   "outputs": [
    {
     "name": "stdout",
     "output_type": "stream",
     "text": [
      "You wake up in a mysterious forest. You see a path leading deeper into the forest and another path going back.\n",
      "You turn back and exit the forest.\n",
      "The adventure ends.\n"
     ]
    }
   ],
   "source": [
    "# Start of the game\n",
    "print(\"You wake up in a mysterious forest. You see a path leading deeper into the forest and another path going back.\")\n",
    "\n",
    "# Input: User's choice\n",
    "choice = input(\"Which path do you choose? (forward/back): \").lower()\n",
    "\n",
    "# Branching scenario\n",
    "if choice == 'forward':\n",
    "    print(\"You follow the path deeper into the forest and discover a hidden treasure!\")\n",
    "else:\n",
    "    print(\"You turn back and exit the forest.\")\n",
    "\n",
    "# End of the game\n",
    "print(\"The adventure ends.\")\n"
   ]
  },
  {
   "cell_type": "markdown",
   "metadata": {},
   "source": [
    "### 25. Build a program that solves a linear equation for x, considering different cases.\n"
   ]
  },
  {
   "cell_type": "code",
   "execution_count": 56,
   "metadata": {},
   "outputs": [
    {
     "name": "stdout",
     "output_type": "stream",
     "text": [
      "Solution: x = 1.0\n"
     ]
    }
   ],
   "source": [
    "# Input: Coefficients of the linear equation (ax + b = 0)\n",
    "a = float(input(\"Enter coefficient a: \"))\n",
    "b = float(input(\"Enter coefficient b: \"))\n",
    "\n",
    "# Solve for x\n",
    "if a == 0:\n",
    "    if b == 0:\n",
    "        solution = \"Infinite solutions (identity equation).\"\n",
    "    else:\n",
    "        solution = \"No solution (contradictory equation).\"\n",
    "else:\n",
    "    x = -b / a\n",
    "    solution = f\"x = {x}\"\n",
    "\n",
    "print(\"Solution:\", solution)\n"
   ]
  },
  {
   "cell_type": "markdown",
   "metadata": {},
   "source": [
    "### 26. Write a program that simulates a basic quiz game with multiple-choice questions and scoring.\n"
   ]
  },
  {
   "cell_type": "code",
   "execution_count": 57,
   "metadata": {},
   "outputs": [
    {
     "name": "stdout",
     "output_type": "stream",
     "text": [
      "Question 1: What is the capital of France?\n",
      "Correct!\n",
      "Question 2: Which planet is known as the Red Planet?\n",
      "Correct!\n",
      "Question 3: What is the largest mammal in the world?\n",
      "Wrong! The correct answer is Blue whale.\n",
      "Your score: 2/3\n"
     ]
    }
   ],
   "source": [
    "# Quiz questions and answers\n",
    "questions = [\"What is the capital of France?\",\n",
    "             \"Which planet is known as the Red Planet?\",\n",
    "             \"What is the largest mammal in the world?\"]\n",
    "answers = [\"Paris\", \"Mars\", \"Blue whale\"]\n",
    "\n",
    "# Initialize score\n",
    "score = 0\n",
    "\n",
    "# Ask questions and check answers\n",
    "for i, question in enumerate(questions):\n",
    "    print(f\"Question {i + 1}: {question}\")\n",
    "    user_answer = input(\"Your answer: \")\n",
    "    if user_answer.lower() == answers[i].lower():\n",
    "        print(\"Correct!\")\n",
    "        score += 1\n",
    "    else:\n",
    "        print(f\"Wrong! The correct answer is {answers[i]}.\")\n",
    "\n",
    "# Display final score\n",
    "print(f\"Your score: {score}/{len(questions)}\")"
   ]
  },
  {
   "cell_type": "markdown",
   "metadata": {},
   "source": [
    "### 27. Develop a program that determines whether a given year is a prime number or not.\n"
   ]
  },
  {
   "cell_type": "code",
   "execution_count": 58,
   "metadata": {},
   "outputs": [
    {
     "name": "stdout",
     "output_type": "stream",
     "text": [
      "2023 is not a prime number.\n"
     ]
    }
   ],
   "source": [
    "# Input: Year to check\n",
    "year = int(input(\"Enter a year: \"))\n",
    "\n",
    "# Check if it's a prime number\n",
    "if year > 1:\n",
    "    for i in range(2, year):\n",
    "        if (year % i) == 0:\n",
    "            print(year, \"is not a prime number.\")\n",
    "            break\n",
    "    else:\n",
    "        print(year, \"is a prime number.\")\n",
    "else:\n",
    "    print(year, \"is not a prime number.\")\n"
   ]
  },
  {
   "cell_type": "markdown",
   "metadata": {},
   "source": [
    "### 28. Create a program that sorts three numbers in ascending order using conditional statements.\n"
   ]
  },
  {
   "cell_type": "code",
   "execution_count": 59,
   "metadata": {},
   "outputs": [
    {
     "name": "stdout",
     "output_type": "stream",
     "text": [
      "The numbers in ascending order are: 1.0 4.0 5.0\n"
     ]
    }
   ],
   "source": [
    "# Input three numbers from the user\n",
    "num1 = float(input(\"Enter the first number: \"))\n",
    "num2 = float(input(\"Enter the second number: \"))\n",
    "num3 = float(input(\"Enter the third number: \"))\n",
    "\n",
    "# Check and swap the first two numbers if they are out of order\n",
    "if num1 > num2:\n",
    "    num1, num2 = num2, num1\n",
    "\n",
    "# Check and swap the first and third numbers if they are out of order\n",
    "if num1 > num3:\n",
    "    num1, num3 = num3, num1\n",
    "\n",
    "# Check and swap the second and third numbers if they are out of order\n",
    "if num2 > num3:\n",
    "    num2, num3 = num3, num2\n",
    "\n",
    "# Now, the numbers are sorted in ascending order\n",
    "print(\"The numbers in ascending order are:\", num1, num2, num3)"
   ]
  },
  {
   "cell_type": "markdown",
   "metadata": {},
   "source": [
    "### 29. Build a program that determines the roots of a quartic equation using numerical methods.\n"
   ]
  },
  {
   "cell_type": "code",
   "execution_count": 60,
   "metadata": {},
   "outputs": [
    {
     "name": "stdout",
     "output_type": "stream",
     "text": [
      "Two complex roots: -0.3333333333333333 + 1.1055415967851332 i and -0.3333333333333333 - 1.1055415967851332 i\n"
     ]
    }
   ],
   "source": [
    "import math\n",
    "\n",
    "# Input: Coefficients of the quadratic equation\n",
    "a = float(input(\"Enter coefficient a: \"))\n",
    "b = float(input(\"Enter coefficient b: \"))\n",
    "c = float(input(\"Enter coefficient c: \"))\n",
    "\n",
    "# Calculate the discriminant\n",
    "discriminant = b**2 - 4*a*c\n",
    "\n",
    "# Calculate roots based on the discriminant\n",
    "if discriminant > 0:\n",
    "    root1 = (-b + math.sqrt(discriminant)) / (2*a)\n",
    "    root2 = (-b - math.sqrt(discriminant)) / (2*a)\n",
    "    print(\"Two real and distinct roots:\", root1, \"and\", root2)\n",
    "elif discriminant == 0:\n",
    "    root1 = root2 = -b / (2*a)\n",
    "    print(\"Two real and equal roots:\", root1)\n",
    "else:\n",
    "    real_part = -b / (2*a)\n",
    "    imaginary_part = math.sqrt(abs(discriminant)) / (2*a)\n",
    "    print(\"Two complex roots:\", real_part, \"+\", imaginary_part, \"i and\", real_part, \"-\", imaginary_part, \"i\")\n"
   ]
  },
  {
   "cell_type": "markdown",
   "metadata": {},
   "source": [
    "### 30. Write a program that calculates the BMI (Body Mass Index) and provides health recommendations based on the user's input."
   ]
  },
  {
   "cell_type": "code",
   "execution_count": 61,
   "metadata": {},
   "outputs": [
    {
     "name": "stdout",
     "output_type": "stream",
     "text": [
      "Your BMI is 17.90 (Underweight). You may need to gain weight.\n"
     ]
    }
   ],
   "source": [
    "# Input: Weight (kg) and height (m)\n",
    "weight = float(input(\"Enter your weight in kg: \"))\n",
    "height = float(input(\"Enter your height in meters: \"))\n",
    "\n",
    "# Calculate BMI\n",
    "bmi = weight / (height ** 2)\n",
    "\n",
    "# Determine BMI category and provide recommendations\n",
    "if bmi < 18.5:\n",
    "    category = \"Underweight\"\n",
    "    recommendation = \"You may need to gain weight.\"\n",
    "elif 18.5 <= bmi < 24.9:\n",
    "    category = \"Normal\"\n",
    "    recommendation = \"You are in a healthy weight range.\"\n",
    "elif 24.9 <= bmi < 29.9:\n",
    "    category = \"Overweight\"\n",
    "    recommendation = \"You may need to lose weight.\"\n",
    "else:\n",
    "    category = \"Obese\"\n",
    "    recommendation = \"You should consult a healthcare professional.\"\n",
    "\n",
    "print(f\"Your BMI is {bmi:.2f} ({category}). {recommendation}\")\n"
   ]
  },
  {
   "cell_type": "markdown",
   "metadata": {},
   "source": [
    "## **Challenge Level**"
   ]
  },
  {
   "cell_type": "markdown",
   "metadata": {},
   "source": [
    "### 31. Create a program that validates a password based on complexity rules (length, characters, etc.).\n"
   ]
  },
  {
   "cell_type": "code",
   "execution_count": 62,
   "metadata": {},
   "outputs": [
    {
     "name": "stdout",
     "output_type": "stream",
     "text": [
      "Password is valid.\n"
     ]
    }
   ],
   "source": [
    "import re\n",
    "\n",
    "# Input: Password\n",
    "password = input(\"Enter a password: \")\n",
    "\n",
    "# Define password complexity rules\n",
    "length_rule = len(password) >= 8\n",
    "uppercase_rule = any(char.isupper() for char in password)\n",
    "lowercase_rule = any(char.islower() for char in password)\n",
    "digit_rule = any(char.isdigit() for char in password)\n",
    "special_char_rule = re.search(r'[!@#$%^&*(),.?\":{}|<>]', password)\n",
    "\n",
    "# Check password complexity\n",
    "if all([length_rule, uppercase_rule, lowercase_rule, digit_rule, special_char_rule]):\n",
    "    print(\"Password is valid.\")\n",
    "else:\n",
    "    print(\"Password is not valid. Please follow the complexity rules.\")\n"
   ]
  },
  {
   "cell_type": "markdown",
   "metadata": {},
   "source": [
    "### 32. Develop a program that performs matrix addition and subtraction based on user input.\n"
   ]
  },
  {
   "cell_type": "code",
   "execution_count": 1,
   "metadata": {},
   "outputs": [
    {
     "name": "stdout",
     "output_type": "stream",
     "text": [
      "Matrix Addition Result:\n",
      "[[6.]\n",
      " [6.]]\n",
      "Matrix Subtraction Result:\n",
      "[[-2.]\n",
      " [ 0.]]\n"
     ]
    }
   ],
   "source": [
    "import numpy as np\n",
    "\n",
    "# Input: Matrix dimensions and elements\n",
    "rows = int(input(\"Enter the number of rows: \"))\n",
    "cols = int(input(\"Enter the number of columns: \"))\n",
    "\n",
    "matrix1 = np.array([[float(input(f\"Matrix 1 [{i+1},{j+1}]: \")) for j in range(cols)] for i in range(rows)])\n",
    "matrix2 = np.array([[float(input(f\"Matrix 2 [{i+1},{j+1}]: \")) for j in range(cols)] for i in range(rows)])\n",
    "\n",
    "# Perform addition and subtraction\n",
    "addition_result = matrix1 + matrix2\n",
    "subtraction_result = matrix1 - matrix2\n",
    "\n",
    "print(\"Matrix Addition Result:\")\n",
    "print(addition_result)\n",
    "\n",
    "print(\"Matrix Subtraction Result:\")\n",
    "print(subtraction_result)\n"
   ]
  },
  {
   "cell_type": "markdown",
   "metadata": {},
   "source": [
    "### 33. Write a program that calculates the greatest common divisor (GCD) of two numbers using the Euclidean algorithm.\n"
   ]
  },
  {
   "cell_type": "code",
   "execution_count": 2,
   "metadata": {},
   "outputs": [
    {
     "name": "stdout",
     "output_type": "stream",
     "text": [
      "GCD: 1\n"
     ]
    }
   ],
   "source": [
    "# Input: Two numbers\n",
    "a = int(input(\"Enter the first number: \"))\n",
    "b = int(input(\"Enter the second number: \"))\n",
    "\n",
    "# Euclidean algorithm to calculate GCD\n",
    "while b:\n",
    "    a, b = b, a % b\n",
    "\n",
    "print(\"GCD:\", a)"
   ]
  },
  {
   "cell_type": "markdown",
   "metadata": {},
   "source": [
    "### 34. Build a program that performs matrix multiplication using nested loops and conditional statements.\n"
   ]
  },
  {
   "cell_type": "code",
   "execution_count": 3,
   "metadata": {},
   "outputs": [
    {
     "name": "stdout",
     "output_type": "stream",
     "text": [
      "Matrix Multiplication Result:\n",
      "[19.0, 22.0]\n",
      "[43.0, 50.0]\n"
     ]
    }
   ],
   "source": [
    "# Input: Matrix dimensions and elements\n",
    "rows1 = int(input(\"Enter the number of rows for Matrix 1: \"))\n",
    "cols1 = int(input(\"Enter the number of columns for Matrix 1: \"))\n",
    "rows2 = int(input(\"Enter the number of rows for Matrix 2: \"))\n",
    "cols2 = int(input(\"Enter the number of columns for Matrix 2: \"))\n",
    "\n",
    "if cols1 != rows2:\n",
    "    print(\"Matrix multiplication is not possible.\")\n",
    "    exit()\n",
    "\n",
    "matrix1 = [[float(input(f\"Matrix 1 [{i+1},{j+1}]: \")) for j in range(cols1)] for i in range(rows1)]\n",
    "matrix2 = [[float(input(f\"Matrix 2 [{i+1},{j+1}]: \")) for j in range(cols2)] for i in range(rows2)]\n",
    "\n",
    "# Initialize result matrix with zeros\n",
    "result = [[0 for _ in range(cols2)] for _ in range(rows1)]\n",
    "\n",
    "# Perform matrix multiplication\n",
    "for i in range(rows1):\n",
    "    for j in range(cols2):\n",
    "        for k in range(cols1):\n",
    "            result[i][j] += matrix1[i][k] * matrix2[k][j]\n",
    "\n",
    "# Display the result\n",
    "print(\"Matrix Multiplication Result:\")\n",
    "for row in result:\n",
    "    print(row)"
   ]
  },
  {
   "cell_type": "markdown",
   "metadata": {},
   "source": [
    "### 35. Create a program that simulates a basic text-based tic-tac-toe game against the computer.\n"
   ]
  },
  {
   "cell_type": "code",
   "execution_count": 10,
   "metadata": {},
   "outputs": [
    {
     "name": "stdout",
     "output_type": "stream",
     "text": [
      "  |   |  \n",
      "---------\n",
      "  |   |  \n",
      "---------\n",
      "  |   |  \n",
      "---------\n",
      "X |   |  \n",
      "---------\n",
      "  |   |  \n",
      "---------\n",
      "  |   |  \n",
      "---------\n",
      "Computer's turn...\n",
      "X |   | O\n",
      "---------\n",
      "  |   |  \n",
      "---------\n",
      "  |   |  \n",
      "---------\n",
      "X |   | O\n",
      "---------\n",
      "X |   |  \n",
      "---------\n",
      "  |   |  \n",
      "---------\n",
      "Computer's turn...\n",
      "X |   | O\n",
      "---------\n",
      "X |   |  \n",
      "---------\n",
      "O |   |  \n",
      "---------\n",
      "X |   | O\n",
      "---------\n",
      "X | X |  \n",
      "---------\n",
      "O |   |  \n",
      "---------\n",
      "Computer's turn...\n",
      "X |   | O\n",
      "---------\n",
      "X | X |  \n",
      "---------\n",
      "O | O |  \n",
      "---------\n",
      "X |   | O\n",
      "---------\n",
      "X | X |  \n",
      "---------\n",
      "O | O | X\n",
      "---------\n",
      "Player X wins!\n",
      "Game over.\n"
     ]
    }
   ],
   "source": [
    "import random\n",
    "\n",
    "# Function to print the Tic-Tac-Toe board\n",
    "def print_board(board):\n",
    "    for row in board:\n",
    "        print(\" | \".join(row))\n",
    "        print(\"-\" * 9)\n",
    "\n",
    "# Function to check if a player has won\n",
    "def check_win(board, player):\n",
    "    for row in board:\n",
    "        if all(cell == player for cell in row):\n",
    "            return True\n",
    "\n",
    "    for col in range(3):\n",
    "        if all(board[row][col] == player for row in range(3)):\n",
    "            return True\n",
    "\n",
    "    if all(board[i][i] == player for i in range(3)) or all(board[i][2 - i] == player for i in range(3)):\n",
    "        return True\n",
    "\n",
    "    return False\n",
    "\n",
    "# Function to check if the board is full\n",
    "def is_board_full(board):\n",
    "    return all(cell != ' ' for row in board for cell in row)\n",
    "\n",
    "# Function to make the computer's move\n",
    "def computer_move(board):\n",
    "    empty_cells = [(i, j) for i in range(3) for j in range(3) if board[i][j] == ' ']\n",
    "    return random.choice(empty_cells)\n",
    "\n",
    "# Initialize the Tic-Tac-Toe board\n",
    "board = [[' ' for _ in range(3)] for _ in range(3)]\n",
    "player = 'X'\n",
    "computer = 'O'\n",
    "\n",
    "# Main game loop\n",
    "while True:\n",
    "    print_board(board)\n",
    "\n",
    "    if player == 'X':\n",
    "        row, col = map(int, input(\"Enter your move (row and column): \").split())\n",
    "    else:\n",
    "        print(\"Computer's turn...\")\n",
    "        row, col = computer_move(board)\n",
    "\n",
    "    if 0 <= row < 3 and 0 <= col < 3 and board[row][col] == ' ':\n",
    "        board[row][col] = player\n",
    "        if check_win(board, player):\n",
    "            print_board(board)\n",
    "            print(f\"Player {player} wins!\")\n",
    "            break\n",
    "        elif is_board_full(board):\n",
    "            print_board(board)\n",
    "            print(\"It's a tie!\")\n",
    "            break\n",
    "        player, computer = computer, player\n",
    "    else:\n",
    "        print(\"Invalid move. Try again.\")\n",
    "\n",
    "print(\"Game over.\")\n"
   ]
  },
  {
   "cell_type": "markdown",
   "metadata": {},
   "source": [
    "### 36. Write a program that generates Fibonacci numbers up to a specified term using iterative methods.\n"
   ]
  },
  {
   "cell_type": "code",
   "execution_count": 4,
   "metadata": {},
   "outputs": [
    {
     "name": "stdout",
     "output_type": "stream",
     "text": [
      "Fibonacci Sequence:\n",
      "[0, 1, 1, 2, 3, 5]\n"
     ]
    }
   ],
   "source": [
    "# Input: Number of terms in the Fibonacci sequence\n",
    "n = int(input(\"Enter the number of Fibonacci terms: \"))\n",
    "\n",
    "fibonacci_sequence = [0, 1]\n",
    "\n",
    "while len(fibonacci_sequence) < n:\n",
    "    next_term = fibonacci_sequence[-1] + fibonacci_sequence[-2]\n",
    "    fibonacci_sequence.append(next_term)\n",
    "\n",
    "print(\"Fibonacci Sequence:\")\n",
    "print(fibonacci_sequence)"
   ]
  },
  {
   "cell_type": "markdown",
   "metadata": {},
   "source": [
    "### 37. Develop a program that calculates the nth term of the Fibonacci sequence using memoization.\n"
   ]
  },
  {
   "cell_type": "code",
   "execution_count": 5,
   "metadata": {},
   "outputs": [
    {
     "name": "stdout",
     "output_type": "stream",
     "text": [
      "The 34th term of the Fibonacci sequence is 5702887.\n"
     ]
    }
   ],
   "source": [
    "# Using memoization (dynamic programming)\n",
    "memo = {}\n",
    "\n",
    "def fibonacci(n):\n",
    "    if n in memo:\n",
    "        return memo[n]\n",
    "    if n <= 1:\n",
    "        result = n\n",
    "    else:\n",
    "        result = fibonacci(n - 1) + fibonacci(n - 2)\n",
    "    memo[n] = result\n",
    "    return result\n",
    "\n",
    "# Input: Term number\n",
    "n = int(input(\"Enter the term number: \"))\n",
    "\n",
    "if n < 0:\n",
    "    print(\"Invalid input.\")\n",
    "else:\n",
    "    nth_term = fibonacci(n)\n",
    "    print(f\"The {n}th term of the Fibonacci sequence is {nth_term}.\")"
   ]
  },
  {
   "cell_type": "markdown",
   "metadata": {},
   "source": [
    "### 38. Create a program that generates a calendar for a given month and year using conditional statements.\n"
   ]
  },
  {
   "cell_type": "code",
   "execution_count": 6,
   "metadata": {},
   "outputs": [
    {
     "name": "stdout",
     "output_type": "stream",
     "text": [
      "Calendar:\n",
      "    August 2023\n",
      "Mo Tu We Th Fr Sa Su\n",
      "    1  2  3  4  5  6\n",
      " 7  8  9 10 11 12 13\n",
      "14 15 16 17 18 19 20\n",
      "21 22 23 24 25 26 27\n",
      "28 29 30 31\n",
      "\n"
     ]
    }
   ],
   "source": [
    "import calendar\n",
    "\n",
    "# Input: Year and month\n",
    "year = int(input(\"Enter the year: \"))\n",
    "month = int(input(\"Enter the month (1-12): \"))\n",
    "\n",
    "# Display calendar\n",
    "cal = calendar.month(year, month)\n",
    "print(\"Calendar:\")\n",
    "print(cal)"
   ]
  },
  {
   "cell_type": "markdown",
   "metadata": {},
   "source": [
    "### 39. Build a program that simulates a basic text-based blackjack game against the computer.\n"
   ]
  },
  {
   "cell_type": "code",
   "execution_count": 11,
   "metadata": {},
   "outputs": [
    {
     "name": "stdout",
     "output_type": "stream",
     "text": [
      "Your hand: ['J', 'Q']\n",
      "Computer's hand: ['8', 'X']\n",
      "Your hand: ['J', 'Q', '8']\n",
      "Computer's hand: ['8', 'X']\n",
      "Bust! You lose!\n",
      "Game over. Thank you for playing!\n"
     ]
    }
   ],
   "source": [
    "import random\n",
    "\n",
    "# Function to calculate the total value of a hand\n",
    "def calculate_hand_value(hand):\n",
    "    value = 0\n",
    "    num_aces = 0\n",
    "    \n",
    "    for card in hand:\n",
    "        if card in \"JQK\":\n",
    "            value += 10\n",
    "        elif card == \"A\":\n",
    "            value += 11\n",
    "            num_aces += 1\n",
    "        else:\n",
    "            value += int(card)\n",
    "    \n",
    "    while value > 21 and num_aces > 0:\n",
    "        value -= 10\n",
    "        num_aces -= 1\n",
    "    \n",
    "    return value\n",
    "\n",
    "# Function to deal a new card\n",
    "def deal_card():\n",
    "    card = random.choice([\"2\", \"3\", \"4\", \"5\", \"6\", \"7\", \"8\", \"9\", \"10\", \"J\", \"Q\", \"K\", \"A\"])\n",
    "    return card\n",
    "\n",
    "# Initialize the game\n",
    "player_hand = []\n",
    "computer_hand = []\n",
    "\n",
    "# Deal the initial cards\n",
    "player_hand.append(deal_card())\n",
    "player_hand.append(deal_card())\n",
    "computer_hand.append(deal_card())\n",
    "computer_hand.append(deal_card())\n",
    "\n",
    "# Game loop\n",
    "while True:\n",
    "    # Display player's hand and one of the computer's cards\n",
    "    print(\"Your hand:\", player_hand)\n",
    "    print(\"Computer's hand:\", [computer_hand[0], \"X\"])  # Hide the second card of the computer\n",
    "    \n",
    "    # Check for player blackjack or bust\n",
    "    if calculate_hand_value(player_hand) == 21:\n",
    "        print(\"Blackjack! You win!\")\n",
    "        break\n",
    "    elif calculate_hand_value(player_hand) > 21:\n",
    "        print(\"Bust! You lose!\")\n",
    "        break\n",
    "    \n",
    "    # Ask the player to hit or stand\n",
    "    action = input(\"Do you want to 'hit' or 'stand'? \").lower()\n",
    "    \n",
    "    if action == \"hit\":\n",
    "        player_hand.append(deal_card())\n",
    "    elif action == \"stand\":\n",
    "        # Reveal the computer's hand\n",
    "        print(\"Computer's hand:\", computer_hand)\n",
    "        \n",
    "        # Computer's turn\n",
    "        while calculate_hand_value(computer_hand) < 17:\n",
    "            computer_hand.append(deal_card())\n",
    "        \n",
    "        # Determine the winner\n",
    "        if calculate_hand_value(computer_hand) > 21:\n",
    "            print(\"Computer busts! You win!\")\n",
    "        elif calculate_hand_value(computer_hand) >= calculate_hand_value(player_hand):\n",
    "            print(\"Computer wins!\")\n",
    "        else:\n",
    "            print(\"You win!\")\n",
    "        \n",
    "        break\n",
    "    else:\n",
    "        print(\"Invalid input. Please enter 'hit' or 'stand'.\")\n",
    "\n",
    "# End of the game\n",
    "print(\"Game over. Thank you for playing!\")\n"
   ]
  },
  {
   "cell_type": "markdown",
   "metadata": {},
   "source": [
    "### 40. Write a program that generates the prime factors of a given number using trial division.\n"
   ]
  },
  {
   "cell_type": "code",
   "execution_count": 7,
   "metadata": {},
   "outputs": [
    {
     "name": "stdout",
     "output_type": "stream",
     "text": [
      "Prime factors: [2, 2]\n"
     ]
    }
   ],
   "source": [
    "# Input: Number to find prime factors of\n",
    "number = int(input(\"Enter a number: \"))\n",
    "\n",
    "def prime_factors(n):\n",
    "    factors = []\n",
    "    divisor = 2\n",
    "    while n > 1:\n",
    "        while n % divisor == 0:\n",
    "            factors.append(divisor)\n",
    "            n //= divisor\n",
    "        divisor += 1\n",
    "    return factors\n",
    "\n",
    "if number <= 1:\n",
    "    print(\"Prime factors are not defined for numbers less than or equal to 1.\")\n",
    "else:\n",
    "    factors = prime_factors(number)\n",
    "    print(\"Prime factors:\", factors)"
   ]
  }
 ],
 "metadata": {
  "kernelspec": {
   "display_name": "Python 3",
   "language": "python",
   "name": "python3"
  },
  "language_info": {
   "codemirror_mode": {
    "name": "ipython",
    "version": 3
   },
   "file_extension": ".py",
   "mimetype": "text/x-python",
   "name": "python",
   "nbconvert_exporter": "python",
   "pygments_lexer": "ipython3",
   "version": "3.11.3"
  },
  "orig_nbformat": 4
 },
 "nbformat": 4,
 "nbformat_minor": 2
}
