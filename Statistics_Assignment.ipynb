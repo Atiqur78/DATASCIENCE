{
 "cells": [
  {
   "cell_type": "markdown",
   "id": "d6ca00cf-fdaa-4f2b-82e7-3e12ad3075ea",
   "metadata": {},
   "source": [
    "### Q1. Generate a list of 100 integers containing values between 90 to 130 and store it in the variable `int_list`. After generating the list, find the following:\n"
   ]
  },
  {
   "cell_type": "code",
   "execution_count": 1,
   "id": "50171e07-9106-4761-8c77-f03560cf4931",
   "metadata": {},
   "outputs": [],
   "source": [
    "import numpy as np\n",
    "import pandas as pd\n",
    "import matplotlib.pyplot as plt\n",
    "import seaborn as sns"
   ]
  },
  {
   "cell_type": "code",
   "execution_count": 2,
   "id": "e5daedca-0a9f-4c51-8cfa-8c85d34976b0",
   "metadata": {},
   "outputs": [
    {
     "data": {
      "text/plain": [
       "array([ 92, 118, 102, 122, 123, 106, 100,  98, 112, 113, 121, 114, 106,\n",
       "       103, 101, 123, 104, 102, 112, 110, 117,  95,  96, 121, 119, 125,\n",
       "        91, 113, 114, 118,  91, 126, 108, 116, 114,  97,  94, 103, 123,\n",
       "        92,  92, 105, 104, 114, 112,  95,  92, 112,  95, 116, 105,  99,\n",
       "        97,  90, 122, 101,  91, 100,  95, 115, 112,  94, 101, 129,  97,\n",
       "       100, 115, 121, 104, 121,  92, 127, 121,  93,  96, 113,  92, 100,\n",
       "       126, 111,  96, 105, 129, 105,  95, 101, 115, 100,  98, 126, 110,\n",
       "       129, 126,  90,  91, 128, 118, 111,  93, 106])"
      ]
     },
     "execution_count": 2,
     "metadata": {},
     "output_type": "execute_result"
    }
   ],
   "source": [
    "int_list=np.random.randint(90,130,100)\n",
    "int_list"
   ]
  },
  {
   "cell_type": "markdown",
   "id": "8f2fb768",
   "metadata": {},
   "source": [
    "(i) Write a Python function to calculate the mean of a given list of numbers. Create a function to\n",
    "find the median of a list of numbers."
   ]
  },
  {
   "cell_type": "code",
   "execution_count": 3,
   "id": "0bdc9f3b-5683-4af8-876b-f0428d9c0f48",
   "metadata": {},
   "outputs": [
    {
     "name": "stdout",
     "output_type": "stream",
     "text": [
      "Mean: 107.44\n",
      "Median: 105.5\n"
     ]
    }
   ],
   "source": [
    "\n",
    "mean_int_list=np.mean(int_list)\n",
    "median_int_list=np.median(int_list)\n",
    "print(\"Mean:\",mean_int_list)\n",
    "print(\"Median:\",median_int_list)"
   ]
  },
  {
   "cell_type": "markdown",
   "id": "5ea830ac",
   "metadata": {},
   "source": [
    "(ii) Develop a program to compute the mode of a list of integers."
   ]
  },
  {
   "cell_type": "code",
   "execution_count": 4,
   "id": "cf14c952-da5f-4a3f-80b6-7db577341e97",
   "metadata": {},
   "outputs": [
    {
     "name": "stdout",
     "output_type": "stream",
     "text": [
      "Mode: 92\n"
     ]
    }
   ],
   "source": [
    "import statistics as stats\n",
    "mode_int_list=stats.mode(int_list)\n",
    "print(\"Mode:\",mode_int_list)"
   ]
  },
  {
   "cell_type": "markdown",
   "id": "ecc57146",
   "metadata": {},
   "source": [
    "(iii)Implement a function to calculate the weighted mean of a list of values and their corresponding weights."
   ]
  },
  {
   "cell_type": "code",
   "execution_count": 5,
   "id": "000e2cfb-e849-4681-b6ce-26fb5397c781",
   "metadata": {},
   "outputs": [
    {
     "name": "stdout",
     "output_type": "stream",
     "text": [
      "The weighted mean is: 108.7\n"
     ]
    }
   ],
   "source": [
    "def calculate_weighted_mean(values, weights):\n",
    "    if len(values) != len(weights):\n",
    "        return \"Error: The number of values and weights should be the same.\"\n",
    "    weighted_sum = 0\n",
    "    total_weight = 0\n",
    "    for i in range(len(values)):\n",
    "        weighted_sum += values[i] * weights[i]\n",
    "        total_weight += weights[i]\n",
    "    weighted_mean = weighted_sum / total_weight\n",
    "    return weighted_mean\n",
    "\n",
    "values = int_list\n",
    "weights = int_list\n",
    "result = calculate_weighted_mean(values, weights)\n",
    "print(\"The weighted mean is:\", round(result,2))"
   ]
  },
  {
   "cell_type": "code",
   "execution_count": 6,
   "id": "8a53549d-e533-4482-ad2d-079c548b2008",
   "metadata": {},
   "outputs": [
    {
     "name": "stdout",
     "output_type": "stream",
     "text": [
      "The weighted mean is: 108.7\n"
     ]
    }
   ],
   "source": [
    "#Using numpy:\n",
    "weighted_mean=np.average(int_list,weights=int_list)\n",
    "print(\"The weighted mean is:\", round(weighted_mean,2))"
   ]
  },
  {
   "cell_type": "markdown",
   "id": "5391b831",
   "metadata": {},
   "source": [
    "(iv) Write a Python function to find the geometric mean of a list of positive numbers."
   ]
  },
  {
   "cell_type": "code",
   "execution_count": 7,
   "id": "b136c127-9049-4dcf-8ce8-f956cc440773",
   "metadata": {},
   "outputs": [
    {
     "name": "stdout",
     "output_type": "stream",
     "text": [
      "The geometric mean is: 5.210342169394704\n"
     ]
    }
   ],
   "source": [
    "def calculate_geometric_mean(values):\n",
    "    geometric_mean = np.prod(values) ** (1 / len(values))\n",
    "    return geometric_mean\n",
    "\n",
    "values =[2,4,6,8,10]\n",
    "result = calculate_geometric_mean(values)\n",
    "print(\"The geometric mean is:\", result)"
   ]
  },
  {
   "cell_type": "markdown",
   "id": "191f3e1f",
   "metadata": {},
   "source": [
    "(v) Create a program to calculate the harmonic mean of a list of values."
   ]
  },
  {
   "cell_type": "code",
   "execution_count": 8,
   "id": "41986bfd-7681-44ec-8591-6c42b8b3398a",
   "metadata": {},
   "outputs": [
    {
     "name": "stdout",
     "output_type": "stream",
     "text": [
      "The harmonic mean is: 0.22833333333333333\n"
     ]
    }
   ],
   "source": [
    "\n",
    "def calculate_harmonic_mean(values):\n",
    "    harmonic_mean = np.mean(1 / np.array(values))\n",
    "    return harmonic_mean\n",
    "\n",
    "values = [2,4,6,8,10]\n",
    "result = calculate_harmonic_mean(values)\n",
    "print(\"The harmonic mean is:\", result)"
   ]
  },
  {
   "cell_type": "markdown",
   "id": "2cd5be1d",
   "metadata": {},
   "source": [
    "(vi) Build a function to determine the midrange of a list of numbers (average of the minimum and maximum)."
   ]
  },
  {
   "cell_type": "code",
   "execution_count": 9,
   "id": "10294b58-fcb5-4393-8c5f-e4c799bbe449",
   "metadata": {},
   "outputs": [
    {
     "data": {
      "text/plain": [
       "109.5"
      ]
     },
     "execution_count": 9,
     "metadata": {},
     "output_type": "execute_result"
    }
   ],
   "source": [
    "def Calculate_midrange(l):\n",
    "    max_=max(l)\n",
    "    min_=min(l)\n",
    "    midrange=(max_+min_)/2\n",
    "    return midrange\n",
    "Calculate_midrange(int_list)"
   ]
  },
  {
   "cell_type": "markdown",
   "id": "624669bf",
   "metadata": {},
   "source": [
    "(vii)Implement a Python program to find the trimmed mean of a list, excluding a certain percentage of outliers."
   ]
  },
  {
   "cell_type": "code",
   "execution_count": 10,
   "id": "a37c21a3-4937-434e-812b-28b7604e4355",
   "metadata": {},
   "outputs": [
    {
     "data": {
      "text/plain": [
       "107.0125"
      ]
     },
     "execution_count": 10,
     "metadata": {},
     "output_type": "execute_result"
    }
   ],
   "source": [
    "def calculate_trimmed_mean(num_list, percentage):\n",
    "    sorted_list = sorted(num_list)\n",
    "    exclude_count = round((percentage / 100) * len(sorted_list))\n",
    "    trimmed_list = sorted_list[exclude_count:-exclude_count]\n",
    "    trimmed_mean = sum(trimmed_list) / len(trimmed_list)\n",
    "    return trimmed_mean\n",
    "calculate_trimmed_mean(int_list,10)"
   ]
  },
  {
   "cell_type": "markdown",
   "id": "128c32e6-617c-44ad-8e14-44673f57dd16",
   "metadata": {},
   "source": [
    "### Q2. Generate a list of 500 integers containing values between 200 to 300 and store it in the variable \"int_list2\". After generating the list, find the following:"
   ]
  },
  {
   "cell_type": "code",
   "execution_count": 11,
   "id": "c19c56ca-6017-4c0d-be3d-41f3184d58d7",
   "metadata": {},
   "outputs": [
    {
     "data": {
      "text/plain": [
       "500"
      ]
     },
     "execution_count": 11,
     "metadata": {},
     "output_type": "execute_result"
    }
   ],
   "source": [
    "int_list2=np.random.randint(200,300,500)\n",
    "len(int_list2)"
   ]
  },
  {
   "cell_type": "markdown",
   "id": "1113ce98",
   "metadata": {},
   "source": [
    "(i).Compare the given list of visualization for the given data:\n"
   ]
  },
  {
   "cell_type": "markdown",
   "id": "e4600a47",
   "metadata": {},
   "source": [
    "1. Frequency & Gaussian distribution: This visualization shows the frequency of data points along with a Gaussian distribution curve.\n",
    "It helps in understanding the distribution of the data and how closely it aligns with a normal distribution."
   ]
  },
  {
   "cell_type": "code",
   "execution_count": 12,
   "id": "52d25490-429d-4079-b10d-6dcbe4492e3e",
   "metadata": {},
   "outputs": [
    {
     "data": {
      "image/png": "[encoded data removed]",
      "text/plain": [
       "<Figure size 640x480 with 1 Axes>"
      ]
     },
     "metadata": {},
     "output_type": "display_data"
    },
    {
     "data": {
      "image/png": "[encoded data removed]",
      "text/plain": [
       "<Figure size 640x480 with 1 Axes>"
      ]
     },
     "metadata": {},
     "output_type": "display_data"
    }
   ],
   "source": [
    "import matplotlib.pyplot as plt\n",
    "data=int_list2\n",
    "value,counts=np.unique(data,return_counts=True)\n",
    "#Frequency distribution\n",
    "plt.subplot(1,2,1)\n",
    "plt.barh(value,counts)\n",
    "plt.ylabel(\"Values\")\n",
    "plt.xlabel(\"Counts\")\n",
    "plt.title(\"Frequency Distribution\")\n",
    "plt.show()\n",
    "\n",
    "#Gaussian distribution:\n",
    "mu=np.mean(int_list2)\n",
    "sigma=np.std(int_list2)\n",
    "x=np.linspace(mu-3*sigma,mu+3*sigma,100)\n",
    "y=(1/(sigma*np.sqrt(2*np.pi)))*np.exp(-0.5*((x-mu)/sigma)**2)\n",
    "\n",
    "plt.subplot(1,2,2)\n",
    "plt.plot(x,y)\n",
    "plt.xlabel(\"Values\")\n",
    "plt.ylabel(\"Probability Distribution\")\n",
    "plt.title(\"Gaussian Distribution\")\n",
    "plt.show()"
   ]
  },
  {
   "cell_type": "markdown",
   "id": "52277f55",
   "metadata": {},
   "source": [
    "2. Frequency smoothened KDE plot : This visualization represents the data using a Kernel Density Estimation (KDE) plot, which smoothes the data and provides a continuous density estimate. It shows the distribution of the data in a smooth curve, giving insights into the shape and density of the data.\n"
   ]
  },
  {
   "cell_type": "code",
   "execution_count": 13,
   "id": "c0f5c747-c092-491d-a0dc-2989a6a844b1",
   "metadata": {},
   "outputs": [
    {
     "data": {
      "image/png": "[encoded data removed]",
      "text/plain": [
       "<Figure size 640x480 with 1 Axes>"
      ]
     },
     "metadata": {},
     "output_type": "display_data"
    }
   ],
   "source": [
    "\n",
    "import seaborn as sns\n",
    "data=int_list2\n",
    "values,counts=np.unique(data,return_counts=True)\n",
    "#Smooth the frequency table by resampling the data:\n",
    "smoothed_values = np.repeat(values, counts)\n",
    "\n",
    "sns.kdeplot(smoothed_values)\n",
    "plt.xlabel(\"Values\")\n",
    "plt.ylabel(\"Density\")\n",
    "plt.title(\"Frequency smoothened KDE plot\")\n",
    "plt.show()"
   ]
  },
  {
   "cell_type": "markdown",
   "id": "3d83574b",
   "metadata": {},
   "source": [
    "3. Gaussian distribution & smoothened KDE plot: This visualization combines the Gaussian distribution curve with the smoothened KDE plot. It allows for a comparison between the actual data distribution and the estimated distribution based on the KDE."
   ]
  },
  {
   "cell_type": "code",
   "execution_count": 14,
   "id": "47ca8500-ebbe-4714-94f1-780992515040",
   "metadata": {},
   "outputs": [
    {
     "data": {
      "image/png": "[encoded data removed]",
      "text/plain": [
       "<Figure size 640x480 with 1 Axes>"
      ]
     },
     "metadata": {},
     "output_type": "display_data"
    },
    {
     "data": {
      "image/png": "[encoded data removed]",
      "text/plain": [
       "<Figure size 640x480 with 1 Axes>"
      ]
     },
     "metadata": {},
     "output_type": "display_data"
    }
   ],
   "source": [
    "#Gaussian Distribution\n",
    "\n",
    "mu=np.mean(int_list2)\n",
    "sigma=np.std(int_list2)\n",
    "x=np.linspace(mu-3*sigma,mu+3*sigma,100)\n",
    "y=(1/(sigma*np.sqrt(2*np.pi)))*np.exp(-0.5*((x-mu)/sigma)**2)\n",
    "\n",
    "plt.subplot(1,2,1)\n",
    "plt.plot(x,y)\n",
    "plt.xlabel(\"Values\")\n",
    "plt.ylabel(\"Probability Distribution\")\n",
    "plt.title(\"Gaussian Distribution\")\n",
    "plt.show()\n",
    "\n",
    "#Smoothened KDE plot\n",
    "import seaborn as sns\n",
    "data=int_list2\n",
    "values,counts=np.unique(data,return_counts=True)\n",
    "#Smooth the frequency table by resampling the data:\n",
    "smoothed_values = np.repeat(values, counts)\n",
    "\n",
    "plt.subplot(1,2,2)\n",
    "sns.kdeplot(smoothed_values)\n",
    "plt.xlabel(\"Values\")\n",
    "plt.ylabel(\"Density\")\n",
    "plt.title(\"Frequency smoothened KDE plot\")\n",
    "plt.show()"
   ]
  },
  {
   "cell_type": "markdown",
   "id": "d158993f",
   "metadata": {},
   "source": [
    "(ii) Write a python function to calculate the range of a given list of numbers"
   ]
  },
  {
   "cell_type": "code",
   "execution_count": 15,
   "id": "6cdec697-ded1-489b-a25a-8f4e5a1bce6f",
   "metadata": {},
   "outputs": [
    {
     "name": "stdout",
     "output_type": "stream",
     "text": [
      "Range: 99\n"
     ]
    }
   ],
   "source": [
    "def range_(l):\n",
    "    return max(l)-min(l)\n",
    "print('Range:',range_(int_list2))"
   ]
  },
  {
   "cell_type": "markdown",
   "id": "17fad242",
   "metadata": {},
   "source": [
    "(iii)Create a program to find the variance and standard deviation of list of numbers."
   ]
  },
  {
   "cell_type": "code",
   "execution_count": 16,
   "id": "66e70452-b03b-4df0-bdd7-7bc49530dbf2",
   "metadata": {},
   "outputs": [
    {
     "name": "stdout",
     "output_type": "stream",
     "text": [
      "Sample Variance: 837.24\n",
      "population Variance 835.57\n",
      "Standard_deviation: 28.91\n"
     ]
    }
   ],
   "source": [
    "def Variance(l,dof):\n",
    "    n=len(l)\n",
    "    #Find out mean\n",
    "    mean=round(sum(l)/n,2)\n",
    "    #Deviation\n",
    "    deviation=[(x-mean)**2 for x in l]\n",
    "    variance=sum(deviation)/(n-dof)\n",
    "    return variance\n",
    "Sample_Variance=Variance(int_list2,1)\n",
    "Population_variance=Variance(int_list2,0)\n",
    "print(\"Sample Variance:\",round(Sample_Variance,2))\n",
    "print(\"population Variance\",round(Population_variance,2))\n",
    "print(\"Standard_deviation:\",np.sqrt(Variance(int_list2,0)).round(2))"
   ]
  },
  {
   "cell_type": "markdown",
   "id": "ea05d2c9",
   "metadata": {},
   "source": [
    "(iv) Implement a function to compute the interquartile range(IQR) of a list of values."
   ]
  },
  {
   "cell_type": "code",
   "execution_count": 17,
   "id": "29da90ee-e45e-4fbf-ae09-d5da2b32f3df",
   "metadata": {},
   "outputs": [
    {
     "name": "stdout",
     "output_type": "stream",
     "text": [
      "IQR: 49.0\n"
     ]
    }
   ],
   "source": [
    "def IQR(l):\n",
    "    q1,q3=np.percentile(int_list2,[25,75])\n",
    "    return q3-q1\n",
    "print(\"IQR:\",IQR(int_list2))"
   ]
  },
  {
   "cell_type": "markdown",
   "id": "7e4ac1c1",
   "metadata": {},
   "source": [
    "(v).Build a program to calculate the coefficient of variation for a dataset."
   ]
  },
  {
   "cell_type": "code",
   "execution_count": 18,
   "id": "5b225c67-ef01-4f74-b46d-39a16d102f01",
   "metadata": {},
   "outputs": [
    {
     "name": "stdout",
     "output_type": "stream",
     "text": [
      "The coefficient of variation is: 11.56\n"
     ]
    }
   ],
   "source": [
    "def coefficient_of_variation(data):\n",
    "    mean = np.mean(data)\n",
    "    std_dev = np.std(data)\n",
    "    coefficient = (std_dev / mean) * 100\n",
    "    return coefficient\n",
    "\n",
    "cv = coefficient_of_variation(int_list2).round(2)\n",
    "print(\"The coefficient of variation is:\", cv)"
   ]
  },
  {
   "cell_type": "markdown",
   "id": "388b7b17",
   "metadata": {},
   "source": [
    "(vi) Write a python function to find the mean absolute deviation(MAD) of a list of numbers."
   ]
  },
  {
   "cell_type": "code",
   "execution_count": 19,
   "id": "2e39e965-eaf5-45d1-a68e-cec57d25e6c3",
   "metadata": {},
   "outputs": [
    {
     "name": "stdout",
     "output_type": "stream",
     "text": [
      "The Mean Absolute Deviation is: 25.07\n"
     ]
    }
   ],
   "source": [
    "def mean_absolute_deviation(numbers):\n",
    "    mean = sum(numbers) / len(numbers)\n",
    "    deviations = [abs(num - mean) for num in numbers]\n",
    "    mad = sum(deviations) / len(numbers)\n",
    "    return mad\n",
    "\n",
    "data = int_list2\n",
    "mad = mean_absolute_deviation(data).round(2)\n",
    "print(\"The Mean Absolute Deviation is:\", mad)"
   ]
  },
  {
   "cell_type": "markdown",
   "id": "323bde65",
   "metadata": {},
   "source": [
    "(vii) Create a program to calculate the quartile deviation of a list of values"
   ]
  },
  {
   "cell_type": "code",
   "execution_count": 20,
   "id": "58cbf759-c0be-4428-bc36-5337709e781c",
   "metadata": {},
   "outputs": [
    {
     "name": "stdout",
     "output_type": "stream",
     "text": [
      "The quartile deviation is: 24.5\n"
     ]
    }
   ],
   "source": [
    "def quartile_deviation(data):\n",
    "    q1 = np.percentile(data, 25)\n",
    "    q3 = np.percentile(data, 75)\n",
    "    deviation = (q3 - q1) / 2\n",
    "    return deviation\n",
    "\n",
    "dataset = int_list2\n",
    "qd = quartile_deviation(dataset)\n",
    "print(\"The quartile deviation is:\", qd)"
   ]
  },
  {
   "cell_type": "markdown",
   "id": "b3fbeee4",
   "metadata": {},
   "source": [
    "(viii) Implement a function to find the range-based coefficient of dispersion for a dataset."
   ]
  },
  {
   "cell_type": "code",
   "execution_count": 21,
   "id": "f55f97f9-29a9-4a0d-bd6d-bdbeb70179b4",
   "metadata": {},
   "outputs": [
    {
     "name": "stdout",
     "output_type": "stream",
     "text": [
      "The range-based coefficient of dispersion is: 39.58\n"
     ]
    }
   ],
   "source": [
    "def range_coefficient_of_dispersion(data):\n",
    "    data_range = max(data) - min(data)\n",
    "    data_mean = sum(data) / len(data)\n",
    "    coefficient = (data_range / data_mean) * 100\n",
    "    return coefficient\n",
    "\n",
    "dataset = int_list2\n",
    "rcd = range_coefficient_of_dispersion(dataset).round(2)\n",
    "print(\"The range-based coefficient of dispersion is:\", rcd)"
   ]
  },
  {
   "cell_type": "markdown",
   "id": "5b72d2be",
   "metadata": {},
   "source": [
    "### 3. Write a Python class representing a discrete random variable with methods to calculate its expected value and variance."
   ]
  },
  {
   "cell_type": "code",
   "execution_count": 22,
   "id": "13d31278-212b-4b9f-9893-25fcac878a5c",
   "metadata": {},
   "outputs": [
    {
     "name": "stdout",
     "output_type": "stream",
     "text": [
      "Expected Value: 2.4\n",
      "Variance: 0.84\n"
     ]
    }
   ],
   "source": [
    "\n",
    "class DiscreteRandomVariable:\n",
    "    def __init__(self,values,probabilities):\n",
    "        self.values=values\n",
    "        self.probabilities=probabilities\n",
    "    def expected_value(self):\n",
    "        return sum(value*probability for value, probability in zip(self.values,self.probabilities))\n",
    "    \n",
    "    def variance(self):\n",
    "        expected_value=self.expected_value()\n",
    "        return sum((value-expected_value)**2*probability for value,probability in zip(self.values,self.probabilities))\n",
    "values = [1, 2, 3, 4]\n",
    "probabilities = [0.2, 0.3, 0.4, 0.1]\n",
    "\n",
    "rv = DiscreteRandomVariable(values, probabilities)\n",
    "print(\"Expected Value:\", round(rv.expected_value(),2))\n",
    "print(\"Variance:\", round(rv.variance(),2))"
   ]
  },
  {
   "cell_type": "markdown",
   "id": "9b477763",
   "metadata": {},
   "source": [
    "### 4. Implement a program to stimulate the rolling of a fair six-sided die and calculate the expected value and variance of the outcomes."
   ]
  },
  {
   "cell_type": "code",
   "execution_count": 23,
   "id": "d8a963ad-fbe5-40ef-b7bd-b6041519d9d3",
   "metadata": {},
   "outputs": [
    {
     "name": "stdout",
     "output_type": "stream",
     "text": [
      "Expected Value: 3.5\n",
      "Variance: 2.95\n"
     ]
    }
   ],
   "source": [
    "\n",
    "import random\n",
    "\n",
    "def roll_die():\n",
    "    return random.randint(1, 6)\n",
    "\n",
    "def simulate_rolls(num_rolls):\n",
    "    rolls = [roll_die() for i in range(num_rolls)]\n",
    "    return rolls\n",
    "\n",
    "def calculate_expected_value(rolls):\n",
    "    return sum(rolls) / len(rolls)\n",
    "\n",
    "def calculate_variance(rolls):\n",
    "    expected_value = calculate_expected_value(rolls)\n",
    "    squared_diff = [(roll - expected_value) ** 2 for roll in rolls]\n",
    "    return sum(squared_diff) / len(rolls)\n",
    "\n",
    "rolls = simulate_rolls(100)\n",
    "\n",
    "expected_value = calculate_expected_value(rolls)\n",
    "variance = calculate_variance(rolls)\n",
    "\n",
    "print(\"Expected Value:\", expected_value)\n",
    "print(\"Variance:\", variance)"
   ]
  },
  {
   "cell_type": "markdown",
   "id": "a02bbb2f",
   "metadata": {},
   "source": [
    "### 5. Create a Python function to generate random sample from a given probability distribution(eg. binomial,poisson) and calculate their mean and variance.\n"
   ]
  },
  {
   "cell_type": "code",
   "execution_count": 24,
   "id": "f7427f9f-12f0-4e17-a762-7d890d1e1eb1",
   "metadata": {},
   "outputs": [
    {
     "name": "stdout",
     "output_type": "stream",
     "text": [
      "Mean: 4.91\n",
      "Variance: 2.28\n"
     ]
    }
   ],
   "source": [
    "\n",
    "def generate_sample(distribution,size):\n",
    "    if distribution==\"binomial\":\n",
    "        sample=np.random.binomial(n=10,p=0.5,size=size)\n",
    "    elif distribution==\"poisson\":\n",
    "        sample=np.random.poisson(lam=5,size=size)\n",
    "    else:\n",
    "        return \"Invalid distribution. Please choose either 'binomial' or 'poisson'.\"\n",
    "    \n",
    "    mean=np.mean(sample)\n",
    "    variance=np.var(sample)\n",
    "    return mean, variance\n",
    "sample_mean, sample_variance = generate_sample(\"binomial\", 1000)\n",
    "print(\"Mean:\", round(sample_mean,2))\n",
    "print(\"Variance:\", round(sample_variance,2))"
   ]
  },
  {
   "cell_type": "markdown",
   "id": "2d27cbd4",
   "metadata": {},
   "source": [
    "### 6. Write a Python script to generate random numbers from a Gaussian(normal) distribution and compute the mean, variance and standard deviation of the samples."
   ]
  },
  {
   "cell_type": "code",
   "execution_count": 25,
   "id": "d30e330d-768d-4c2b-9d97-7930f3340b89",
   "metadata": {},
   "outputs": [
    {
     "name": "stdout",
     "output_type": "stream",
     "text": [
      "Mean: 0.01\n",
      "Variance: 1.01\n",
      "Standard Deviation: 1.01\n"
     ]
    }
   ],
   "source": [
    "\n",
    "def generate_gaussian_samples(mean, std_dev, size):\n",
    "    samples = np.random.normal(mean, std_dev, size)\n",
    "    sample_mean = np.mean(samples).round(2)\n",
    "    sample_variance = np.var(samples).round(2)\n",
    "    sample_std_dev = np.std(samples).round(2)\n",
    "    return sample_mean, sample_variance, sample_std_dev\n",
    "\n",
    "mean = 0\n",
    "std_dev = 1\n",
    "sample_size = 1000\n",
    "sample_mean, sample_variance, sample_std_dev = generate_gaussian_samples(mean, std_dev, sample_size)\n",
    "print(\"Mean:\", sample_mean)\n",
    "print(\"Variance:\", sample_variance)\n",
    "print(\"Standard Deviation:\", sample_std_dev)"
   ]
  },
  {
   "cell_type": "markdown",
   "id": "2efb354a",
   "metadata": {},
   "source": [
    "### 7. Use seaborn library to load 'tips' dataset. Find the following from the dataset for the columns \"total_bill\" and \"tip\""
   ]
  },
  {
   "cell_type": "code",
   "execution_count": 26,
   "id": "7b0efc8d-214e-42f0-b52a-ce3ac20e16a2",
   "metadata": {},
   "outputs": [
    {
     "data": {
      "text/html": [
       "<div>\n",
       "<style scoped>\n",
       "    .dataframe tbody tr th:only-of-type {\n",
       "        vertical-align: middle;\n",
       "    }\n",
       "\n",
       "    .dataframe tbody tr th {\n",
       "        vertical-align: top;\n",
       "    }\n",
       "\n",
       "    .dataframe thead th {\n",
       "        text-align: right;\n",
       "    }\n",
       "</style>\n",
       "<table border=\"1\" class=\"dataframe\">\n",
       "  <thead>\n",
       "    <tr style=\"text-align: right;\">\n",
       "      <th></th>\n",
       "      <th>total_bill</th>\n",
       "      <th>tip</th>\n",
       "      <th>sex</th>\n",
       "      <th>smoker</th>\n",
       "      <th>day</th>\n",
       "      <th>time</th>\n",
       "      <th>size</th>\n",
       "    </tr>\n",
       "  </thead>\n",
       "  <tbody>\n",
       "    <tr>\n",
       "      <th>0</th>\n",
       "      <td>16.99</td>\n",
       "      <td>1.01</td>\n",
       "      <td>Female</td>\n",
       "      <td>No</td>\n",
       "      <td>Sun</td>\n",
       "      <td>Dinner</td>\n",
       "      <td>2</td>\n",
       "    </tr>\n",
       "    <tr>\n",
       "      <th>1</th>\n",
       "      <td>10.34</td>\n",
       "      <td>1.66</td>\n",
       "      <td>Male</td>\n",
       "      <td>No</td>\n",
       "      <td>Sun</td>\n",
       "      <td>Dinner</td>\n",
       "      <td>3</td>\n",
       "    </tr>\n",
       "    <tr>\n",
       "      <th>2</th>\n",
       "      <td>21.01</td>\n",
       "      <td>3.50</td>\n",
       "      <td>Male</td>\n",
       "      <td>No</td>\n",
       "      <td>Sun</td>\n",
       "      <td>Dinner</td>\n",
       "      <td>3</td>\n",
       "    </tr>\n",
       "    <tr>\n",
       "      <th>3</th>\n",
       "      <td>23.68</td>\n",
       "      <td>3.31</td>\n",
       "      <td>Male</td>\n",
       "      <td>No</td>\n",
       "      <td>Sun</td>\n",
       "      <td>Dinner</td>\n",
       "      <td>2</td>\n",
       "    </tr>\n",
       "    <tr>\n",
       "      <th>4</th>\n",
       "      <td>24.59</td>\n",
       "      <td>3.61</td>\n",
       "      <td>Female</td>\n",
       "      <td>No</td>\n",
       "      <td>Sun</td>\n",
       "      <td>Dinner</td>\n",
       "      <td>4</td>\n",
       "    </tr>\n",
       "    <tr>\n",
       "      <th>...</th>\n",
       "      <td>...</td>\n",
       "      <td>...</td>\n",
       "      <td>...</td>\n",
       "      <td>...</td>\n",
       "      <td>...</td>\n",
       "      <td>...</td>\n",
       "      <td>...</td>\n",
       "    </tr>\n",
       "    <tr>\n",
       "      <th>239</th>\n",
       "      <td>29.03</td>\n",
       "      <td>5.92</td>\n",
       "      <td>Male</td>\n",
       "      <td>No</td>\n",
       "      <td>Sat</td>\n",
       "      <td>Dinner</td>\n",
       "      <td>3</td>\n",
       "    </tr>\n",
       "    <tr>\n",
       "      <th>240</th>\n",
       "      <td>27.18</td>\n",
       "      <td>2.00</td>\n",
       "      <td>Female</td>\n",
       "      <td>Yes</td>\n",
       "      <td>Sat</td>\n",
       "      <td>Dinner</td>\n",
       "      <td>2</td>\n",
       "    </tr>\n",
       "    <tr>\n",
       "      <th>241</th>\n",
       "      <td>22.67</td>\n",
       "      <td>2.00</td>\n",
       "      <td>Male</td>\n",
       "      <td>Yes</td>\n",
       "      <td>Sat</td>\n",
       "      <td>Dinner</td>\n",
       "      <td>2</td>\n",
       "    </tr>\n",
       "    <tr>\n",
       "      <th>242</th>\n",
       "      <td>17.82</td>\n",
       "      <td>1.75</td>\n",
       "      <td>Male</td>\n",
       "      <td>No</td>\n",
       "      <td>Sat</td>\n",
       "      <td>Dinner</td>\n",
       "      <td>2</td>\n",
       "    </tr>\n",
       "    <tr>\n",
       "      <th>243</th>\n",
       "      <td>18.78</td>\n",
       "      <td>3.00</td>\n",
       "      <td>Female</td>\n",
       "      <td>No</td>\n",
       "      <td>Thur</td>\n",
       "      <td>Dinner</td>\n",
       "      <td>2</td>\n",
       "    </tr>\n",
       "  </tbody>\n",
       "</table>\n",
       "<p>244 rows × 7 columns</p>\n",
       "</div>"
      ],
      "text/plain": [
       "     total_bill   tip     sex smoker   day    time  size\n",
       "0         16.99  1.01  Female     No   Sun  Dinner     2\n",
       "1         10.34  1.66    Male     No   Sun  Dinner     3\n",
       "2         21.01  3.50    Male     No   Sun  Dinner     3\n",
       "3         23.68  3.31    Male     No   Sun  Dinner     2\n",
       "4         24.59  3.61  Female     No   Sun  Dinner     4\n",
       "..          ...   ...     ...    ...   ...     ...   ...\n",
       "239       29.03  5.92    Male     No   Sat  Dinner     3\n",
       "240       27.18  2.00  Female    Yes   Sat  Dinner     2\n",
       "241       22.67  2.00    Male    Yes   Sat  Dinner     2\n",
       "242       17.82  1.75    Male     No   Sat  Dinner     2\n",
       "243       18.78  3.00  Female     No  Thur  Dinner     2\n",
       "\n",
       "[244 rows x 7 columns]"
      ]
     },
     "execution_count": 26,
     "metadata": {},
     "output_type": "execute_result"
    }
   ],
   "source": [
    "\n",
    "import seaborn as sns\n",
    "tips=sns.load_dataset(\"tips\")\n",
    "tips"
   ]
  },
  {
   "cell_type": "markdown",
   "id": "fb164e74",
   "metadata": {},
   "source": [
    "(i) Write a python function that calculate thir skewness.\n"
   ]
  },
  {
   "cell_type": "code",
   "execution_count": 27,
   "id": "33633a0f-f5ba-4d15-8ab2-8bbcc3fd43d0",
   "metadata": {},
   "outputs": [
    {
     "name": "stdout",
     "output_type": "stream",
     "text": [
      "Skewness of total_bill column: 1.13\n",
      "Skewness of tip column: 1.47\n"
     ]
    }
   ],
   "source": [
    "def calculate_skewness():\n",
    "    total_bill=tips[\"total_bill\"]\n",
    "    tip=tips[\"tip\"]\n",
    "    total_bill_skewness=total_bill.skew().round(2)\n",
    "    tip_skewness=tip.skew().round(2)\n",
    "    print(\"Skewness of total_bill column:\", total_bill_skewness)\n",
    "    print(\"Skewness of tip column:\", tip_skewness)\n",
    "calculate_skewness()"
   ]
  },
  {
   "cell_type": "markdown",
   "id": "5216a19c",
   "metadata": {},
   "source": [
    "(ii) Create a program that determines whether the columns exhibit positive skewness, negative skewness or is approximately symmetric."
   ]
  },
  {
   "cell_type": "code",
   "execution_count": 28,
   "id": "ee12867b-0018-46d5-ab4c-5106807a82b5",
   "metadata": {},
   "outputs": [
    {
     "name": "stdout",
     "output_type": "stream",
     "text": [
      "Total_bill column has positive skewness\n",
      "Tip column has positive skewness\n"
     ]
    }
   ],
   "source": [
    "\n",
    "def determine_skewness():\n",
    "    tips_dataset = sns.load_dataset(\"tips\")\n",
    "    total_bill_column = tips_dataset[\"total_bill\"]\n",
    "    tip_column = tips_dataset[\"tip\"]\n",
    "    total_bill_skewness = total_bill_column.skew()\n",
    "    tip_skewness = tip_column.skew()\n",
    "\n",
    "    if total_bill_skewness > 0:\n",
    "        total_bill_skewness_type = \"positive skewness\"\n",
    "    elif total_bill_skewness < 0:\n",
    "        total_bill_skewness_type = \"negative skewness\"\n",
    "    else:\n",
    "        total_bill_skewness_type = \"approximately symmetric\"\n",
    "\n",
    "    if tip_skewness > 0:\n",
    "        tip_skewness_type = \"positive skewness\"\n",
    "    elif tip_skewness < 0:\n",
    "        tip_skewness_type = \"negative skewness\"\n",
    "    else:\n",
    "        tip_skewness_type = \"approximately symmetric\"\n",
    "\n",
    "    print(\"Total_bill column has\", total_bill_skewness_type)\n",
    "    print(\"Tip column has\", tip_skewness_type)\n",
    "\n",
    "# Call the function to determine skewness\n",
    "determine_skewness()"
   ]
  },
  {
   "cell_type": "markdown",
   "id": "fbd0880b",
   "metadata": {},
   "source": [
    "(iii)Write a function that calculate the covariance between two columns.\n"
   ]
  },
  {
   "cell_type": "code",
   "execution_count": 29,
   "id": "34093ce5-fd81-4bbc-b584-b28b50fd0d6c",
   "metadata": {},
   "outputs": [
    {
     "name": "stdout",
     "output_type": "stream",
     "text": [
      "The covariance between 'total_bill' and 'tip' is: 8.32\n"
     ]
    }
   ],
   "source": [
    "def calculate_covariance(column1, column2):\n",
    "    tips_dataset = tips  # Replace \"tips.csv\" with your dataset file name\n",
    "    covariance = tips_dataset[\"total_bill\"].cov(tips_dataset[\"tip\"]).round(2)\n",
    "    return covariance\n",
    "\n",
    "# Example usage:\n",
    "covariance = calculate_covariance(\"total_bill\", \"tip\")\n",
    "print(\"The covariance between 'total_bill' and 'tip' is:\", covariance)"
   ]
  },
  {
   "cell_type": "markdown",
   "id": "cbe66062",
   "metadata": {},
   "source": [
    "(iv)Implement a python program that calculate the Pearson correlation coefficient between two columns.\n"
   ]
  },
  {
   "cell_type": "code",
   "execution_count": 32,
   "id": "cd7f576b-ffc2-4899-b23b-333f2d37ac1f",
   "metadata": {},
   "outputs": [
    {
     "name": "stdout",
     "output_type": "stream",
     "text": [
      "The Pearson correlation coefficient between 'total_bill' and 'tip' is: 0.68\n"
     ]
    }
   ],
   "source": [
    "def calculate_correlation(column1, column2):\n",
    "    tips_dataset = tips\n",
    "    correlation = tips_dataset[column1].corr(tips_dataset[column2])\n",
    "    return correlation\n",
    "\n",
    "correlation = calculate_correlation(\"total_bill\", \"tip\").round(2)\n",
    "print(\"The Pearson correlation coefficient between 'total_bill' and 'tip' is:\", correlation)"
   ]
  },
  {
   "cell_type": "markdown",
   "id": "1a50b446",
   "metadata": {},
   "source": [
    "(v) Write a script to visualize the correlation between two specific columns in a pandas DataFrame using scatter plots."
   ]
  },
  {
   "cell_type": "code",
   "execution_count": 33,
   "id": "054ba3b5-73f7-478b-a9f9-ebf566227770",
   "metadata": {},
   "outputs": [
    {
     "data": {
      "image/png": "[encoded data removed]",
      "text/plain": [
       "<Figure size 640x480 with 1 Axes>"
      ]
     },
     "metadata": {},
     "output_type": "display_data"
    }
   ],
   "source": [
    "\n",
    "import matplotlib.pyplot as plt\n",
    "\n",
    "def visualize_correlation(column1, column2):\n",
    "    tips_dataset = tips\n",
    "    tips_dataset.plot.scatter(x=column1, y=column2)\n",
    "    plt.xlabel(column1)\n",
    "    plt.ylabel(column2)\n",
    "    plt.title(\"Correlation between \" + column1 + \" and \" + column2)\n",
    "    plt.show()\n",
    "\n",
    "visualize_correlation(\"total_bill\", \"tip\")"
   ]
  },
  {
   "cell_type": "markdown",
   "id": "1139e38c",
   "metadata": {},
   "source": [
    "### 8. Write a Python function to calculate the probability density function(PDF) of a continuous random\n",
    "variable for a given normal distribution."
   ]
  },
  {
   "cell_type": "code",
   "execution_count": 4,
   "id": "a3e03bcd-5a41-446e-9b82-d220cf5a9246",
   "metadata": {},
   "outputs": [
    {
     "data": {
      "image/png": "[encoded data removed]",
      "text/plain": [
       "<Figure size 640x480 with 1 Axes>"
      ]
     },
     "metadata": {},
     "output_type": "display_data"
    }
   ],
   "source": [
    "\n",
    "from scipy.stats import norm\n",
    "def calculate_pdf(x,mean,std_dev):\n",
    "    pdf=norm.pdf(x,mean,std_dev)\n",
    "    return pdf\n",
    "x=np.linspace(-5,5,100)\n",
    "mean=0\n",
    "std_dev=1\n",
    "pdf=calculate_pdf(x,mean,std_dev)\n",
    "\n",
    "plt.plot(x,pdf)\n",
    "plt.xlabel(\"x\")\n",
    "plt.ylabel(\"PDF\")\n",
    "plt.title(\"Normal Distribution PDF\")\n",
    "plt.show()"
   ]
  },
  {
   "cell_type": "markdown",
   "id": "1714c5e1",
   "metadata": {},
   "source": [
    "10. Write a Python function to calculate the probability mass function(PMF) of Poisson distribution."
   ]
  },
  {
   "cell_type": "code",
   "execution_count": 5,
   "id": "6459529a-58b9-4829-b2ee-db2c67c912ea",
   "metadata": {},
   "outputs": [
    {
     "data": {
      "image/png": "[encoded data removed]",
      "text/plain": [
       "<Figure size 640x480 with 1 Axes>"
      ]
     },
     "metadata": {},
     "output_type": "display_data"
    }
   ],
   "source": [
    "from scipy.stats import poisson\n",
    "\n",
    "def calculate_pmf(k, lambda_val):\n",
    "    pmf = poisson.pmf(k, lambda_val)\n",
    "    return pmf\n",
    "\n",
    "k = np.arange(0, 10)  #values of k\n",
    "lambda_val = 2  #parameter lambda\n",
    "pmf = calculate_pmf(k, lambda_val)\n",
    "\n",
    "plt.stem(k, pmf)\n",
    "plt.xlabel('k')\n",
    "plt.ylabel('PMF')\n",
    "plt.title('Poisson Distribution PMF')\n",
    "plt.show()"
   ]
  },
  {
   "cell_type": "markdown",
   "id": "a1fb0a52",
   "metadata": {},
   "source": [
    "### 11. A company wants to test if a new website layout leads to a higher conversion rate(percentage of visitors who make a purchase).They collect data from the old and new layouts to compare.\n",
    "To generate the data use following command:\n",
    "#50 purchase out of 1000 visitors\n",
    "old_layouts=np.array([1]*50+[0]*950)\n",
    "#70 purchase out of 1000 visitors\n",
    "new_layouts=np.array([1]*70+[0]*930)\n",
    "Apply z_test to find which layout is successful."
   ]
  },
  {
   "cell_type": "code",
   "execution_count": 2,
   "id": "889afa9b-a929-4c76-a162-117726362c4e",
   "metadata": {},
   "outputs": [
    {
     "name": "stdout",
     "output_type": "stream",
     "text": [
      "There is no statistically significant difference in conversion rates.\n"
     ]
    }
   ],
   "source": [
    "\n",
    "\n",
    "from statsmodels.stats.proportion import proportions_ztest\n",
    "\n",
    "#Define the data\n",
    "old_layouts = np.array([1] * 50 + [0] * 950)\n",
    "new_layouts = np.array([1] * 70 + [0] * 930)\n",
    "\n",
    "#Perform the z-test\n",
    "successes = np.array([np.sum(old_layouts), np.sum(new_layouts)])\n",
    "nobs = np.array([len(old_layouts), len(new_layouts)])\n",
    "\n",
    "z_score, p_value = proportions_ztest(successes, nobs)\n",
    "\n",
    "#Interpret the results\n",
    "if p_value < 0.05:\n",
    "    print(\"The difference in conversion rates is statistically significant.\")\n",
    "    if z_score < 0:\n",
    "        print(\"The new layout has a higher conversion rate.\")\n",
    "    else:\n",
    "        print(\"The old layout has a higher conversion rate.\")\n",
    "else:\n",
    "    print(\"There is no statistically significant difference in conversion rates.\")"
   ]
  },
  {
   "cell_type": "markdown",
   "id": "17693dbd",
   "metadata": {},
   "source": [
    "### 12. A tutoring service claims that its program improves student's exam scores. A sample of students who  participated in th program was taken, and their scores before and after the program we recorded. Use the below code to generate sample of respective array of marks: before_program=np.array([75,80,85,70,90,78,92,88,82,87]) after_program=np.array([80,85,90,80,92,80,95,90,85,88]) Use z-test to find if the claims made by tutor are true or false."
   ]
  },
  {
   "cell_type": "code",
   "execution_count": 3,
   "id": "843e3042-3bc5-4ac3-91c6-547d39de1e22",
   "metadata": {},
   "outputs": [
    {
     "name": "stdout",
     "output_type": "stream",
     "text": [
      "The tutoring program has a statistically significant impact on exam scores.\n",
      "The students' scores improved after the program.\n"
     ]
    }
   ],
   "source": [
    "\n",
    "import numpy as np\n",
    "from scipy.stats import norm\n",
    "\n",
    "#Define the data\n",
    "before_program = np.array([75, 80, 85, 70, 90, 78, 92, 88, 82, 87])\n",
    "after_program = np.array([80, 85, 90, 80, 92, 80, 95, 90, 85, 88])\n",
    "\n",
    "#Calculate the mean and standard deviation of the differences\n",
    "differences = after_program - before_program\n",
    "mean_diff = np.mean(differences)\n",
    "std_diff = np.std(differences, ddof=1) / np.sqrt(len(differences))\n",
    "\n",
    "#Perform the z-test\n",
    "z_score = (mean_diff - 0) / std_diff\n",
    "p_value = 2 * (1 - norm.cdf(abs(z_score)))\n",
    "\n",
    "#Interpret the results\n",
    "if p_value < 0.05:\n",
    "    print(\"The tutoring program has a statistically significant impact on exam scores.\")\n",
    "    if z_score > 0:\n",
    "        print(\"The students' scores improved after the program.\")\n",
    "    else:\n",
    "        print(\"The students' scores decreased after the program.\")\n",
    "else:\n",
    "    print(\"There is no statistically significant impact of the tutoring program on exam scores.\")"
   ]
  },
  {
   "cell_type": "markdown",
   "id": "d5927cdf",
   "metadata": {},
   "source": [
    "### 13.A pharmaceutical company wants to determine if a new drug is effective in reducing blood pressure. They conduct a study and record blood pressure measurement before and after administering the drug. Use the below code to generate sample of respective arrays of blood pressure: before_drug=np.array([145,150,140,135,155,160,152,148,130,138]) after_drug=np.array([130,140,132,128,145,148,138,136,125,130]) Implement z_test to find if the drug really works or not."
   ]
  },
  {
   "cell_type": "code",
   "execution_count": 4,
   "id": "d89a04fe-17c0-4a09-9922-198f6abf327f",
   "metadata": {},
   "outputs": [
    {
     "name": "stdout",
     "output_type": "stream",
     "text": [
      "The drug has a statistically significant effect in reducing blood pressure.\n",
      "The drug lowers blood pressure.\n"
     ]
    }
   ],
   "source": [
    "from scipy.stats import norm\n",
    "\n",
    "# Define the data\n",
    "before_drug = np.array([145, 150, 140, 135, 155, 160, 152, 148, 130, 138])\n",
    "after_drug = np.array([130, 140, 132, 128, 145, 148, 138, 136, 125, 130])\n",
    "\n",
    "# Calculate the mean and standard deviation of the differences\n",
    "differences = after_drug - before_drug\n",
    "mean_diff = np.mean(differences)\n",
    "std_diff = np.std(differences, ddof=1) / np.sqrt(len(differences))\n",
    "\n",
    "# Perform the z-test\n",
    "z_score = (mean_diff - 0) / std_diff\n",
    "p_value = 2 * (1 - norm.cdf(abs(z_score)))\n",
    "\n",
    "# Interpret the results\n",
    "if p_value < 0.05:\n",
    "    print(\"The drug has a statistically significant effect in reducing blood pressure.\")\n",
    "    if z_score < 0:\n",
    "        print(\"The drug lowers blood pressure.\")\n",
    "    else:\n",
    "        print(\"The drug increases blood pressure.\")\n",
    "else:\n",
    "    print(\"There is no statistically significant effect of the drug in reducing blood pressure.\")"
   ]
  },
  {
   "cell_type": "markdown",
   "id": "f23dc688",
   "metadata": {},
   "source": [
    "### 14.A customer service department claims that their average response time is less than 5 minutes. A sample of recent customer interaction was taken, and the response time were recorded. implement the below code to generate the array of response time: response_times=np.array([4.3,3.8,5.1,4.9,4.7,4.2,5.2,4.5,4.6,4.4]) Implement z_test to find the claims made by customer service department are true or false."
   ]
  },
  {
   "cell_type": "code",
   "execution_count": 5,
   "id": "5df13de2-f138-4baf-8a4b-ecd451f8f58d",
   "metadata": {},
   "outputs": [
    {
     "name": "stdout",
     "output_type": "stream",
     "text": [
      "The claims made by the customer service department are true.\n"
     ]
    }
   ],
   "source": [
    "\n",
    "from scipy.stats import norm\n",
    "\n",
    "#Define the data\n",
    "response_times = np.array([4.3, 3.8, 5.1, 4.9, 4.7, 4.2, 5.2, 4.5, 4.6, 4.4])\n",
    "\n",
    "#Calculate the sample mean and standard deviation\n",
    "sample_mean = np.mean(response_times)\n",
    "sample_std = np.std(response_times, ddof=1)\n",
    "\n",
    "#Set the null hypothesis mean and significance level\n",
    "null_mean = 5\n",
    "alpha = 0.05\n",
    "\n",
    "#Calculate the z-score\n",
    "z_score = (sample_mean - null_mean) / (sample_std / np.sqrt(len(response_times)))\n",
    "\n",
    "#Calculate the p-value\n",
    "p_value = 1 - norm.cdf(z_score)\n",
    "\n",
    "#Interpret the results\n",
    "if p_value < alpha:\n",
    "    print(\"The claims made by the customer service department are false.\")\n",
    "else:\n",
    "    print(\"The claims made by the customer service department are true.\")"
   ]
  },
  {
   "cell_type": "code",
   "execution_count": 5,
   "id": "72fa8297-f93b-401e-b0cb-bd6eab1da2d4",
   "metadata": {},
   "outputs": [
    {
     "name": "stdout",
     "output_type": "stream",
     "text": [
      "t_stats: -7.298102156175071\n",
      "dof: 18\n",
      "p_value: 8.833437608301987e-07\n"
     ]
    }
   ],
   "source": [
    "'''15.A company is testing two different website layouts to see which one leads to a higher click-through rates.\n",
    "Write a Python function to perform an A/B test analysis, including calculating the t-statistics,degree of \n",
    "freedom, and p-value:\n",
    "Use the following data:\n",
    "layouts_a_click=[28,32,33,29,31,34,30,35,36,37]\n",
    "layouts_b_clicks=[40,41,38,42,39,44,43,41,45,47]'''\n",
    "import scipy.stats as stats\n",
    "\n",
    "def ab_test(layouts_a_click, layouts_b_clicks):\n",
    "    t_stat, p_value = stats.ttest_ind(layouts_a_click, layouts_b_clicks)\n",
    "    dof = len(layouts_a_click) + len(layouts_b_clicks) - 2\n",
    "    return t_stat, dof, p_value\n",
    "\n",
    "layouts_a_click = [28, 32, 33, 29, 31, 34, 30, 35, 36, 37]\n",
    "layouts_b_clicks = [40, 41, 38, 42, 39, 44, 43, 41, 45, 47]\n",
    "\n",
    "t_stat, dof, p_value = ab_test(layouts_a_click, layouts_b_clicks)\n",
    "print(\"t_stats:\",t_stat)\n",
    "print(\"dof:\",dof)\n",
    "print(\"p_value:\",p_value)"
   ]
  },
  {
   "cell_type": "markdown",
   "id": "faa618f2",
   "metadata": {},
   "source": [
    "### 16.A pharmaceutical company wants to determine if a new drug is more effective than an existing drug in reducing cholestrol levels.Create a program to analyze the clinical trial data and calculate the t- statistic and p-value for the treatment effect. Use the following data of cholestrol level: existing_drug_level=[180,182,175,185,178,172,184,179,183] new_drug_levels=[170,172,165,168,175,173,170,178,172,176]"
   ]
  },
  {
   "cell_type": "code",
   "execution_count": 6,
   "id": "f6dff3db-cacb-4ff0-86c5-c526befbc787",
   "metadata": {},
   "outputs": [
    {
     "name": "stdout",
     "output_type": "stream",
     "text": [
      "t_statistics: 4.206274198750941\n",
      "p_value: 0.0005935325314742236\n"
     ]
    }
   ],
   "source": [
    "\n",
    "import scipy.stats as stats\n",
    "\n",
    "def analyze_clinical_trial(existing_drug_levels, new_drug_levels):\n",
    "    t_stat, p_value = stats.ttest_ind(existing_drug_levels, new_drug_levels)\n",
    "    return t_stat, p_value\n",
    "\n",
    "existing_drug_levels = [180, 182, 175, 185, 178, 172, 184, 179, 183]\n",
    "new_drug_levels = [170, 172, 165, 168, 175, 173, 170, 178, 172, 176]\n",
    "\n",
    "t_stat, p_value = analyze_clinical_trial(existing_drug_levels, new_drug_levels)\n",
    "print(\"t_statistics:\",t_stat)\n",
    "print(\"p_value:\",p_value)"
   ]
  },
  {
   "cell_type": "markdown",
   "id": "24159c18",
   "metadata": {},
   "source": [
    "### 17. A school district introduces an educational intervention program to improve math scores.Write a Python function to analyze pre-and post-intervention test score, calculating the t-statistics and p-value to determine if the intervention has a significant impact. Use the following data of test score: pre_intervention_scores=[80,85,90,75,88,82,92,78,85,87] post_intervention_score=[90,92,88,92,95,91,96,93,89,93]"
   ]
  },
  {
   "cell_type": "code",
   "execution_count": 7,
   "id": "dd1050de-ccfd-41df-b85a-7ede2de3be4a",
   "metadata": {},
   "outputs": [
    {
     "name": "stdout",
     "output_type": "stream",
     "text": [
      "t_statistics: -4.42840883965761\n",
      "p_value: 0.0016509548165795493\n"
     ]
    }
   ],
   "source": [
    "\n",
    "import scipy.stats as stats\n",
    "\n",
    "def analyze_intervention(pre_intervention_scores, post_intervention_scores):\n",
    "    t_stat, p_value = stats.ttest_rel(pre_intervention_scores, post_intervention_scores)\n",
    "    return t_stat, p_value\n",
    "\n",
    "pre_intervention_scores = [80, 85, 90, 75, 88, 82, 92, 78, 85, 87]\n",
    "post_intervention_scores = [90, 92, 88, 92, 95, 91, 96, 93, 89, 93]\n",
    "\n",
    "t_stat, p_value = analyze_intervention(pre_intervention_scores, post_intervention_scores)\n",
    "print(\"t_statistics:\",t_stat)\n",
    "print(\"p_value:\",p_value)"
   ]
  },
  {
   "cell_type": "markdown",
   "id": "9e5792e7",
   "metadata": {},
   "source": [
    "### 18. An HR department wants to investigate if there's a gender-based salary gap within the company. Develop a program to analyze salary data, calculate the t-statistics, and determine if there's a statistically significant difference between the average salaries of male and female employees. Use the below code to generate synthetics data:\n",
    "```python\n",
    "#Generate synthetic salary data for male and female employees\n",
    "np.random.seed(0) #For reproducibility\n",
    "male_salaries=np.random.normal(loc=50000,scale=10000,size=20)\n",
    "female_salaries=np.random.normal(loc=55000,scale=9000,size=20)\n",
    "```"
   ]
  },
  {
   "cell_type": "code",
   "execution_count": 3,
   "id": "53203cf9-bd1f-4134-bc7a-e1ce53825e21",
   "metadata": {},
   "outputs": [
    {
     "name": "stdout",
     "output_type": "stream",
     "text": [
      "t_statistics: 0.06114208969631383\n",
      "p_value: 0.9515665020676465\n"
     ]
    }
   ],
   "source": [
    "\n",
    "import scipy.stats as stats\n",
    "\n",
    "# Generate synthetic salary data for male and female employees\n",
    "np.random.seed(0)  # For reproducibility\n",
    "male_salaries = np.random.normal(loc=50000, scale=10000, size=20)\n",
    "female_salaries = np.random.normal(loc=55000, scale=9000, size=20)\n",
    "\n",
    "def analyze_salary_gap(male_salaries, female_salaries):\n",
    "    t_stat, p_value = stats.ttest_ind(male_salaries, female_salaries)\n",
    "    return t_stat, p_value\n",
    "\n",
    "t_stat, p_value = analyze_salary_gap(male_salaries, female_salaries)\n",
    "print(\"t_statistics:\",t_stat)\n",
    "print(\"p_value:\",p_value)"
   ]
  },
  {
   "cell_type": "markdown",
   "id": "4dcac280",
   "metadata": {},
   "source": [
    "### 19. A manufacturer produce two different versions of a product and wants to compare their quality score. Create a Python function to analyze quality assesment data, calculate the t-statistic, and decide whether there's significant difference in quality between the two versions. Use the following data:\n",
    "```python\n",
    "version1_scores=[85,88,82,89,87,84,90,88,85,86,91,83,87,84,89,86,84,88,85,86,89,90,87,88,85]\n",
    "version2_scores=[80,78,83,81,79,82,76,80,78,81,77,82,80,79,82,79,80,81,79,82,79,78,80,81,82]\n",
    "```"
   ]
  },
  {
   "cell_type": "code",
   "execution_count": 2,
   "id": "21fd3170-f093-40cf-b0f9-e6685da57da7",
   "metadata": {},
   "outputs": [
    {
     "name": "stdout",
     "output_type": "stream",
     "text": [
      "t_statistics: 11.325830417646698\n",
      "p_value: 3.6824250702873965e-15\n"
     ]
    }
   ],
   "source": [
    "\n",
    "import scipy.stats as stats\n",
    "\n",
    "version1_scores = [85, 88, 82, 89, 87, 84, 90, 88, 85, 86, 91, 83, 87, 84, 89, 86, 84, 88, 85, 86, 89, 90, 87, 88, 85]\n",
    "version2_scores = [80, 78, 83, 81, 79, 82, 76, 80, 78, 81, 77, 82, 80, 79, 82, 79, 80, 81, 79, 82, 79, 78, 80, 81, 82]\n",
    "\n",
    "def analyze_quality_scores(version1_scores, version2_scores):\n",
    "    t_stat, p_value = stats.ttest_ind(version1_scores, version2_scores)\n",
    "    return t_stat, p_value\n",
    "\n",
    "t_stat, p_value = analyze_quality_scores(version1_scores, version2_scores)\n",
    "print(\"t_statistics:\",t_stat)\n",
    "print(\"p_value:\",p_value)"
   ]
  },
  {
   "cell_type": "markdown",
   "id": "3d05d4d4",
   "metadata": {},
   "source": [
    "### 20.A restaurant chain collects customer satisfaction scores for two different branches.Write a program to analyze the score, calculate the t-statistic, and determine if there's statistically significant difference in customer satisfaction between the branches. Use the below data of scores:\n",
    "```python\n",
    "branch_a_scores=[4,5,3,4,5,4,5,3,4,4,5,4,4,3,4,5,5,4,3,4,5,4,3,5,4,4,5,3,4,5,4]\n",
    "branch_b_scores=[3,4,2,3,4,3,4,2,3,3,4,3,3,2,3,4,4,3,2,3,4,3,2,4,3,3,4,2,3,4,3]\n",
    "```"
   ]
  },
  {
   "cell_type": "code",
   "execution_count": 3,
   "id": "560f0fbb-3489-4907-a27f-40b216dd387b",
   "metadata": {},
   "outputs": [
    {
     "name": "stdout",
     "output_type": "stream",
     "text": [
      "There is a statistically significant difference in customer satisfaction between the branches.\n"
     ]
    }
   ],
   "source": [
    "\n",
    "import scipy.stats as stats\n",
    "\n",
    "branch_a_scores = [4, 5, 3, 4, 5, 4, 5, 3, 4, 4, 5, 4, 4, 3, 4, 5, 5, 4, 3, 4, 5, 4, 3, 5, 4, 4, 5, 3, 4, 5, 4]\n",
    "branch_b_scores = [3, 4, 2, 3, 4, 3, 4, 2, 3, 3, 4, 3, 3, 2, 3, 4, 4, 3, 2, 3, 4, 3, 2, 4, 3, 3, 4, 2, 3, 4, 3]\n",
    "\n",
    "def analyze_customer_satisfaction(branch_a_scores, branch_b_scores):\n",
    "    t_stat, p_value = stats.ttest_ind(branch_a_scores, branch_b_scores)\n",
    "    return t_stat, p_value\n",
    "\n",
    "t_stat, p_value = analyze_customer_satisfaction(branch_a_scores, branch_b_scores)\n",
    "\n",
    "if p_value < 0.05:\n",
    "    print(\"There is a statistically significant difference in customer satisfaction between the branches.\")\n",
    "else:\n",
    "    print(\"There is no statistically significant difference in customer satisfaction between the branches.\")"
   ]
  },
  {
   "cell_type": "markdown",
   "id": "1ca71401",
   "metadata": {},
   "source": [
    "### 21.A political analyst wants to determine if there is a significant association between age groups and voter preferences(Candidate A or Candidate B).They collect data from a sample of 500 voters and classify them into  different age groups and candidate preferences.Perform a Chi-Square test to determine if there is a significant association between age groups and voter preferences. Use the below code to generate data:\n",
    "```python\n",
    "np.random.seed(0)\n",
    "age_groups=np.random.choice(['18-30','31-50','51+','51+'],size=30)\n",
    "voter_prferences=np.random.choice([\"Candidate A\",\"Candidate B\"],size=30)\n",
    "```"
   ]
  },
  {
   "cell_type": "code",
   "execution_count": 4,
   "id": "9581dd89-6241-44c7-a687-bcad9983e487",
   "metadata": {},
   "outputs": [
    {
     "name": "stdout",
     "output_type": "stream",
     "text": [
      "There is no significant association between age groups and voter preferences.\n"
     ]
    }
   ],
   "source": [
    "\n",
    "from scipy.stats import chi2_contingency\n",
    "\n",
    "np.random.seed(0)\n",
    "age_groups = np.random.choice(['18-30', '31-50', '51+', '51+'], size=30)\n",
    "voter_preferences = np.random.choice([\"Candidate A\", \"Candidate B\"], size=30)\n",
    "\n",
    "#Create a contingency table\n",
    "contingency_table = np.zeros((3, 2))\n",
    "for i in range(len(age_groups)):\n",
    "    if age_groups[i] == '18-30':\n",
    "        row = 0\n",
    "    elif age_groups[i] == '31-50':\n",
    "        row = 1\n",
    "    else:\n",
    "        row = 2\n",
    "    if voter_preferences[i] == 'Candidate A':\n",
    "        col = 0\n",
    "    else:\n",
    "        col = 1\n",
    "    contingency_table[row, col] += 1\n",
    "\n",
    "#Perform Chi-Square test\n",
    "chi2, p_value,_,_ = chi2_contingency(contingency_table)\n",
    "\n",
    "if p_value < 0.05:\n",
    "    print(\"There is a significant association between age groups and voter preferences.\")\n",
    "else:\n",
    "    print(\"There is no significant association between age groups and voter preferences.\")"
   ]
  },
  {
   "cell_type": "markdown",
   "id": "12f2efbb",
   "metadata": {},
   "source": [
    " ### 22.A company conducted a customer satisfaction survey to determine if there is a significant relationship between product satisfaction levels (Satisfied, Neutral, Dissatisfied) and the region where customer are located(East,West,North,South).The survey data is summarised in a contingency table.Conduct a Chi-Square test to determine if there is a significant relationship between product satisfaction levels and customer regions.\n",
    "Sample data:\n",
    "```python\n",
    "#Sample data: Product satisfaction levels(row) vs. Customer regions(columns)\n",
    "data=np.array([[50,30,40,20],[30,40,30,50],[20,30,40,30]])\n",
    "```"
   ]
  },
  {
   "cell_type": "code",
   "execution_count": 6,
   "id": "9223dd74-8586-4a96-9706-e77da7dfca65",
   "metadata": {},
   "outputs": [
    {
     "name": "stdout",
     "output_type": "stream",
     "text": [
      "There is a significant relationship between product satisfaction levels and customer regions.\n"
     ]
    }
   ],
   "source": [
    "\n",
    "from scipy.stats import chi2_contingency\n",
    "\n",
    "data = np.array([[50, 30, 40, 20], [30, 40, 30, 50], [20, 30, 40, 30]])\n",
    "\n",
    "#Perform Chi-Square test\n",
    "chi2, p_value, _, _ = chi2_contingency(data)\n",
    "\n",
    "if p_value < 0.05:\n",
    "    print(\"There is a significant relationship between product satisfaction levels and customer regions.\")\n",
    "else:\n",
    "    print(\"There is no significant relationship between product satisfaction levels and customer regions.\")"
   ]
  },
  {
   "cell_type": "markdown",
   "id": "5a03bf9d",
   "metadata": {},
   "source": [
    "### 23.A company implemented an employee training program to improve job performance(Effective,Neutral, Ineffective).After the training, the collected data from a sample of employees and classified them based on their job performance before and after the training. Perform a Chi-Square test to determine if there is a significant difference between job performance levels before and after the training. Sample data:\n",
    "```python\n",
    "#Sample data:Job performance levels before(rows) and after(columns) training\n",
    "data=np.array([[50,30,20],[30,40,30],[20,30,40]])\n",
    "```"
   ]
  },
  {
   "cell_type": "code",
   "execution_count": 7,
   "id": "b240e9de-f674-496a-ab66-1d4b51cda28c",
   "metadata": {},
   "outputs": [
    {
     "name": "stdout",
     "output_type": "stream",
     "text": [
      "There is a significant difference between job performance levels before and after the training.\n"
     ]
    }
   ],
   "source": [
    "\n",
    "from scipy.stats import chi2_contingency\n",
    "\n",
    "data = np.array([[50, 30, 20], [30, 40, 30], [20, 30, 40]])\n",
    "\n",
    "# Perform Chi-Square test\n",
    "chi2, p_value, _, _ = chi2_contingency(data)\n",
    "\n",
    "if p_value < 0.05:\n",
    "    print(\"There is a significant difference between job performance levels before and after the training.\")\n",
    "else:\n",
    "    print(\"There is no significant difference between job performance levels before and after the training.\")\n"
   ]
  },
  {
   "cell_type": "markdown",
   "id": "75e09af8",
   "metadata": {},
   "source": [
    "### 24.A company produces three different versions of a product:Standard,Premium, and Deluxe.The company wants to determine if there is a significant difference in customer satisfaction scores among the three product versions. They conducted a survey and collected customer satisfaction scores for each version from a random sample of customers. Perform an ANOVA test to determine if there is a significant Use the following data:\n",
    "```python\n",
    "#Sample data: Customer satisfaction scores for each product version\n",
    "standard_scores=[80,85,90,78,88,82,92,78,85,87]\n",
    "premium_scores=[90,92,88,92,95,91,96,93,89,93]\n",
    "deluxe_scores=[95,98,92,97,96,94,98,97,92,99]\n",
    "```"
   ]
  },
  {
   "cell_type": "code",
   "execution_count": 8,
   "id": "d8e0a501-35b5-4b55-8f69-396148839928",
   "metadata": {},
   "outputs": [
    {
     "name": "stdout",
     "output_type": "stream",
     "text": [
      "There is a significant difference in customer satisfaction scores among the three product versions.\n"
     ]
    }
   ],
   "source": [
    "\n",
    "from scipy.stats import f_oneway\n",
    "\n",
    "standard_scores = [80, 85, 90, 78, 88, 82, 92, 78, 85, 87]\n",
    "premium_scores = [90, 92, 88, 92, 95, 91, 96, 93, 89, 93]\n",
    "deluxe_scores = [95, 98, 92, 97, 96, 94, 98, 97, 92, 99]\n",
    "\n",
    "#Perform ANOVA test\n",
    "f_value, p_value = f_oneway(standard_scores, premium_scores, deluxe_scores)\n",
    "\n",
    "if p_value < 0.05:\n",
    "    print(\"There is a significant difference in customer satisfaction scores among the three product versions.\")\n",
    "else:\n",
    "    print(\"There is no significant difference in customer satisfaction scores among the three product versions.\")"
   ]
  },
  {
   "cell_type": "code",
   "execution_count": null,
   "id": "6547e3bb-412e-40e1-9117-b45628e858f7",
   "metadata": {},
   "outputs": [],
   "source": []
  }
 ],
 "metadata": {
  "kernelspec": {
   "display_name": "Python 3 (ipykernel)",
   "language": "python",
   "name": "python3"
  },
  "language_info": {
   "codemirror_mode": {
    "name": "ipython",
    "version": 3
   },
   "file_extension": ".py",
   "mimetype": "text/x-python",
   "name": "python",
   "nbconvert_exporter": "python",
   "pygments_lexer": "ipython3",
   "version": "3.10.8"
  }
 },
 "nbformat": 4,
 "nbformat_minor": 5
}
