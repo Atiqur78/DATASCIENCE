{
 "cells": [
  {
   "cell_type": "markdown",
   "metadata": {},
   "source": [
    "## **Constructor:**"
   ]
  },
  {
   "cell_type": "markdown",
   "metadata": {},
   "source": [
    "### 1. What is a constructor in Python? Explain its purpose and usage.\n",
    "\n"
   ]
  },
  {
   "cell_type": "markdown",
   "metadata": {},
   "source": [
    "A constructor in Python is a special method used for initializing objects of a class. Its purpose is to set up the initial state of an object by assigning values to its attributes. Constructors are automatically called when an object of the class is created. In Python, the constructor method is named `__init__`."
   ]
  },
  {
   "cell_type": "markdown",
   "metadata": {},
   "source": [
    "### 2. Differentiate between a parameterless constructor and a parameterized constructor in Python.\n",
    "\n"
   ]
  },
  {
   "cell_type": "markdown",
   "metadata": {},
   "source": [
    "Parameterless Constructor vs. Parameterized Constructor:\n",
    "   - A parameterless constructor (default constructor) is a constructor with no parameters. It is automatically provided by Python if no constructor is defined in a class. It initializes the object with default values or sets up any necessary resources.\n",
    "   \n",
    "   - A parameterized constructor is a constructor with one or more parameters. It allows you to pass specific values to initialize object attributes. You need to define it explicitly in the class."
   ]
  },
  {
   "cell_type": "markdown",
   "metadata": {},
   "source": [
    "### 3. How do you define a constructor in a Python class? Provide an example.\n",
    "\n"
   ]
  },
  {
   "cell_type": "markdown",
   "metadata": {},
   "source": [
    "Defining a constructor in a Python class:\n",
    "   To define a constructor in a Python class, you create a method named `__init__` within the class. This method takes at least one argument, `self`, which represents the object being created, and any additional parameters you want to initialize the object's attributes. Here's an example:\n",
    "\n",
    "```python\n",
    "class MyClass:\n",
    "    def __init__(self, param1, param2):\n",
    "        # Constructor code\n",
    "        self.attr1 = param1\n",
    "        self.attr2 = param2\n",
    "```"
   ]
  },
  {
   "cell_type": "markdown",
   "metadata": {},
   "source": [
    "### 4. Explain the `__init__` method in Python and its role in constructors.\n",
    "\n"
   ]
  },
  {
   "cell_type": "markdown",
   "metadata": {},
   "source": [
    "The `__init__` method in Python is a special method that acts as a constructor. It is automatically called when an object of the class is created. This method is responsible for initializing the attributes of the object. The name `__init__` is predefined, and you can't change it. The method definition includes `self` as the first parameter, which refers to the object being initialized. Any other parameters can be added as needed to pass values during object creation."
   ]
  },
  {
   "cell_type": "markdown",
   "metadata": {},
   "source": [
    "### 5. In a class named `Person`, create a constructor that initializes the `name` and `age` attributes. Provide an example of creating an object of this class.\n",
    "\n"
   ]
  },
  {
   "cell_type": "code",
   "execution_count": 237,
   "metadata": {},
   "outputs": [
    {
     "name": "stdout",
     "output_type": "stream",
     "text": [
      "Name: Alice\n",
      "Age: 25\n"
     ]
    }
   ],
   "source": [
    "class Person:\n",
    "    def __init__(self, name, age):\n",
    "        self.name = name\n",
    "        self.age = age\n",
    "\n",
    "# Creating an object of the Person class using the constructor\n",
    "person1 = Person(\"Alice\", 25)\n",
    "print(\"Name:\", person1.name)\n",
    "print(\"Age:\", person1.age)"
   ]
  },
  {
   "cell_type": "markdown",
   "metadata": {},
   "source": [
    "In this example, the `Person` class has a constructor that takes `name` and `age` as parameters and initializes the object's attributes. When we create an object of the class, we provide values for `name` and `age`, and the constructor sets up the object with these values."
   ]
  },
  {
   "cell_type": "markdown",
   "metadata": {},
   "source": [
    "### 6. How can you call a constructor explicitly in Python? Give an example.\n",
    "\n"
   ]
  },
  {
   "cell_type": "code",
   "execution_count": 241,
   "metadata": {},
   "outputs": [
    {
     "name": "stdout",
     "output_type": "stream",
     "text": [
      "42\n"
     ]
    }
   ],
   "source": [
    "class MyClass:\n",
    "    def __init__(self, value):\n",
    "        self.value = value\n",
    "\n",
    "# Create an instance of MyClass\n",
    "obj = MyClass.__new__(MyClass)\n",
    "\n",
    "# Explicitly call the __init__ method with the instance and the value\n",
    "MyClass.__init__(obj, 42)\n",
    "\n",
    "# Now, obj is an initialized instance of MyClass\n",
    "print(obj.value)\n"
   ]
  },
  {
   "cell_type": "markdown",
   "metadata": {},
   "source": [
    "### 7. What is the significance of the `self` parameter in Python constructors? Explain with an example.\n",
    "\n"
   ]
  },
  {
   "cell_type": "markdown",
   "metadata": {},
   "source": [
    "The `self` parameter in Python constructors (and methods) is a reference to the object being created or operated on. It allows you to access and modify the object's attributes within the class. It is a convention to name the first parameter in instance methods as `self`, but you can choose any name. The `self` parameter is required in constructors and methods to distinguish instance variables from local variables."
   ]
  },
  {
   "cell_type": "code",
   "execution_count": 242,
   "metadata": {},
   "outputs": [
    {
     "name": "stdout",
     "output_type": "stream",
     "text": [
      "Value: 42\n"
     ]
    }
   ],
   "source": [
    "class MyClass:\n",
    "    def __init__(self, value):\n",
    "        self.value = value  # self allows access to object attributes\n",
    "\n",
    "    def display_value(self):\n",
    "        print(\"Value:\", self.value)  # Accessing the attribute using self\n",
    "\n",
    "obj = MyClass(42)\n",
    "obj.display_value()"
   ]
  },
  {
   "cell_type": "markdown",
   "metadata": {},
   "source": [
    "### 8. Discuss the concept of default constructors in Python. When are they used?\n",
    "\n"
   ]
  },
  {
   "cell_type": "markdown",
   "metadata": {},
   "source": [
    "Default constructors in Python are constructors that are automatically provided by Python if you don't define any constructors in your class. These default constructors have no parameters and don't perform any special initialization. They are used when you create an object without providing any constructor parameters."
   ]
  },
  {
   "cell_type": "code",
   "execution_count": 243,
   "metadata": {},
   "outputs": [
    {
     "name": "stdout",
     "output_type": "stream",
     "text": [
      "Default Constructor\n"
     ]
    }
   ],
   "source": [
    "class MyClass:\n",
    "    def display(self):\n",
    "        print(\"Default Constructor\")\n",
    "\n",
    "obj = MyClass()  # Using the default constructor\n",
    "obj.display()"
   ]
  },
  {
   "cell_type": "markdown",
   "metadata": {},
   "source": [
    "### 9. Create a Python class called `Rectangle` with a constructor that initializes the `width` and `height` attributes. Provide a method to calculate the area of the rectangle.\n",
    "\n"
   ]
  },
  {
   "cell_type": "code",
   "execution_count": 244,
   "metadata": {},
   "outputs": [
    {
     "name": "stdout",
     "output_type": "stream",
     "text": [
      "Area of the rectangle: 20\n"
     ]
    }
   ],
   "source": [
    "class Rectangle:\n",
    "    def __init__(self, width, height):\n",
    "        self.width = width\n",
    "        self.height = height\n",
    "\n",
    "    def calculate_area(self):\n",
    "        return self.width * self.height\n",
    "\n",
    "# Creating a Rectangle object\n",
    "rect = Rectangle(5, 4)\n",
    "area = rect.calculate_area()\n",
    "print(\"Area of the rectangle:\", area)"
   ]
  },
  {
   "cell_type": "markdown",
   "metadata": {},
   "source": [
    "### 10. How can you have multiple constructors in a Python class? Explain with an example.\n",
    "\n"
   ]
  },
  {
   "cell_type": "code",
   "execution_count": 245,
   "metadata": {},
   "outputs": [],
   "source": [
    "class MyClass:\n",
    "    def __init__(self, param1, param2=0):\n",
    "        self.param1 = param1\n",
    "        self.param2 = param2\n",
    "\n",
    "obj1 = MyClass(42)      # Using the constructor with one parameter\n",
    "obj2 = MyClass(10, 20)  # Using the constructor with two parameters"
   ]
  },
  {
   "cell_type": "markdown",
   "metadata": {},
   "source": [
    "### 11. What is method overloading, and how is it related to constructors in Python?\n",
    "\n"
   ]
  },
  {
   "cell_type": "markdown",
   "metadata": {},
   "source": [
    "Method overloading refers to the ability to define multiple methods in a class with the same name but different parameter lists. However, Python does not support method overloading in the traditional sense, as it will only recognize the most recently defined method with a given name. Instead, Python allows you to define default parameter values to achieve similar behavior."
   ]
  },
  {
   "cell_type": "markdown",
   "metadata": {},
   "source": [
    "### 12. Explain the use of the `super()` function in Python constructors. Provide an example.\n",
    "\n"
   ]
  },
  {
   "cell_type": "markdown",
   "metadata": {},
   "source": [
    "The `super()` function is used in Python constructors to call the constructor of the parent class (superclass). This is useful when you want to inherit the behavior of the parent class while adding or customizing the behavior in the child class."
   ]
  },
  {
   "cell_type": "code",
   "execution_count": 246,
   "metadata": {},
   "outputs": [
    {
     "name": "stdout",
     "output_type": "stream",
     "text": [
      "Parent Attribute: Parent Attribute\n",
      "Child Attribute: Child Attribute\n"
     ]
    }
   ],
   "source": [
    "class Parent:\n",
    "    def __init__(self, parent_attr):\n",
    "        self.parent_attr = parent_attr\n",
    "\n",
    "class Child(Parent):\n",
    "    def __init__(self, parent_attr, child_attr):\n",
    "        super().__init__(parent_attr)  # Call the parent class constructor\n",
    "        self.child_attr = child_attr\n",
    "\n",
    "child_obj = Child(\"Parent Attribute\", \"Child Attribute\")\n",
    "print(\"Parent Attribute:\", child_obj.parent_attr)\n",
    "print(\"Child Attribute:\", child_obj.child_attr)"
   ]
  },
  {
   "cell_type": "markdown",
   "metadata": {},
   "source": [
    "### 13. Create a class called `Book` with a constructor that initializes the `title`, `author`, and `published_year` attributes. Provide a method to display book details.\n",
    "\n"
   ]
  },
  {
   "cell_type": "code",
   "execution_count": 247,
   "metadata": {},
   "outputs": [
    {
     "name": "stdout",
     "output_type": "stream",
     "text": [
      "Title: Python Basics\n",
      "Author: John Doe\n",
      "Published Year: 2022\n"
     ]
    }
   ],
   "source": [
    "class Book:\n",
    "    def __init__(self, title, author, published_year):\n",
    "        self.title = title\n",
    "        self.author = author\n",
    "        self.published_year = published_year\n",
    "\n",
    "    def display_details(self):\n",
    "        print(f\"Title: {self.title}\")\n",
    "        print(f\"Author: {self.author}\")\n",
    "        print(f\"Published Year: {self.published_year}\")\n",
    "\n",
    "# Creating a Book object\n",
    "book = Book(\"Python Basics\", \"John Doe\", 2022)\n",
    "book.display_details()"
   ]
  },
  {
   "cell_type": "markdown",
   "metadata": {},
   "source": [
    "### 14. Discuss the differences between constructors and regular methods in Python classes.\n",
    "\n"
   ]
  },
  {
   "cell_type": "markdown",
   "metadata": {},
   "source": [
    "Constructors and regular methods in Python classes differ in their purpose and usage. Constructors are special methods used to initialize the attributes of an object when it is created. They are automatically called when an object is instantiated. Regular methods are used to define the behavior and actions that an object can perform. They can be called on objects after they have been created."
   ]
  },
  {
   "cell_type": "markdown",
   "metadata": {},
   "source": [
    "### 15. Explain the role of the `self` parameter in instance variable initialization within a constructor.\n",
    "\n"
   ]
  },
  {
   "cell_type": "markdown",
   "metadata": {},
   "source": [
    "The `self` parameter in a constructor refers to the instance of the class being created. It allows you to access and modify instance variables within the constructor. Without the `self` parameter, you wouldn't be able to distinguish between instance variables and local variables in the constructor. It's a convention to name the first parameter of instance methods as `self`, but you can choose any name.\n"
   ]
  },
  {
   "cell_type": "markdown",
   "metadata": {},
   "source": [
    "### 16. How do you prevent a class from having multiple instances by using constructors in Python? Provide an example.\n",
    "\n"
   ]
  },
  {
   "cell_type": "markdown",
   "metadata": {},
   "source": [
    "In Python, we can't prevent a class from having multiple instances using constructors. Python is a dynamic and flexible language that allows we to create as many instances of a class as we need. If we want to restrict the number of instances, we would need to implement custom logic within our class."
   ]
  },
  {
   "cell_type": "markdown",
   "metadata": {},
   "source": [
    "### 17. Create a Python class called `Student` with a constructor that takes a list of subjects as a parameter and initializes the `subjects` attribute.\n",
    "\n"
   ]
  },
  {
   "cell_type": "code",
   "execution_count": 248,
   "metadata": {},
   "outputs": [
    {
     "name": "stdout",
     "output_type": "stream",
     "text": [
      "Subject: Math\n",
      "Subject: Science\n",
      "Subject: History\n"
     ]
    }
   ],
   "source": [
    "class Student:\n",
    "    def __init__(self, subjects):\n",
    "        self.subjects = subjects\n",
    "\n",
    "    def display_subjects(self):\n",
    "        for subject in self.subjects:\n",
    "            print(\"Subject:\", subject)\n",
    "\n",
    "# Creating a Student object\n",
    "student = Student([\"Math\", \"Science\", \"History\"])\n",
    "student.display_subjects()"
   ]
  },
  {
   "cell_type": "markdown",
   "metadata": {},
   "source": [
    "### 18. What is the purpose of the `__del__` method in Python classes, and how does it relate to constructors?\n",
    "\n"
   ]
  },
  {
   "cell_type": "markdown",
   "metadata": {},
   "source": [
    "The `__del__` method in Python classes, also known as the destructor, is used to perform cleanup operations when an object is about to be destroyed or deallocated. It is called when an object goes out of scope or is explicitly deleted. Unlike constructors, `__del__` is not used for initialization but for cleanup. It is related to constructors in the sense that it provides a way to perform actions when an object's lifecycle ends."
   ]
  },
  {
   "cell_type": "markdown",
   "metadata": {},
   "source": [
    "### 19. Explain the use of constructor chaining in Python. Provide a practical example.\n",
    "\n"
   ]
  },
  {
   "cell_type": "markdown",
   "metadata": {},
   "source": [
    "Constructor chaining in Python allows you to call constructors of both the current class and its parent class. You can use `super()` to call the constructor of the parent class within the constructor of the child class."
   ]
  },
  {
   "cell_type": "code",
   "execution_count": 261,
   "metadata": {},
   "outputs": [],
   "source": [
    "class Parent:\n",
    "    def __init__(self, parent_attr):\n",
    "        self.parent_attr = parent_attr\n",
    "\n",
    "class Child(Parent):\n",
    "    def __init__(self, parent_attr, child_attr):\n",
    "        super().__init__(parent_attr)  # Call the parent class constructor\n",
    "        self.child_attr = child_attr\n"
   ]
  },
  {
   "cell_type": "code",
   "execution_count": 262,
   "metadata": {},
   "outputs": [
    {
     "name": "stdout",
     "output_type": "stream",
     "text": [
      "Parent Attribute: Parent Attribute\n",
      "Child Attribute: Child Attribute\n"
     ]
    }
   ],
   "source": [
    "child_obj = Child(\"Parent Attribute\", \"Child Attribute\")\n",
    "print(\"Parent Attribute:\", child_obj.parent_attr)\n",
    "print(\"Child Attribute:\", child_obj.child_attr)\n"
   ]
  },
  {
   "cell_type": "markdown",
   "metadata": {},
   "source": [
    "### 20. Create a Python class called `Car` with a default constructor that initializes the `make` and `model` attributes. Provide a method to display car information.\n",
    "\n"
   ]
  },
  {
   "cell_type": "code",
   "execution_count": 263,
   "metadata": {},
   "outputs": [
    {
     "name": "stdout",
     "output_type": "stream",
     "text": [
      "Make: Toyota\n",
      "Model: Camry\n"
     ]
    }
   ],
   "source": [
    "class Car:\n",
    "    def __init__(self, make, model):\n",
    "        self.make = make\n",
    "        self.model = model\n",
    "\n",
    "    def display_info(self):\n",
    "        print(f\"Make: {self.make}\")\n",
    "        print(f\"Model: {self.model}\")\n",
    "\n",
    "# Creating a Car object\n",
    "car = Car(\"Toyota\", \"Camry\")\n",
    "car.display_info()"
   ]
  },
  {
   "cell_type": "markdown",
   "metadata": {},
   "source": [
    "## **Inheritance:**"
   ]
  },
  {
   "cell_type": "markdown",
   "metadata": {},
   "source": [
    "### 1. What is inheritance in Python? Explain its significance in object-oriented programming.\n",
    "\n"
   ]
  },
  {
   "cell_type": "markdown",
   "metadata": {},
   "source": [
    "Inheritance in Python is a fundamental concept in object-oriented programming (OOP). It allows a new class (child or derived class) to inherit attributes and behaviors (methods) from an existing class (parent or base class). Inheritance is significant in OOP because it promotes code reusability, modularity, and the creation of a hierarchy of classes that represent objects with varying degrees of specialization. It simplifies the development of complex applications by allowing you to build upon existing classes, thereby reducing redundancy and making code more maintainable."
   ]
  },
  {
   "cell_type": "markdown",
   "metadata": {},
   "source": [
    "### 2. Differentiate between single inheritance and multiple inheritance in Python. Provide examples for each.\n",
    "\n"
   ]
  },
  {
   "cell_type": "markdown",
   "metadata": {},
   "source": [
    "Single inheritance involves a child class inheriting attributes and methods from a single parent class. Multiple inheritance, on the other hand, allows a child class to inherit from more than one parent class. Here are examples for both:"
   ]
  },
  {
   "cell_type": "code",
   "execution_count": 264,
   "metadata": {},
   "outputs": [],
   "source": [
    "'''Single Inheritance Example:'''\n",
    "\n",
    "class Vehicle:\n",
    "    def __init__(self, color, speed):\n",
    "        self.color = color\n",
    "        self.speed = speed\n",
    "\n",
    "class Car(Vehicle):\n",
    "    def __init__(self, color, speed, brand):\n",
    "        super().__init__(color, speed)  # Call the parent class constructor\n",
    "        self.brand = brand\n",
    "\n",
    "# Creating a Car object\n",
    "car = Car(\"Red\", 60, \"Toyota\")"
   ]
  },
  {
   "cell_type": "code",
   "execution_count": 265,
   "metadata": {},
   "outputs": [
    {
     "name": "stdout",
     "output_type": "stream",
     "text": [
      "Engine started\n",
      "Charging\n"
     ]
    }
   ],
   "source": [
    "'''Multiple Inheritance Example:'''\n",
    "\n",
    "class Engine:\n",
    "    def start(self):\n",
    "        print(\"Engine started\")\n",
    "\n",
    "class Electric:\n",
    "    def charge(self):\n",
    "        print(\"Charging\")\n",
    "\n",
    "class HybridCar(Engine, Electric):\n",
    "    pass\n",
    "\n",
    "# Creating a HybridCar object\n",
    "hybrid_car = HybridCar()\n",
    "hybrid_car.start()  # Output: Engine started\n",
    "hybrid_car.charge()  # Output: Charging\n"
   ]
  },
  {
   "cell_type": "markdown",
   "metadata": {},
   "source": [
    "### 3. Create a Python class called `Vehicle` with attributes `color` and `speed`. Then, create a child class called `Car` that inherits from `Vehicle` and adds a `brand` attribute. Provide an example of creating a `Car` object.\n",
    "\n"
   ]
  },
  {
   "cell_type": "code",
   "execution_count": 266,
   "metadata": {},
   "outputs": [],
   "source": [
    "class Vehicle:\n",
    "    def __init__(self, color, speed):\n",
    "        self.color = color\n",
    "        self.speed = speed\n",
    "\n",
    "class Car(Vehicle):\n",
    "    def __init__(self, color, speed, brand):\n",
    "        super().__init__(color, speed)  # Call the parent class constructor\n",
    "        self.brand = brand\n",
    "\n",
    "# Creating a Car object\n",
    "car = Car(\"Red\", 60, \"Toyota\")"
   ]
  },
  {
   "cell_type": "markdown",
   "metadata": {},
   "source": [
    "### 4. Explain the concept of method overriding in inheritance. Provide a practical example.\n",
    "\n"
   ]
  },
  {
   "cell_type": "markdown",
   "metadata": {},
   "source": [
    "Method overriding in inheritance allows a child class to provide its own implementation of a method that is already defined in the parent class. It is used when you want to customize or extend the behavior of the inherited method in the child class."
   ]
  },
  {
   "cell_type": "code",
   "execution_count": 267,
   "metadata": {},
   "outputs": [
    {
     "name": "stdout",
     "output_type": "stream",
     "text": [
      "Dog barks\n"
     ]
    }
   ],
   "source": [
    "class Animal:\n",
    "    def speak(self):\n",
    "        print(\"Animal speaks\")\n",
    "\n",
    "class Dog(Animal):\n",
    "    def speak(self):\n",
    "        print(\"Dog barks\")\n",
    "\n",
    "# Creating a Dog object\n",
    "dog = Dog()\n",
    "dog.speak()  # Output: Dog barks"
   ]
  },
  {
   "cell_type": "markdown",
   "metadata": {},
   "source": [
    "### 5. How can you access the methods and attributes of a parent class from a child class in Python? Give an example.\n",
    "\n"
   ]
  },
  {
   "cell_type": "markdown",
   "metadata": {},
   "source": [
    "To access the methods and attributes of a parent class from a child class in Python, you can use the `super()` function. The `super()` function allows you to call methods of the parent class from the child class."
   ]
  },
  {
   "cell_type": "code",
   "execution_count": 268,
   "metadata": {},
   "outputs": [
    {
     "name": "stdout",
     "output_type": "stream",
     "text": [
      "This is the parent's method\n",
      "This is the child's method\n"
     ]
    }
   ],
   "source": [
    "class Parent:\n",
    "    def parent_method(self):\n",
    "        print(\"This is the parent's method\")\n",
    "\n",
    "class Child(Parent):\n",
    "    def child_method(self):\n",
    "        super().parent_method()  # Access the parent's method\n",
    "        print(\"This is the child's method\")\n",
    "\n",
    "# Creating a Child object\n",
    "child = Child()\n",
    "child.child_method()"
   ]
  },
  {
   "cell_type": "markdown",
   "metadata": {},
   "source": [
    "### 6. Discuss the use of the `super()` function in Python inheritance. When and why is it used? Provide an example.\n",
    "\n"
   ]
  },
  {
   "cell_type": "markdown",
   "metadata": {},
   "source": [
    "The `super()` function is used in Python inheritance to call the constructor or methods of the parent class from the child class. It is typically used in the child class's constructor to ensure that the parent class's constructor is executed before any additional initialization in the child class."
   ]
  },
  {
   "cell_type": "code",
   "execution_count": 270,
   "metadata": {},
   "outputs": [],
   "source": [
    "class Parent:\n",
    "    def __init__(self, parent_attr):\n",
    "        self.parent_attr = parent_attr\n",
    "\n",
    "class Child(Parent):\n",
    "    def __init__(self, parent_attr, child_attr):\n",
    "        super().__init__(parent_attr)  # Call the parent class constructor\n",
    "        self.child_attr = child_attr\n",
    "\n",
    "child_obj = Child(\"Parent Attribute\", \"Child Attribute\")"
   ]
  },
  {
   "cell_type": "markdown",
   "metadata": {},
   "source": [
    "### 7. Create a Python class called `Animal` with a method `speak()`. Then, create child classes `Dog` and `Cat` that inherit from `Animal` and override the `speak()` method. Provide an example of using these classes.\n",
    "\n"
   ]
  },
  {
   "cell_type": "code",
   "execution_count": 271,
   "metadata": {},
   "outputs": [
    {
     "name": "stdout",
     "output_type": "stream",
     "text": [
      "Dog barks\n",
      "Cat meows\n"
     ]
    }
   ],
   "source": [
    "class Animal:\n",
    "    def speak(self):\n",
    "        print(\"Animal speaks\")\n",
    "\n",
    "class Dog(Animal):\n",
    "    def speak(self):\n",
    "        print(\"Dog barks\")\n",
    "\n",
    "class Cat(Animal):\n",
    "    def speak(self):\n",
    "        print(\"Cat meows\")\n",
    "\n",
    "# Creating Dog and Cat objects\n",
    "dog = Dog()\n",
    "cat = Cat()\n",
    "dog.speak() \n",
    "cat.speak()  "
   ]
  },
  {
   "cell_type": "markdown",
   "metadata": {},
   "source": [
    "### 8. Explain the role of the `isinstance()` function in Python and how it relates to inheritance.\n",
    "\n"
   ]
  },
  {
   "cell_type": "markdown",
   "metadata": {},
   "source": [
    "The `isinstance()` function in Python is used to check if an object belongs to a particular class or a tuple of classes. It returns `True` if the object is an instance of one of the specified classes or a subclass of any of those classes; otherwise, it returns `False. It is useful for checking the type of objects, especially in cases where you have inheritance and polymorphism."
   ]
  },
  {
   "cell_type": "code",
   "execution_count": 272,
   "metadata": {},
   "outputs": [
    {
     "name": "stdout",
     "output_type": "stream",
     "text": [
      "True\n"
     ]
    }
   ],
   "source": [
    "class Vehicle:\n",
    "    pass\n",
    "\n",
    "class Car(Vehicle):\n",
    "    pass\n",
    "\n",
    "car = Car()\n",
    "result = isinstance(car, (Car, Vehicle))\n",
    "print(result)"
   ]
  },
  {
   "cell_type": "markdown",
   "metadata": {},
   "source": [
    "### 9. What is the purpose of the `issubclass()` function in Python? Provide an example.\n",
    "\n"
   ]
  },
  {
   "cell_type": "markdown",
   "metadata": {},
   "source": [
    "The `issubclass()` function in Python is used to check if a class is a subclass of another class. It returns `True` if the first class is a subclass of the second class; otherwise, it returns `False. It is useful for checking class hierarchies and relationships."
   ]
  },
  {
   "cell_type": "code",
   "execution_count": 273,
   "metadata": {},
   "outputs": [
    {
     "name": "stdout",
     "output_type": "stream",
     "text": [
      "True\n"
     ]
    }
   ],
   "source": [
    "class Parent:\n",
    "    pass\n",
    "\n",
    "class Child(Parent):\n",
    "    pass\n",
    "\n",
    "result = issubclass(Child, Parent)\n",
    "print(result)"
   ]
  },
  {
   "cell_type": "markdown",
   "metadata": {},
   "source": [
    "### 10. Discuss the concept of constructor inheritance in Python. How are constructors inherited in child classes?\n",
    "\n"
   ]
  },
  {
   "cell_type": "markdown",
   "metadata": {},
   "source": [
    "In Python, constructors are not inherited by child classes. Child classes must define their own constructors, and if they do, they should call the constructor of the parent class using `super().__init__()` if they want to include the parent class's attributes and initialization. However, if a child class does not define its constructor, it will inherit the constructor of the parent class, which may or may not be suitable for the child class's needs."
   ]
  },
  {
   "cell_type": "markdown",
   "metadata": {},
   "source": [
    "### 11. Create a Python class called `Shape` with a method `area()` that calculates the area of a shape. Then, create child classes `Circle` and `Rectangle` that inherit from `Shape` and implement the `area()` method accordingly. Provide an example.\n",
    "\n"
   ]
  },
  {
   "cell_type": "code",
   "execution_count": 274,
   "metadata": {},
   "outputs": [
    {
     "name": "stdout",
     "output_type": "stream",
     "text": [
      "Area of Circle: 78.53981633974483\n",
      "Area of Rectangle: 24\n"
     ]
    }
   ],
   "source": [
    "from math import pi\n",
    "\n",
    "class Shape:\n",
    "    def area(self):\n",
    "        pass  # To be implemented in child classes\n",
    "\n",
    "class Circle(Shape):\n",
    "    def __init__(self, radius):\n",
    "        self.radius = radius\n",
    "\n",
    "    def area(self):\n",
    "        return pi * self.radius**2\n",
    "\n",
    "class Rectangle(Shape):\n",
    "    def __init__(self, width, height):\n",
    "        self.width = width\n",
    "        self.height = height\n",
    "\n",
    "    def area(self):\n",
    "        return self.width * self.height\n",
    "\n",
    "# Creating Circle and Rectangle objects\n",
    "circle = Circle(5)\n",
    "rectangle = Rectangle(4, 6)\n",
    "\n",
    "print(\"Area of Circle:\", circle.area())  \n",
    "print(\"Area of Rectangle:\", rectangle.area()) "
   ]
  },
  {
   "cell_type": "markdown",
   "metadata": {},
   "source": [
    "### 12. Explain the use of abstract base classes (ABCs) in Python and how they relate to inheritance. Provide an example using the `abc` module.\n",
    "\n"
   ]
  },
  {
   "cell_type": "markdown",
   "metadata": {},
   "source": [
    "Abstract Base Classes (ABCs) in Python are used to define abstract methods and enforce their presence in child classes. ABCs are a way of ensuring that classes that inherit from a common parent class implement certain methods. The `abc` module is used for creating ABCs in Python."
   ]
  },
  {
   "cell_type": "code",
   "execution_count": 275,
   "metadata": {},
   "outputs": [
    {
     "name": "stdout",
     "output_type": "stream",
     "text": [
      "Area of Circle: 78.53981633974483\n"
     ]
    }
   ],
   "source": [
    "from abc import ABC, abstractmethod\n",
    "\n",
    "class Shape(ABC):\n",
    "    @abstractmethod\n",
    "    def area(self):\n",
    "        pass\n",
    "\n",
    "class Circle(Shape):\n",
    "    def __init__(self, radius):\n",
    "        self.radius = radius\n",
    "\n",
    "    def area(self):\n",
    "        return pi * self.radius**2\n",
    "\n",
    "# Attempting to create an instance of the abstract class will result in an error\n",
    "# shape = Shape()  # This will raise a TypeError\n",
    "\n",
    "# Creating a Circle object\n",
    "circle = Circle(5)\n",
    "print(\"Area of Circle:\", circle.area()) "
   ]
  },
  {
   "cell_type": "markdown",
   "metadata": {},
   "source": [
    "### 13. How can you prevent a child class from modifying certain attributes or methods inherited from a parent class in Python?\n",
    "\n"
   ]
  },
  {
   "cell_type": "markdown",
   "metadata": {},
   "source": [
    "To prevent a child class from modifying certain attributes or methods inherited from a parent class, you can use encapsulation and access control. In Python, you can mark attributes or methods as \"private\" by prefixing them with an underscore (e.g., `_attribute` or `_method`). This is a convention to indicate that the attribute or method is for internal use, and it should not be accessed or modified directly by child classes. However, this is not enforced by the language itself but is a naming convention for developers."
   ]
  },
  {
   "cell_type": "code",
   "execution_count": 276,
   "metadata": {},
   "outputs": [
    {
     "name": "stdout",
     "output_type": "stream",
     "text": [
      "42\n",
      "This is a protected method\n"
     ]
    }
   ],
   "source": [
    "class Parent:\n",
    "    def __init__(self):\n",
    "        self._protected_attribute = 42\n",
    "\n",
    "    def _protected_method(self):\n",
    "        return \"This is a protected method\"\n",
    "\n",
    "class Child(Parent):\n",
    "    def modify_protected(self, new_value):\n",
    "        self._protected_attribute = new_value\n",
    "\n",
    "# Creating Child object\n",
    "child = Child()\n",
    "\n",
    "print(child._protected_attribute)  # Accessing the protected attribute\n",
    "print(child._protected_method())  # Calling the protected method\n",
    "\n",
    "# It is not strictly enforced, so you can still access and modify the protected attributes\n",
    "child._protected_attribute = 100"
   ]
  },
  {
   "cell_type": "markdown",
   "metadata": {},
   "source": [
    "### 14. Create a Python class called `Employee` with attributes `name` and `salary`. Then, create a child class `Manager` that inherits from `Employee` and adds an attribute `department`. Provide an example.\n",
    "\n"
   ]
  },
  {
   "cell_type": "code",
   "execution_count": 277,
   "metadata": {},
   "outputs": [],
   "source": [
    "class Employee:\n",
    "    def __init__(self, name, salary):\n",
    "        self.name = name\n",
    "        self.salary = salary\n",
    "\n",
    "class Manager(Employee):\n",
    "    def __init__(self, name, salary, department):\n",
    "        super().__init__(name, salary)  # Call the parent class constructor\n",
    "        self.department = department\n",
    "\n",
    "# Creating a Manager object\n",
    "manager = Manager(\"John Doe\", 60000, \"HR\")"
   ]
  },
  {
   "cell_type": "markdown",
   "metadata": {},
   "source": [
    "### 15. Discuss the concept of method overloading in Python inheritance. How does it differ from method overriding?\n",
    "\n"
   ]
  },
  {
   "cell_type": "markdown",
   "metadata": {},
   "source": [
    "Method overloading in Python involves defining multiple methods in a class with the same name but different parameters. When a method is called, Python determines which version of the method to execute based on the number and types of arguments provided. It is not directly related to inheritance, but it allows you to have multiple methods with the same name in the same class.\n",
    "\n",
    "Method overriding, on the other hand, is a feature of inheritance. It occurs when a child class provides its own implementation of a method that is already defined in the parent class. Method overriding allows the child class to customize or extend the behavior of the inherited method. The parent class method is replaced by the child class method with the same name."
   ]
  },
  {
   "cell_type": "markdown",
   "metadata": {},
   "source": [
    "### 16. Explain the purpose of the `__init__()` method in Python inheritance and how it is utilized in child classes.\n",
    "\n"
   ]
  },
  {
   "cell_type": "markdown",
   "metadata": {},
   "source": [
    "The `__init__()` method in Python inheritance is the constructor of a class. It is called when an object of the class is created. This method is utilized in child classes to perform any additional initialization specific to the child class after the parent class's constructor is executed. Child classes often call the parent class's `__init__()` method using `super().__init__()` to ensure that the parent class's attributes are also initialized.\n"
   ]
  },
  {
   "cell_type": "markdown",
   "metadata": {},
   "source": [
    "### 17. Create a Python class called `Bird` with a method `fly()`. Then, create child classes `Eagle` and `Sparrow` that inherit from `Bird` and implement the `fly()` method differently. Provide an example of using these classes.\n",
    "\n"
   ]
  },
  {
   "cell_type": "code",
   "execution_count": 278,
   "metadata": {},
   "outputs": [
    {
     "name": "stdout",
     "output_type": "stream",
     "text": [
      "Eagle soars high\n",
      "Sparrow flits around\n"
     ]
    }
   ],
   "source": [
    "class Bird:\n",
    "    def fly(self):\n",
    "        pass  # To be implemented in child classes\n",
    "\n",
    "class Eagle(Bird):\n",
    "    def fly(self):\n",
    "        print(\"Eagle soars high\")\n",
    "\n",
    "class Sparrow(Bird):\n",
    "    def fly(self):\n",
    "        print(\"Sparrow flits around\")\n",
    "\n",
    "# Creating Eagle and Sparrow objects\n",
    "eagle = Eagle()\n",
    "sparrow = Sparrow()\n",
    "\n",
    "eagle.fly() \n",
    "sparrow.fly() "
   ]
  },
  {
   "cell_type": "markdown",
   "metadata": {},
   "source": [
    "### 18. What is the \"diamond problem\" in multiple inheritance, and how does Python address it?\n",
    "\n"
   ]
  },
  {
   "cell_type": "markdown",
   "metadata": {},
   "source": [
    "The \"diamond problem\" is a complication that can occur in programming languages that support multiple inheritance. It arises when a particular class inherits from two classes that have a common ancestor. In Python, this problem is addressed by the Method Resolution Order (MRO) mechanism.\n",
    "\n",
    "Python uses C3 Linearization to determine the MRO, which ensures that classes are traversed in a consistent and predictable order. The MRO defines the order in which base classes are considered when resolving method calls. This allows Python to avoid ambiguities and conflicts that can arise in the diamond problem."
   ]
  },
  {
   "cell_type": "code",
   "execution_count": 279,
   "metadata": {},
   "outputs": [
    {
     "name": "stdout",
     "output_type": "stream",
     "text": [
      "B\n"
     ]
    }
   ],
   "source": [
    "class A:\n",
    "    def show(self):\n",
    "        print(\"A\")\n",
    "\n",
    "class B(A):\n",
    "    def show(self):\n",
    "        print(\"B\")\n",
    "\n",
    "class C(A):\n",
    "    def show(self):\n",
    "        print(\"C\")\n",
    "\n",
    "class D(B, C):\n",
    "    pass\n",
    "\n",
    "d = D()\n",
    "d.show() "
   ]
  },
  {
   "cell_type": "markdown",
   "metadata": {},
   "source": [
    "### 19. Discuss the concept of \"is-a\" and \"has-a\" relationships in inheritance, and provide examples of each.\n",
    "\n"
   ]
  },
  {
   "cell_type": "markdown",
   "metadata": {},
   "source": [
    "In inheritance, \"is-a\" relationships represent the idea that an object of a child class can also be treated as an object of the parent class. For example, if we have classes `Animal` and `Dog`, we can say that a `Dog` \"is-a\" type of `Animal`.\n",
    "\n",
    "In contrast, \"has-a\" relationships represent the idea that a class has an attribute or object of another class. For example, if we have classes `Car` and `Engine`, we can say that a `Car` \"has-a\" relationship with an `Engine` because a car contains an engine.\n",
    "\n",
    "Here are examples:\n",
    "\n",
    "\"Is-a\" relationship:\n",
    "```python\n",
    "class Animal:\n",
    "    pass\n",
    "\n",
    "class Dog(Animal):\n",
    "    pass\n",
    "\n",
    "dog = Dog()  # A Dog \"is-a\" type of Animal\n",
    "```\n",
    "\n",
    "\"Has-a\" relationship:\n",
    "```python\n",
    "class Engine:\n",
    "    pass\n",
    "\n",
    "class Car:\n",
    "    def __init__(self):\n",
    "        self.engine = Engine()  # A Car \"has-an\" Engine\n",
    "```"
   ]
  },
  {
   "cell_type": "markdown",
   "metadata": {},
   "source": [
    "### 20. Create a Python class hierarchy for a university system. Start with a base class `Person` and create child classes `Student` and `Professor`, each with their own attributes and methods. Provide an example of using these classes in a university context.\n"
   ]
  },
  {
   "cell_type": "code",
   "execution_count": 280,
   "metadata": {},
   "outputs": [],
   "source": [
    "class Person:\n",
    "    def __init__(self, name, age):\n",
    "        self.name = name\n",
    "        self.age = age\n",
    "\n",
    "class Student(Person):\n",
    "    def __init__(self, name, age, student_id):\n",
    "        super().__init__(name, age)\n",
    "        self.student_id = student_id\n",
    "\n",
    "class Professor(Person):\n",
    "    def __init__(self, name, age, employee_id):\n",
    "        super().__init__(name, age)\n",
    "        self.employee_id = employee_id\n",
    "\n",
    "# Using these classes in a university context\n",
    "student = Student(\"Alice\", 20, \"S12345\")\n",
    "professor = Professor(\"Dr. Smith\", 45, \"P9876\")"
   ]
  },
  {
   "cell_type": "markdown",
   "metadata": {},
   "source": [
    "## **Encapsulation:**"
   ]
  },
  {
   "cell_type": "markdown",
   "metadata": {},
   "source": [
    "### 1. Explain the concept of encapsulation in Python. What is its role in object-oriented programming?\n",
    "\n"
   ]
  },
  {
   "cell_type": "markdown",
   "metadata": {},
   "source": [
    "Encapsulation is one of the fundamental principles of object-oriented programming (OOP). It is the concept of bundling data (attributes) and the methods (functions) that operate on that data into a single unit called a class. Encapsulation allows for the organization of code, data hiding, and the enforcement of access controls, promoting modularity and reusability."
   ]
  },
  {
   "cell_type": "markdown",
   "metadata": {},
   "source": [
    "### 2. Describe the key principles of encapsulation, including access control and data hiding.\n",
    "\n"
   ]
  },
  {
   "cell_type": "markdown",
   "metadata": {},
   "source": [
    "The key principles of encapsulation include:\n",
    "\n",
    "   a. Access Control: It involves controlling the visibility and accessibility of class members (attributes and methods). Access control is achieved through public, private, and protected access modifiers.\n",
    "\n",
    "   b. Data Hiding: Data hiding restricts direct access to the internal state (attributes) of an object. It protects the integrity of the object's data by encapsulating it and providing controlled access through methods."
   ]
  },
  {
   "cell_type": "markdown",
   "metadata": {},
   "source": [
    "### 3. How can you achieve encapsulation in Python classes? Provide an example.\n",
    "\n"
   ]
  },
  {
   "cell_type": "code",
   "execution_count": 281,
   "metadata": {},
   "outputs": [
    {
     "name": "stdout",
     "output_type": "stream",
     "text": [
      "Alice\n"
     ]
    }
   ],
   "source": [
    "class Person:\n",
    "    def __init__(self, name):\n",
    "        self.__name = name  # __name is a private attribute\n",
    "\n",
    "    def get_name(self):\n",
    "        return self.__name\n",
    "\n",
    "    def set_name(self, name):\n",
    "        if len(name) >= 3:\n",
    "            self.__name = name\n",
    "\n",
    "# Creating a Person object\n",
    "person = Person(\"Alice\")\n",
    "\n",
    "# Accessing the name attribute through getter method\n",
    "print(person.get_name())  # Output: Alice\n",
    "\n",
    "# Attempting to access the private attribute directly raises an AttributeError\n",
    "# print(person.__name)  # This will raise an AttributeError"
   ]
  },
  {
   "cell_type": "markdown",
   "metadata": {},
   "source": [
    "### 4. Discuss the difference between public, private, and protected access modifiers in Python.\n",
    "\n"
   ]
  },
  {
   "cell_type": "markdown",
   "metadata": {},
   "source": [
    "In Python, access modifiers control the visibility of class members:\n",
    "\n",
    "   - Public (default): Members with no underscore prefix are considered public and can be accessed from anywhere.\n",
    "\n",
    "   - Private: Members with a double underscore prefix (e.g., `__attribute`) are considered private and should not be accessed directly from outside the class. Name mangling is applied to these attributes.\n",
    "\n",
    "   - Protected: Members with a single underscore prefix (e.g., `_attribute`) are considered protected. They are intended for internal use within the class and its subclasses but can still be accessed from outside the class."
   ]
  },
  {
   "cell_type": "markdown",
   "metadata": {},
   "source": [
    "### 5. Create a Python class called `Person` with a private attribute `__name`. Provide methods to get and set the name attribute.\n",
    "\n"
   ]
  },
  {
   "cell_type": "code",
   "execution_count": 282,
   "metadata": {},
   "outputs": [],
   "source": [
    "class Person:\n",
    "    def __init__(self, name):\n",
    "        self.__name = name  # __name is a private attribute\n",
    "\n",
    "    def get_name(self):\n",
    "        return self.__name\n",
    "\n",
    "    def set_name(self, name):\n",
    "        if len(name) >= 3:\n",
    "            self.__name = name"
   ]
  },
  {
   "cell_type": "markdown",
   "metadata": {},
   "source": [
    "### 6. Explain the purpose of getter and setter methods in encapsulation. Provide examples.\n",
    "\n"
   ]
  },
  {
   "cell_type": "markdown",
   "metadata": {},
   "source": [
    "Getter and setter methods are used to access and modify private attributes in an encapsulated way. Getters allow you to retrieve the value of an attribute, while setters enable you to change the value, usually with additional validation logic. Examples:\n",
    "\n",
    "```python\n",
    "# Getter and setter methods for __name attribute\n",
    "def get_name(self):\n",
    "    return self.__name\n",
    "\n",
    "def set_name(self, name):\n",
    "    if len(name) >= 3:\n",
    "        self.__name = name\n",
    "```"
   ]
  },
  {
   "cell_type": "markdown",
   "metadata": {},
   "source": [
    "### 7. What is name mangling in Python, and how does it affect encapsulation?\n",
    "\n"
   ]
  },
  {
   "cell_type": "markdown",
   "metadata": {},
   "source": [
    "Name mangling is a mechanism in Python that changes the name of a private attribute to avoid naming conflicts in subclasses. Private attributes with a double underscore prefix (e.g., `__attribute`) are name-mangled to `_classname__attribute`. For example, `__name` in class `Person` would become `_Person__name`. This affects encapsulation by making it harder but not impossible to access private attributes from outside the class."
   ]
  },
  {
   "cell_type": "markdown",
   "metadata": {},
   "source": [
    "Name mangling is a mechanism in Python that changes the name of a private attribute to avoid naming conflicts in subclasses. Private attributes with a double underscore prefix (e.g., `__attribute`) are name-mangled to `_classname__attribute`. For example, `__name` in class `Person` would become `_Person__name`. This affects encapsulation by making it harder but not impossible to access private attributes from outside the class."
   ]
  },
  {
   "cell_type": "markdown",
   "metadata": {},
   "source": [
    "### 8. Create a Python class called `BankAccount` with private attributes for the account balance (`__balance`) and account number (`__account_number`). Provide methods for depositing and withdrawing money.\n",
    "\n"
   ]
  },
  {
   "cell_type": "code",
   "execution_count": 283,
   "metadata": {},
   "outputs": [],
   "source": [
    "class BankAccount:\n",
    "    def __init__(self, account_number, initial_balance=0):\n",
    "        self.__account_number = account_number\n",
    "        self.__balance = initial_balance\n",
    "\n",
    "    def deposit(self, amount):\n",
    "        if amount > 0:\n",
    "            self.__balance += amount\n",
    "\n",
    "    def withdraw(self, amount):\n",
    "        if 0 < amount <= self.__balance:\n",
    "            self.__balance -= amount\n",
    "\n",
    "    def get_balance(self):\n",
    "        return self.__balance"
   ]
  },
  {
   "cell_type": "markdown",
   "metadata": {},
   "source": [
    "### 9. Discuss the advantages of encapsulation in terms of code maintainability and security.\n",
    "\n"
   ]
  },
  {
   "cell_type": "markdown",
   "metadata": {},
   "source": [
    "Advantages of encapsulation:\n",
    "\n",
    "   a. Modularity: Encapsulation promotes modular design by keeping data and functionality together within a class. This makes code more organized and maintainable.\n",
    "\n",
    "   b. Data Hiding: Encapsulation hides the internal state of objects, reducing the risk of data corruption and providing control over how data is accessed and modified.\n",
    "\n",
    "   c. Code Security: It protects sensitive data from unintended or malicious tampering."
   ]
  },
  {
   "cell_type": "markdown",
   "metadata": {},
   "source": [
    "### 10. How can you access private attributes in Python? Provide an example demonstrating the use of name mangling.\n",
    "\n"
   ]
  },
  {
   "cell_type": "code",
   "execution_count": 284,
   "metadata": {},
   "outputs": [
    {
     "name": "stdout",
     "output_type": "stream",
     "text": [
      "Alice\n"
     ]
    }
   ],
   "source": [
    "class Person:\n",
    "    def __init__(self, name):\n",
    "        self.__name = name\n",
    "\n",
    "# Accessing a private attribute using name mangling\n",
    "p = Person(\"Alice\")\n",
    "print(p._Person__name)"
   ]
  },
  {
   "cell_type": "markdown",
   "metadata": {},
   "source": [
    "### 11. Create a Python class hierarchy for a school system, including classes for students, teachers, and courses, and implement encapsulation principles to protect sensitive information.\n",
    "\n"
   ]
  },
  {
   "cell_type": "code",
   "execution_count": 286,
   "metadata": {},
   "outputs": [
    {
     "name": "stdout",
     "output_type": "stream",
     "text": [
      "Person: Alice 25\n",
      "Student: Bob 20 S12345\n",
      "Teacher: Charlie 35 T78901\n",
      "Course: Mathematics MATH101\n",
      "Students Enrolled in Mathematics:\n",
      "Bob S12345\n"
     ]
    }
   ],
   "source": [
    "# Define the Person class\n",
    "class Person:\n",
    "    def __init__(self, name, age):\n",
    "        self.__name = name\n",
    "        self.__age = age\n",
    "\n",
    "    def get_name(self):\n",
    "        return self.__name\n",
    "\n",
    "    def get_age(self):\n",
    "        return self.__age\n",
    "\n",
    "# Define the Student class\n",
    "class Student(Person):\n",
    "    def __init__(self, name, age, student_id):\n",
    "        super().__init__(name, age)\n",
    "        self.__student_id = student_id\n",
    "\n",
    "    def get_student_id(self):\n",
    "        return self.__student_id\n",
    "\n",
    "# Define the Teacher class\n",
    "class Teacher(Person):\n",
    "    def __init__(self, name, age, teacher_id):\n",
    "        super().__init__(name, age)\n",
    "        self.__teacher_id = teacher_id\n",
    "\n",
    "    def get_teacher_id(self):\n",
    "        return self.__teacher_id\n",
    "\n",
    "# Define the Course class\n",
    "class Course:\n",
    "    def __init__(self, course_name, course_code):\n",
    "        self.__course_name = course_name\n",
    "        self.__course_code = course_code\n",
    "        self.__students_enrolled = []\n",
    "\n",
    "    def get_course_name(self):\n",
    "        return self.__course_name\n",
    "\n",
    "    def get_course_code(self):\n",
    "        return self.__course_code\n",
    "\n",
    "    def enroll_student(self, student):\n",
    "        self.__students_enrolled.append(student)\n",
    "\n",
    "    def get_students_enrolled(self):\n",
    "        return self.__students_enrolled\n",
    "\n",
    "# Create instances of Person, Student, Teacher, and Course\n",
    "person1 = Person(\"Alice\", 25)\n",
    "student1 = Student(\"Bob\", 20, \"S12345\")\n",
    "teacher1 = Teacher(\"Charlie\", 35, \"T78901\")\n",
    "course1 = Course(\"Mathematics\", \"MATH101\")\n",
    "\n",
    "# Enroll students in the course\n",
    "course1.enroll_student(student1)\n",
    "\n",
    "# Print information\n",
    "print(\"Person:\", person1.get_name(), person1.get_age())\n",
    "print(\"Student:\", student1.get_name(), student1.get_age(), student1.get_student_id())\n",
    "print(\"Teacher:\", teacher1.get_name(), teacher1.get_age(), teacher1.get_teacher_id())\n",
    "print(\"Course:\", course1.get_course_name(), course1.get_course_code())\n",
    "print(\"Students Enrolled in\", course1.get_course_name() + \":\")\n",
    "for student in course1.get_students_enrolled():\n",
    "    print(student.get_name(), student.get_student_id())\n"
   ]
  },
  {
   "cell_type": "markdown",
   "metadata": {},
   "source": [
    "### 12. Explain the concept of property decorators in Python and how they relate to encapsulation.\n",
    "\n"
   ]
  },
  {
   "cell_type": "markdown",
   "metadata": {},
   "source": [
    "Property decorators in Python (such as `@property`, `@<attribute>.setter`, and `@<attribute>.deleter`) are used to control attribute access and modification while providing a more concise syntax. They are related to encapsulation because they allow you to encapsulate the internal representation of an attribute while exposing methods that act as property getters, setters, and deleters. These decorators are used to define computed properties and validate or modify attribute values transparently."
   ]
  },
  {
   "cell_type": "markdown",
   "metadata": {},
   "source": [
    "### 13. What is data hiding, and why is it important in encapsulation? Provide examples.\n",
    "\n"
   ]
  },
  {
   "cell_type": "markdown",
   "metadata": {},
   "source": [
    "Data hiding is the practice of restricting direct access to the internal state (attributes) of an object. It is important in encapsulation because it protects the integrity of the object's data. Without data hiding, sensitive information might be accessed and modified inadvertently, leading to data corruption."
   ]
  },
  {
   "cell_type": "code",
   "execution_count": 288,
   "metadata": {},
   "outputs": [
    {
     "name": "stdout",
     "output_type": "stream",
     "text": [
      "50000\n"
     ]
    }
   ],
   "source": [
    "class Employee:\n",
    "    def __init__(self, salary):\n",
    "        self.__salary = salary\n",
    "\n",
    "    def get_salary(self):\n",
    "        return self.__salary\n",
    "\n",
    "    def set_salary(self, salary):\n",
    "        if salary >= 0:\n",
    "            self.__salary = salary\n",
    "\n",
    "employee = Employee(50000)\n",
    "print(employee.get_salary())"
   ]
  },
  {
   "cell_type": "markdown",
   "metadata": {},
   "source": [
    "### 14. Create a Python class called `Employee` with private attributes for salary (`__salary`) and employee ID (`__employee_id`). Provide a method to calculate yearly bonuses.\n",
    "\n"
   ]
  },
  {
   "cell_type": "code",
   "execution_count": 290,
   "metadata": {},
   "outputs": [
    {
     "name": "stdout",
     "output_type": "stream",
     "text": [
      "Yearly bonus for Employee E12345: $5000.00\n",
      "Yearly bonus for Employee E12345: $0.00\n"
     ]
    }
   ],
   "source": [
    "class Employee:\n",
    "    def __init__(self, employee_id, salary):\n",
    "        self.__employee_id = employee_id\n",
    "        self.__salary = salary\n",
    "\n",
    "    def calculate_yearly_bonus(self, bonus_percentage):\n",
    "        if bonus_percentage > 0:\n",
    "            return self.__salary * bonus_percentage / 100\n",
    "        return 0\n",
    "\n",
    "# Create an instance of the Employee class\n",
    "employee1 = Employee(\"E12345\", 50000)\n",
    "\n",
    "# Calculate and print the yearly bonus with a bonus percentage of 10%\n",
    "bonus_percentage = 10\n",
    "yearly_bonus = employee1.calculate_yearly_bonus(bonus_percentage)\n",
    "print(f\"Yearly bonus for Employee {employee1._Employee__employee_id}: ${yearly_bonus:.2f}\")\n",
    "\n",
    "# Calculate and print the yearly bonus with a bonus percentage of 0%\n",
    "bonus_percentage = 0\n",
    "yearly_bonus = employee1.calculate_yearly_bonus(bonus_percentage)\n",
    "print(f\"Yearly bonus for Employee {employee1._Employee__employee_id}: ${yearly_bonus:.2f}\")\n"
   ]
  },
  {
   "cell_type": "markdown",
   "metadata": {},
   "source": [
    "### 15. Discuss the use of accessors and mutators in encapsulation. How do they help maintain control over attribute access?\n",
    "\n"
   ]
  },
  {
   "cell_type": "markdown",
   "metadata": {},
   "source": [
    "Accessors (getter methods) and mutators (setter methods) are used in encapsulation to control attribute access. Accessors provide read-only access to attribute values and mutators provide a way to modify attribute values while encapsulating the internal representation. They help maintain control over attribute access by allowing validation, calculations, or other operations when accessing or modifying an attribute's value."
   ]
  },
  {
   "cell_type": "markdown",
   "metadata": {},
   "source": [
    "### 16. What are the potential drawbacks or disadvantages of using encapsulation in Python?\n",
    "\n"
   ]
  },
  {
   "cell_type": "markdown",
   "metadata": {},
   "source": [
    "Disadvantages of using encapsulation in Python:\n",
    "\n",
    "   a. Complexity: Encapsulation may add complexity to the code, especially when many attributes need getter and setter methods.\n",
    "\n",
    "   b. Overhead: Using methods for attribute access can introduce some performance overhead compared to direct access.\n",
    "\n",
    "   c. Learning Curve: It may take some time for developers to understand and adopt encapsulation practices effectively."
   ]
  },
  {
   "cell_type": "markdown",
   "metadata": {},
   "source": [
    "### 17. Create a Python class for a library system that encapsulates book information, including titles, authors, and availability status.\n",
    "\n"
   ]
  },
  {
   "cell_type": "code",
   "execution_count": 291,
   "metadata": {},
   "outputs": [
    {
     "name": "stdout",
     "output_type": "stream",
     "text": [
      "Book 1 (Python Programming by John Smith) is available: True\n",
      "Book 1 (Python Programming by John Smith) is available after borrowing: False\n",
      "Book 1 (Python Programming by John Smith) is available after returning: True\n",
      "Book 2 (Data Science Essentials by Alice Johnson) is available: True\n"
     ]
    }
   ],
   "source": [
    "class Book:\n",
    "    def __init__(self, title, author, is_available=True):\n",
    "        self.__title = title\n",
    "        self.__author = author\n",
    "        self.__is_available = is_available\n",
    "\n",
    "    def get_title(self):\n",
    "        return self.__title\n",
    "\n",
    "    def get_author(self):\n",
    "        return self.__author\n",
    "\n",
    "    def is_available(self):\n",
    "        return self.__is_available\n",
    "\n",
    "    def borrow_book(self):\n",
    "        if self.__is_available:\n",
    "            self.__is_available = False\n",
    "\n",
    "    def return_book(self):\n",
    "        self.__is_available = True\n",
    "\n",
    "# Create instances of the Book class\n",
    "book1 = Book(\"Python Programming\", \"John Smith\")\n",
    "book2 = Book(\"Data Science Essentials\", \"Alice Johnson\")\n",
    "\n",
    "# Check book availability\n",
    "print(f\"Book 1 ({book1.get_title()} by {book1.get_author()}) is available: {book1.is_available()}\")\n",
    "\n",
    "# Borrow a book\n",
    "book1.borrow_book()\n",
    "print(f\"Book 1 ({book1.get_title()} by {book1.get_author()}) is available after borrowing: {book1.is_available()}\")\n",
    "\n",
    "# Return a book\n",
    "book1.return_book()\n",
    "print(f\"Book 1 ({book1.get_title()} by {book1.get_author()}) is available after returning: {book1.is_available()}\")\n",
    "\n",
    "# Check the availability of book 2\n",
    "print(f\"Book 2 ({book2.get_title()} by {book2.get_author()}) is available: {book2.is_available()}\")\n"
   ]
  },
  {
   "cell_type": "markdown",
   "metadata": {},
   "source": [
    "### 18. Explain how encapsulation enhances code reusability and modularity in Python programs.\n",
    "\n"
   ]
  },
  {
   "cell_type": "markdown",
   "metadata": {},
   "source": [
    "Encapsulation enhances code reusability and modularity by creating self-contained classes with well-defined interfaces. This makes it easier to reuse and maintain code since the internal details of a class are hidden, and the class can be treated as a black box with specific inputs and outputs. Encapsulated classes can be used without knowledge of their internal workings, promoting modularity and preventing unintended interference with their implementation."
   ]
  },
  {
   "cell_type": "markdown",
   "metadata": {},
   "source": [
    "### 19. Describe the concept of information hiding in encapsulation. Why is it essential in software development?\n",
    "\n"
   ]
  },
  {
   "cell_type": "markdown",
   "metadata": {},
   "source": [
    "Information hiding is essential in software development because it restricts the exposure of an object's internal details and focuses on providing a well-defined interface. This separation of concerns allows for easier maintenance, debugging, and future changes without affecting other parts of the code. Information hiding helps prevent unintended consequences of direct data manipulation and enforces data integrity."
   ]
  },
  {
   "cell_type": "markdown",
   "metadata": {},
   "source": [
    "### 20. Create a Python class called `Customer` with private attributes for customer details like name, address, and contact information. Implement encapsulation to ensure data integrity and security.\n",
    "\n",
    "\n"
   ]
  },
  {
   "cell_type": "code",
   "execution_count": 292,
   "metadata": {},
   "outputs": [
    {
     "name": "stdout",
     "output_type": "stream",
     "text": [
      "Customer Name: Alice\n",
      "Customer Address: 123 Main St\n",
      "Customer Contact Info: alice@example.com\n"
     ]
    }
   ],
   "source": [
    "class Customer:\n",
    "    def __init__(self, name, address, contact_info):\n",
    "        self.__name = name\n",
    "        self.__address = address\n",
    "        self.__contact_info = contact_info\n",
    "\n",
    "    def get_name(self):\n",
    "        return self.__name\n",
    "\n",
    "    def get_address(self):\n",
    "        return self.__address\n",
    "\n",
    "    def get_contact_info(self):\n",
    "        return self.__contact_info\n",
    "\n",
    "# Create an instance of the Customer class\n",
    "customer1 = Customer(\"Alice\", \"123 Main St\", \"alice@example.com\")\n",
    "\n",
    "# Access and print customer information\n",
    "print(\"Customer Name:\", customer1.get_name())\n",
    "print(\"Customer Address:\", customer1.get_address())\n",
    "print(\"Customer Contact Info:\", customer1.get_contact_info())\n"
   ]
  },
  {
   "cell_type": "markdown",
   "metadata": {},
   "source": [
    "## **Polymorphism:**"
   ]
  },
  {
   "cell_type": "markdown",
   "metadata": {},
   "source": [
    "### 1. What is polymorphism in Python? Explain how it is related to object-oriented programming.\n",
    "\n"
   ]
  },
  {
   "cell_type": "markdown",
   "metadata": {},
   "source": [
    "Polymorphism in Python is a concept in object-oriented programming that allows objects of different classes to be treated as objects of a common superclass. It enables a single interface to represent different data types or objects, providing a way to perform operations on these objects without knowing their specific types. Polymorphism allows for flexibility and extensibility in software design."
   ]
  },
  {
   "cell_type": "markdown",
   "metadata": {},
   "source": [
    "### 2. Describe the difference between compile-time polymorphism and runtime polymorphism in Python.\n",
    "\n"
   ]
  },
  {
   "cell_type": "markdown",
   "metadata": {},
   "source": [
    "Compile-time polymorphism, also known as method overloading, occurs at compile time when there are multiple methods with the same name but different parameter lists in a class. The appropriate method to be called is determined based on the number or types of arguments at compile time. In contrast, runtime polymorphism, also known as method overriding, occurs at runtime when a subclass provides a specific implementation of a method that is already defined in its superclass. The method to be invoked is determined dynamically based on the actual object's type at runtime."
   ]
  },
  {
   "cell_type": "markdown",
   "metadata": {},
   "source": [
    "### 3. Create a Python class hierarchy for shapes (e.g., circle, square, triangle) and demonstrate polymorphism through a common method, such as `calculate_area()`.\n",
    "\n"
   ]
  },
  {
   "cell_type": "code",
   "execution_count": 293,
   "metadata": {},
   "outputs": [
    {
     "name": "stdout",
     "output_type": "stream",
     "text": [
      "Area of the Circle: 78.54\n",
      "Area of the Square: 16\n",
      "Area of the Triangle: 24.0\n"
     ]
    }
   ],
   "source": [
    "class Shape:\n",
    "    def calculate_area(self):\n",
    "        pass\n",
    "\n",
    "class Circle(Shape):\n",
    "    def __init__(self, radius):\n",
    "        self.radius = radius\n",
    "\n",
    "    def calculate_area(self):\n",
    "        return 3.14159 * self.radius ** 2\n",
    "\n",
    "class Square(Shape):\n",
    "    def __init__(self, side_length):\n",
    "        self.side_length = side_length\n",
    "\n",
    "    def calculate_area(self):\n",
    "        return self.side_length ** 2\n",
    "\n",
    "class Triangle(Shape):\n",
    "    def __init__(self, base, height):\n",
    "        self.base = base\n",
    "        self.height = height\n",
    "\n",
    "    def calculate_area(self):\n",
    "        return 0.5 * self.base * self.height\n",
    "\n",
    "# Create instances of different shapes\n",
    "circle = Circle(5)  # Circle with radius 5\n",
    "square = Square(4)  # Square with side length 4\n",
    "triangle = Triangle(6, 8)  # Triangle with base 6 and height 8\n",
    "\n",
    "# Calculate and print the areas of the shapes\n",
    "print(f\"Area of the Circle: {circle.calculate_area():.2f}\")\n",
    "print(f\"Area of the Square: {square.calculate_area()}\")\n",
    "print(f\"Area of the Triangle: {triangle.calculate_area()}\")\n"
   ]
  },
  {
   "cell_type": "markdown",
   "metadata": {},
   "source": [
    "### 4. Explain the concept of method overriding in polymorphism. Provide an example.\n",
    "\n"
   ]
  },
  {
   "cell_type": "code",
   "execution_count": 294,
   "metadata": {},
   "outputs": [
    {
     "name": "stdout",
     "output_type": "stream",
     "text": [
      "Woof!\n",
      "Meow!\n"
     ]
    }
   ],
   "source": [
    "class Animal:\n",
    "    def speak(self):\n",
    "        pass\n",
    "\n",
    "class Dog(Animal):\n",
    "    def speak(self):\n",
    "        return \"Woof!\"\n",
    "\n",
    "class Cat(Animal):\n",
    "    def speak(self):\n",
    "        return \"Meow!\"\n",
    "\n",
    "dog = Dog()\n",
    "cat = Cat()\n",
    "print(dog.speak()) \n",
    "print(cat.speak()) "
   ]
  },
  {
   "cell_type": "markdown",
   "metadata": {},
   "source": [
    "### 5. How is polymorphism different from method overloading in Python? Provide examples for both.\n",
    "\n"
   ]
  },
  {
   "cell_type": "markdown",
   "metadata": {},
   "source": [
    "Polymorphism refers to the ability of objects of different classes to respond to the same method or message. In Python, it is achieved through method overriding. Method overloading, on the other hand, refers to defining multiple methods with the same name but different parameter lists in the same class, and the appropriate method is called based on the number or types of arguments. Method overloading is not supported in Python due to its dynamic typing nature. In Python, polymorphism through method overriding is commonly used."
   ]
  },
  {
   "cell_type": "markdown",
   "metadata": {},
   "source": [
    "### 6. Create a Python class called `Animal` with a method `speak()`. Then, create child classes like `Dog`, `Cat`, and `Bird`, each with their own `speak()` method. Demonstrate polymorphism by calling the `speak()` method on objects of different subclasses.\n",
    "\n"
   ]
  },
  {
   "cell_type": "code",
   "execution_count": 295,
   "metadata": {},
   "outputs": [
    {
     "name": "stdout",
     "output_type": "stream",
     "text": [
      "Woof!\n",
      "Meow!\n",
      "Tweet!\n"
     ]
    }
   ],
   "source": [
    "class Animal:\n",
    "    def speak(self):\n",
    "        pass\n",
    "\n",
    "class Dog(Animal):\n",
    "    def speak(self):\n",
    "        return \"Woof!\"\n",
    "\n",
    "class Cat(Animal):\n",
    "    def speak(self):\n",
    "        return \"Meow!\"\n",
    "\n",
    "class Bird(Animal):\n",
    "    def speak(self):\n",
    "        return \"Tweet!\"\n",
    "\n",
    "animals = [Dog(), Cat(), Bird()]\n",
    "for animal in animals:\n",
    "    print(animal.speak())"
   ]
  },
  {
   "cell_type": "markdown",
   "metadata": {},
   "source": [
    "### 7. Discuss the use of abstract methods and classes in achieving polymorphism in Python. Provide an example using the `abc` module.\n",
    "\n"
   ]
  },
  {
   "cell_type": "markdown",
   "metadata": {},
   "source": [
    "Abstract methods and classes in Python, often used with the `abc` (Abstract Base Classes) module, allow you to define a common interface with abstract methods that must be implemented by concrete subclasses. This enforces polymorphism by ensuring that different subclasses provide their specific implementations of the required methods."
   ]
  },
  {
   "cell_type": "code",
   "execution_count": 296,
   "metadata": {},
   "outputs": [
    {
     "name": "stdout",
     "output_type": "stream",
     "text": [
      "Area of the Circle: 78.54\n",
      "Area of the Square: 16\n"
     ]
    }
   ],
   "source": [
    "from abc import ABC, abstractmethod\n",
    "\n",
    "class Shape(ABC):\n",
    "    @abstractmethod\n",
    "    def calculate_area(self):\n",
    "        pass\n",
    "\n",
    "class Circle(Shape):\n",
    "    def __init__(self, radius):\n",
    "        self.radius = radius\n",
    "\n",
    "    def calculate_area(self):\n",
    "        return 3.14159 * self.radius ** 2\n",
    "\n",
    "class Square(Shape):\n",
    "    def __init__(self, side_length):\n",
    "        self.side_length = side_length\n",
    "\n",
    "    def calculate_area(self):\n",
    "        return self.side_length ** 2\n",
    "\n",
    "# Create instances of specific shapes\n",
    "circle = Circle(5)  # Circle with radius 5\n",
    "square = Square(4)  # Square with side length 4\n",
    "\n",
    "# Calculate and print the areas of the shapes\n",
    "print(f\"Area of the Circle: {circle.calculate_area():.2f}\")\n",
    "print(f\"Area of the Square: {square.calculate_area()}\")\n"
   ]
  },
  {
   "cell_type": "markdown",
   "metadata": {},
   "source": [
    "### 8. Create a Python class hierarchy for a vehicle system (e.g., car, bicycle, boat) and implement a polymorphic `start()` method that prints a message specific to each vehicle type.\n",
    "\n"
   ]
  },
  {
   "cell_type": "code",
   "execution_count": 297,
   "metadata": {},
   "outputs": [
    {
     "name": "stdout",
     "output_type": "stream",
     "text": [
      "Car started.\n",
      "Bicycle started.\n",
      "Boat started.\n"
     ]
    }
   ],
   "source": [
    "class Vehicle:\n",
    "    def start(self):\n",
    "        pass\n",
    "\n",
    "class Car(Vehicle):\n",
    "    def start(self):\n",
    "        return \"Car started.\"\n",
    "\n",
    "class Bicycle(Vehicle):\n",
    "    def start(self):\n",
    "        return \"Bicycle started.\"\n",
    "\n",
    "class Boat(Vehicle):\n",
    "    def start(self):\n",
    "        return \"Boat started.\"\n",
    "\n",
    "vehicles = [Car(), Bicycle(), Boat()]\n",
    "for vehicle in vehicles:\n",
    "    print(vehicle.start())"
   ]
  },
  {
   "cell_type": "markdown",
   "metadata": {},
   "source": [
    "### 9. Explain the significance of the `isinstance()` and `issubclass()` functions in Python polymorphism.\n",
    "\n"
   ]
  },
  {
   "cell_type": "markdown",
   "metadata": {},
   "source": [
    "The `isinstance()` function is used to check if an object is an instance of a particular class or type. The `issubclass()` function checks if a class is a subclass of a specified class. These functions play a role in determining the compatibility of objects and classes in polymorphism scenarios."
   ]
  },
  {
   "cell_type": "markdown",
   "metadata": {},
   "source": [
    "### 10. What is the role of the `@abstractmethod` decorator in achieving polymorphism in Python? Provide an example.\n",
    "\n"
   ]
  },
  {
   "cell_type": "markdown",
   "metadata": {},
   "source": [
    "The `@abstractmethod` decorator is used to define abstract methods in abstract base classes (ABCs). Abstract methods must be overridden in concrete subclasses, ensuring that the subclass provides a specific implementation for these methods."
   ]
  },
  {
   "cell_type": "code",
   "execution_count": 298,
   "metadata": {},
   "outputs": [
    {
     "name": "stdout",
     "output_type": "stream",
     "text": [
      "Area of the Circle: 78.54\n",
      "Area of the Square: 16\n"
     ]
    }
   ],
   "source": [
    "from abc import ABC, abstractmethod\n",
    "\n",
    "class Shape(ABC):\n",
    "    @abstractmethod\n",
    "    def calculate_area(self):\n",
    "        pass\n",
    "\n",
    "class Circle(Shape):\n",
    "    def __init__(self, radius):\n",
    "        self.radius = radius\n",
    "\n",
    "    def calculate_area(self):\n",
    "        return 3.14159 * self.radius ** 2\n",
    "\n",
    "class Square(Shape):\n",
    "    def __init__(self, side_length):\n",
    "        self.side_length = side_length\n",
    "\n",
    "    def calculate_area(self):\n",
    "        return self.side_length ** 2\n",
    "\n",
    "# Create instances of specific shapes\n",
    "circle = Circle(5)  # Circle with radius 5\n",
    "square = Square(4)  # Square with side length 4\n",
    "\n",
    "# Calculate and print the areas of the shapes\n",
    "print(f\"Area of the Circle: {circle.calculate_area():.2f}\")\n",
    "print(f\"Area of the Square: {square.calculate_area()}\")\n"
   ]
  },
  {
   "cell_type": "markdown",
   "metadata": {},
   "source": [
    "### 11. Create a Python class called `Shape` with a polymorphic method `area()` that calculates the area of different shapes (e.g., circle, rectangle, triangle).\n",
    "\n"
   ]
  },
  {
   "cell_type": "code",
   "execution_count": 299,
   "metadata": {},
   "outputs": [
    {
     "name": "stdout",
     "output_type": "stream",
     "text": [
      "Area of the Circle: 78.54\n",
      "Area of the Rectangle: 24\n",
      "Area of the Triangle: 12.0\n"
     ]
    }
   ],
   "source": [
    "class Shape:\n",
    "    def area(self):\n",
    "        pass\n",
    "\n",
    "class Circle(Shape):\n",
    "    def __init__(self, radius):\n",
    "        self.radius = radius\n",
    "\n",
    "    def area(self):\n",
    "        return 3.14159 * self.radius ** 2\n",
    "\n",
    "class Rectangle(Shape):\n",
    "    def __init__(self, length, width):\n",
    "        self.length = length\n",
    "        self.width = width\n",
    "\n",
    "    def area(self):\n",
    "        return self.length * self.width\n",
    "\n",
    "class Triangle(Shape):\n",
    "    def __init__(self, base, height):\n",
    "        self.base = base\n",
    "        self.height = height\n",
    "\n",
    "    def area(self):\n",
    "        return 0.5 * self.base * self.height\n",
    "\n",
    "# Create instances of specific shapes\n",
    "circle = Circle(5)  # Circle with radius 5\n",
    "rectangle = Rectangle(4, 6)  # Rectangle with length 4 and width 6\n",
    "triangle = Triangle(3, 8)  # Triangle with base 3 and height 8\n",
    "\n",
    "# Calculate and print the areas of the shapes\n",
    "print(f\"Area of the Circle: {circle.area():.2f}\")\n",
    "print(f\"Area of the Rectangle: {rectangle.area()}\")\n",
    "print(f\"Area of the Triangle: {triangle.area()}\")\n"
   ]
  },
  {
   "cell_type": "markdown",
   "metadata": {},
   "source": [
    "### 12. Discuss the benefits of polymorphism in terms of code reusability and flexibility in Python programs.\n",
    "\n"
   ]
  },
  {
   "cell_type": "markdown",
   "metadata": {},
   "source": [
    "Benefits of polymorphism in Python include code reusability and flexibility. It allows you to write more general and flexible code that can work with a variety of objects and classes. This leads to cleaner, more maintainable code as you can design functions or methods to be more generic and adaptable."
   ]
  },
  {
   "cell_type": "markdown",
   "metadata": {},
   "source": [
    "### 13. Explain the use of the `super()` function in Python polymorphism. How does it help call methods of parent classes?\n",
    "\n"
   ]
  },
  {
   "cell_type": "markdown",
   "metadata": {},
   "source": [
    "The `super()` function in Python is used to call methods of a parent class from a child class. It is commonly used to invoke the constructor of the parent class. It ensures that the parent class's methods are executed when necessary, allowing you to extend or customize their behavior in the child class."
   ]
  },
  {
   "cell_type": "markdown",
   "metadata": {},
   "source": [
    "### 14. Create a Python class hierarchy for a banking system with various account types (e.g., savings, checking, credit card) and demonstrate polymorphism by implementing a common `withdraw()` method.\n",
    "\n"
   ]
  },
  {
   "cell_type": "code",
   "execution_count": 300,
   "metadata": {},
   "outputs": [
    {
     "name": "stdout",
     "output_type": "stream",
     "text": [
      "Withdrew $200. Remaining balance: $800\n",
      "Withdrawal from Savings Account.\n",
      "Insufficient funds. Checking Account balance: $500\n",
      "Withdrew $1500. Remaining balance: $500\n",
      "Withdrawal from Credit Card Account.\n"
     ]
    }
   ],
   "source": [
    "class Account:\n",
    "    def __init__(self, balance):\n",
    "        self.balance = balance\n",
    "\n",
    "    def withdraw(self, amount):\n",
    "        if amount <= self.balance:\n",
    "            self.balance -= amount\n",
    "            print(f\"Withdrew ${amount}. Remaining balance: ${self.balance}\")\n",
    "        else:\n",
    "            print(f\"Insufficient funds. Balance: ${self.balance}\")\n",
    "\n",
    "class SavingsAccount(Account):\n",
    "    def withdraw(self, amount):\n",
    "        if amount <= self.balance:\n",
    "            super().withdraw(amount)\n",
    "            print(\"Withdrawal from Savings Account.\")\n",
    "        else:\n",
    "            print(f\"Insufficient funds. Savings Account balance: ${self.balance}\")\n",
    "\n",
    "class CheckingAccount(Account):\n",
    "    def withdraw(self, amount):\n",
    "        if amount <= self.balance:\n",
    "            super().withdraw(amount)\n",
    "            print(\"Withdrawal from Checking Account.\")\n",
    "        else:\n",
    "            print(f\"Insufficient funds. Checking Account balance: ${self.balance}\")\n",
    "\n",
    "class CreditCardAccount(Account):\n",
    "    def withdraw(self, amount):\n",
    "        if amount <= self.balance:\n",
    "            super().withdraw(amount)\n",
    "            print(\"Withdrawal from Credit Card Account.\")\n",
    "        else:\n",
    "            print(f\"Insufficient available credit. Credit Card balance: ${self.balance}\")\n",
    "\n",
    "# Create instances of specific account types\n",
    "savings_account = SavingsAccount(1000)\n",
    "checking_account = CheckingAccount(500)\n",
    "credit_card_account = CreditCardAccount(2000)\n",
    "\n",
    "# Perform withdrawals from different accounts\n",
    "savings_account.withdraw(200)\n",
    "checking_account.withdraw(700)\n",
    "credit_card_account.withdraw(1500)\n"
   ]
  },
  {
   "cell_type": "markdown",
   "metadata": {},
   "source": [
    "### 15. Describe the concept of operator overloading in Python and how it relates to polymorphism. Provide examples using operators like `+` and `*`.\n",
    "\n"
   ]
  },
  {
   "cell_type": "markdown",
   "metadata": {},
   "source": [
    "Operator overloading in Python allows you to define how operators like `+` and `*` behave for objects of your custom classes. You can provide custom implementations for these operators based on the context of your class."
   ]
  },
  {
   "cell_type": "code",
   "execution_count": 301,
   "metadata": {},
   "outputs": [
    {
     "name": "stdout",
     "output_type": "stream",
     "text": [
      "Addition: 4 + 9i\n",
      "Multiplication: -11 + 23i\n"
     ]
    }
   ],
   "source": [
    "class ComplexNumber:\n",
    "    def __init__(self, real, imaginary):\n",
    "        self.real = real\n",
    "        self.imaginary = imaginary\n",
    "\n",
    "    def __add__(self, other):\n",
    "        return ComplexNumber(self.real + other.real, self.imaginary + other.imaginary)\n",
    "\n",
    "    def __mul__(self, other):\n",
    "        real_part = (self.real * other.real) - (self.imaginary * other.imaginary)\n",
    "        imaginary_part = (self.real * other.imaginary) + (self.imaginary * other.real)\n",
    "        return ComplexNumber(real_part, imaginary_part)\n",
    "\n",
    "# Create complex numbers\n",
    "complex_num1 = ComplexNumber(3, 2)\n",
    "complex_num2 = ComplexNumber(1, 7)\n",
    "\n",
    "# Addition\n",
    "result_addition = complex_num1 + complex_num2\n",
    "print(f\"Addition: {result_addition.real} + {result_addition.imaginary}i\")\n",
    "\n",
    "# Multiplication\n",
    "result_multiplication = complex_num1 * complex_num2\n",
    "print(f\"Multiplication: {result_multiplication.real} + {result_multiplication.imaginary}i\")\n"
   ]
  },
  {
   "cell_type": "markdown",
   "metadata": {},
   "source": [
    "### 16. What is dynamic polymorphism, and how is it achieved in Python?\n",
    "\n"
   ]
  },
  {
   "cell_type": "markdown",
   "metadata": {},
   "source": [
    " Dynamic polymorphism in Python is achieved through method overriding. It allows you to invoke different implementations of a method depending on the type of object at runtime. This is done by defining a method with the same name in both the parent and child classes, and the appropriate method is dynamically chosen based on the actual object type."
   ]
  },
  {
   "cell_type": "markdown",
   "metadata": {},
   "source": [
    "### 17. Create a Python class hierarchy for employees in a company (e.g., manager, developer, designer) and implement polymorphism through a common `calculate_salary()` method.\n",
    "\n"
   ]
  },
  {
   "cell_type": "code",
   "execution_count": 302,
   "metadata": {},
   "outputs": [
    {
     "name": "stdout",
     "output_type": "stream",
     "text": [
      "Manager's Salary: $70000\n",
      "Developer's Salary: $78000\n",
      "Designer's Salary: $61000\n"
     ]
    }
   ],
   "source": [
    "class Employee:\n",
    "    def calculate_salary(self):\n",
    "        return 0\n",
    "\n",
    "class Manager(Employee):\n",
    "    def calculate_salary(self):\n",
    "        base_salary = 60000\n",
    "        bonus = 10000\n",
    "        total_salary = base_salary + bonus\n",
    "        print(f\"Manager's Salary: ${total_salary}\")\n",
    "\n",
    "class Developer(Employee):\n",
    "    def calculate_salary(self):\n",
    "        base_salary = 70000\n",
    "        bonus = 8000\n",
    "        total_salary = base_salary + bonus\n",
    "        print(f\"Developer's Salary: ${total_salary}\")\n",
    "\n",
    "class Designer(Employee):\n",
    "    def calculate_salary(self):\n",
    "        base_salary = 55000\n",
    "        bonus = 6000\n",
    "        total_salary = base_salary + bonus\n",
    "        print(f\"Designer's Salary: ${total_salary}\")\n",
    "\n",
    "# Create instances of specific employee types\n",
    "manager = Manager()\n",
    "developer = Developer()\n",
    "designer = Designer()\n",
    "\n",
    "# Calculate salaries for different employee types\n",
    "manager.calculate_salary()  # Calculates and prints the manager's salary\n",
    "developer.calculate_salary()  # Calculates and prints the developer's salary\n",
    "designer.calculate_salary()  # Calculates and prints the designer's salary\n"
   ]
  },
  {
   "cell_type": "markdown",
   "metadata": {},
   "source": [
    "### 18. Discuss the concept of function pointers and how they can be used to achieve polymorphism in Python.\n",
    "\n"
   ]
  },
  {
   "cell_type": "markdown",
   "metadata": {},
   "source": [
    "Function pointers are not used in Python in the same way as in some other languages. Python relies on dynamic typing and doesn't require explicit pointers or references to functions. Polymorphism and method overriding handle method calls without the need for function pointers."
   ]
  },
  {
   "cell_type": "markdown",
   "metadata": {},
   "source": [
    "### 19. Explain the role of interfaces and abstract classes in polymorphism, drawing comparisons between them.\n",
    "\n"
   ]
  },
  {
   "cell_type": "markdown",
   "metadata": {},
   "source": [
    "Interfaces and abstract classes play similar roles in achieving polymorphism by defining a common interface that must be implemented by subclasses. Interfaces in Python are defined using abstract classes with abstract methods. The difference is that abstract classes can also provide some implementation, while interfaces cannot. You can choose the appropriate approach based on your design needs."
   ]
  },
  {
   "cell_type": "markdown",
   "metadata": {},
   "source": [
    "### 20. Create a Python class for a zoo simulation, demonstrating polymorphism with different animal types (e.g., mammals, birds, reptiles) and their behavior (e.g., eating, sleeping, making sounds).\n",
    "\n",
    "\n"
   ]
  },
  {
   "cell_type": "code",
   "execution_count": 303,
   "metadata": {},
   "outputs": [
    {
     "name": "stdout",
     "output_type": "stream",
     "text": [
      "Lion\n",
      "Lion the mammal is eating\n",
      "Sparrow\n",
      "Sparrow the bird is eating\n",
      "Snake\n",
      "Snake the reptile is eating\n",
      "Lion\n",
      "Lion the mammal is eating\n",
      "Sparrow\n",
      "Sparrow the bird is eating\n",
      "Snake\n",
      "Snake the reptile is eating\n"
     ]
    }
   ],
   "source": [
    "class Animal:\n",
    "    def __init__(self, name):\n",
    "        self.name = name\n",
    "\n",
    "    def eat(self):\n",
    "        pass\n",
    "\n",
    "    def sleep(self):\n",
    "        pass\n",
    "\n",
    "    def make_sound(self):\n",
    "        pass\n",
    "\n",
    "class Mammal(Animal):\n",
    "    def eat(self):\n",
    "        print(f\"{self.name} the mammal is eating\")\n",
    "\n",
    "class Bird(Animal):\n",
    "    def eat(self):\n",
    "        print(f\"{self.name} the bird is eating\")\n",
    "\n",
    "class Reptile(Animal):\n",
    "    def eat(self):\n",
    "        print(f\"{self.name} the reptile is eating\")\n",
    "\n",
    "# Create instances of different animals and demonstrate polymorphism\n",
    "lion = Mammal(\"Lion\")\n",
    "sparrow = Bird(\"Sparrow\")\n",
    "snake = Reptile(\"Snake\")\n",
    "\n",
    "zoo = [lion, sparrow, snake]\n",
    "for animal in zoo:\n",
    "    print(animal.name)\n",
    "    animal.eat()\n",
    "    animal.sleep()\n",
    "    animal.make_sound()\n",
    "\n",
    "# Additional specific implementations for sleeping and making sound\n",
    "class Mammal(Animal):\n",
    "    def eat(self):\n",
    "        print(f\"{self.name} the mammal is eating\")\n",
    "\n",
    "    def sleep(self):\n",
    "        print(f\"{self.name} the mammal is sleeping\")\n",
    "\n",
    "    def make_sound(self):\n",
    "        print(f\"{self.name} the mammal is making a sound\")\n",
    "\n",
    "class Bird(Animal):\n",
    "    def eat(self):\n",
    "        print(f\"{self.name} the bird is eating\")\n",
    "\n",
    "    def sleep(self):\n",
    "        print(f\"{self.name} the bird is sleeping\")\n",
    "\n",
    "    def make_sound(self):\n",
    "        print(f\"{self.name} the bird is making a sound\")\n",
    "\n",
    "class Reptile(Animal):\n",
    "    def eat(self):\n",
    "        print(f\"{self.name} the reptile is eating\")\n",
    "\n",
    "    def sleep(self):\n",
    "        print(f\"{self.name} the reptile is sleeping\")\n",
    "\n",
    "    def make_sound(self):\n",
    "        print(f\"{self.name} the reptile is making a sound\")\n",
    "\n",
    "# Demonstrate polymorphism with the updated methods\n",
    "zoo = [lion, sparrow, snake]\n",
    "for animal in zoo:\n",
    "    print(animal.name)\n",
    "    animal.eat()\n",
    "    animal.sleep()\n",
    "    animal.make_sound()\n"
   ]
  },
  {
   "cell_type": "markdown",
   "metadata": {},
   "source": [
    "## **Abstraction:**"
   ]
  },
  {
   "cell_type": "markdown",
   "metadata": {},
   "source": [
    "### 1. What is abstraction in Python, and how does it relate to object-oriented programming?\n",
    "\n"
   ]
  },
  {
   "cell_type": "markdown",
   "metadata": {},
   "source": [
    "Abstraction in Python is a fundamental concept in object-oriented programming that allows you to represent complex real-world entities as simplified models in your code. It involves hiding the complex implementation details of objects and exposing only the essential characteristics and behaviors. Abstraction helps in managing complexity, making code more understandable, and promoting a focus on high-level concepts."
   ]
  },
  {
   "cell_type": "markdown",
   "metadata": {},
   "source": [
    "### 2. Describe the benefits of abstraction in terms of code organization and complexity reduction.\n",
    "\n"
   ]
  },
  {
   "cell_type": "markdown",
   "metadata": {},
   "source": [
    " The benefits of abstraction in Python include:\n",
    "\n",
    "   - Code organization: Abstraction allows you to organize your code by separating high-level concepts from implementation details. This makes your code more modular and easier to manage.\n",
    "   - Complexity reduction: Abstraction simplifies complex systems by providing a clear interface and hiding unnecessary details. This reduces cognitive load and makes code easier to understand.\n",
    "   - Reusability: Abstract classes can be used as templates for creating concrete classes with similar characteristics and behaviors. This promotes code reuse.\n",
    "   - Maintenance: Abstraction makes code maintenance easier because changes can be localized to the abstract classes and their subclasses."
   ]
  },
  {
   "cell_type": "markdown",
   "metadata": {},
   "source": [
    "### 3. Create a Python class called `Shape` with an abstract method `calculate_area()`. Then, create child classes (e.g., `Circle`, `Rectangle`) that implement the `calculate_area()` method. Provide an example of using these classes.\n",
    "\n"
   ]
  },
  {
   "cell_type": "code",
   "execution_count": 304,
   "metadata": {},
   "outputs": [
    {
     "name": "stdout",
     "output_type": "stream",
     "text": [
      "Area of the Circle: 78.54\n",
      "Area of the Rectangle: 24\n"
     ]
    }
   ],
   "source": [
    "class Shape(ABC):\n",
    "    @abstractmethod\n",
    "    def calculate_area(self):\n",
    "        pass\n",
    "\n",
    "class Circle(Shape):\n",
    "    def __init__(self, radius):\n",
    "        self.radius = radius\n",
    "\n",
    "    def calculate_area(self):\n",
    "        return 3.14159 * self.radius ** 2\n",
    "\n",
    "class Rectangle(Shape):\n",
    "    def __init__(self, length, width):\n",
    "        self.length = length\n",
    "        self.width = width\n",
    "\n",
    "    def calculate_area(self):\n",
    "        return self.length * self.width\n",
    "\n",
    "# Create instances of specific shapes\n",
    "circle = Circle(5)  # Circle with radius 5\n",
    "rectangle = Rectangle(4, 6)  # Rectangle with length 4 and width 6\n",
    "\n",
    "# Calculate and print the areas of the shapes\n",
    "print(f\"Area of the Circle: {circle.calculate_area():.2f}\")\n",
    "print(f\"Area of the Rectangle: {rectangle.calculate_area()}\")\n"
   ]
  },
  {
   "cell_type": "markdown",
   "metadata": {},
   "source": [
    "### 4. Explain the concept of abstract classes in Python and how they are defined using the `abc` module. Provide an example.\n",
    "\n"
   ]
  },
  {
   "cell_type": "markdown",
   "metadata": {},
   "source": [
    " Abstract classes in Python are classes that cannot be instantiated directly and are used as a blueprint for other classes. They are defined using the `abc` module and contain one or more abstract methods. Abstract methods are declared using the `@abstractmethod` decorator and must be implemented in concrete subclasses.\n",
    "\n",
    "```python\n",
    "from abc import ABC, abstractmethod\n",
    "\n",
    "class AbstractClass(ABC):\n",
    "    @abstractmethod\n",
    "    def abstract_method(self):\n",
    "        pass\n",
    "```"
   ]
  },
  {
   "cell_type": "markdown",
   "metadata": {},
   "source": [
    "### 5. How do abstract classes differ from regular classes in Python? Discuss their use cases.\n",
    "\n"
   ]
  },
  {
   "cell_type": "markdown",
   "metadata": {},
   "source": [
    "Abstract classes differ from regular classes in that they cannot be instantiated. They are intended to be subclassed, and they may contain abstract methods that have no implementation in the abstract class itself. Concrete classes are meant to be instantiated and provide implementations for all methods, including abstract methods."
   ]
  },
  {
   "cell_type": "markdown",
   "metadata": {},
   "source": [
    "### 6. Create a Python class for a bank account and demonstrate abstraction by hiding the account balance and providing methods to deposit and withdraw funds.\n",
    "\n"
   ]
  },
  {
   "cell_type": "code",
   "execution_count": 305,
   "metadata": {},
   "outputs": [
    {
     "name": "stdout",
     "output_type": "stream",
     "text": [
      "Account S12345: Balance after deposit: $1000\n",
      "Account S12345: Balance after withdrawal: $500\n",
      "Insufficient balance.\n"
     ]
    }
   ],
   "source": [
    "from abc import ABC, abstractmethod\n",
    "\n",
    "class BankAccount(ABC):\n",
    "    def __init__(self, account_number):\n",
    "        self.account_number = account_number\n",
    "        self._balance = 0  # Protected attribute\n",
    "\n",
    "    @abstractmethod\n",
    "    def deposit(self, amount):\n",
    "        pass\n",
    "\n",
    "    @abstractmethod\n",
    "    def withdraw(self, amount):\n",
    "        pass\n",
    "\n",
    "class SavingsAccount(BankAccount):\n",
    "    def deposit(self, amount):\n",
    "        self._balance += amount\n",
    "\n",
    "    def withdraw(self, amount):\n",
    "        if amount <= self._balance:\n",
    "            self._balance -= amount\n",
    "        else:\n",
    "            print(\"Insufficient balance.\")\n",
    "\n",
    "# Create an instance of SavingsAccount\n",
    "savings_account = SavingsAccount(\"S12345\")\n",
    "\n",
    "# Deposit money\n",
    "savings_account.deposit(1000)\n",
    "print(f\"Account {savings_account.account_number}: Balance after deposit: ${savings_account._balance}\")\n",
    "\n",
    "# Withdraw money\n",
    "withdraw_amount = 500\n",
    "savings_account.withdraw(withdraw_amount)\n",
    "print(f\"Account {savings_account.account_number}: Balance after withdrawal: ${savings_account._balance}\")\n",
    "\n",
    "# Attempt to withdraw more than the balance\n",
    "withdraw_amount = 700\n",
    "savings_account.withdraw(withdraw_amount)\n"
   ]
  },
  {
   "cell_type": "markdown",
   "metadata": {},
   "source": [
    "### 7. Discuss the concept of interface classes in Python and their role in achieving abstraction.\n",
    "\n"
   ]
  },
  {
   "cell_type": "markdown",
   "metadata": {},
   "source": [
    "Interface classes in Python are abstract classes that define a set of abstract methods but have no implementations. They serve as contracts that concrete classes must adhere to. Interface classes provide a way to achieve abstraction and ensure that specific methods are implemented in subclasses. While Python does not have a dedicated `interface` keyword, you can use abstract classes to define interfaces with abstract methods."
   ]
  },
  {
   "cell_type": "markdown",
   "metadata": {},
   "source": [
    "### 8. Create a Python class hierarchy for animals and implement abstraction by defining common methods (e.g., `eat()`, `sleep()`) in an abstract base class.\n",
    "\n"
   ]
  },
  {
   "cell_type": "code",
   "execution_count": 306,
   "metadata": {},
   "outputs": [
    {
     "name": "stdout",
     "output_type": "stream",
     "text": [
      "Buddy\n",
      "Buddy the dog is eating.\n",
      "Buddy the dog is sleeping.\n",
      "Whiskers\n",
      "Whiskers the cat is eating.\n",
      "Whiskers the cat is sleeping.\n"
     ]
    }
   ],
   "source": [
    "from abc import ABC, abstractmethod\n",
    "\n",
    "class Animal(ABC):\n",
    "    def __init__(self, name):\n",
    "        self.name = name\n",
    "\n",
    "    @abstractmethod\n",
    "    def eat(self):\n",
    "        pass\n",
    "\n",
    "    @abstractmethod\n",
    "    def sleep(self):\n",
    "        pass\n",
    "\n",
    "# Create concrete subclasses of Animal with specific implementations\n",
    "class Dog(Animal):\n",
    "    def eat(self):\n",
    "        print(f\"{self.name} the dog is eating.\")\n",
    "\n",
    "    def sleep(self):\n",
    "        print(f\"{self.name} the dog is sleeping.\")\n",
    "\n",
    "class Cat(Animal):\n",
    "    def eat(self):\n",
    "        print(f\"{self.name} the cat is eating.\")\n",
    "\n",
    "    def sleep(self):\n",
    "        print(f\"{self.name} the cat is sleeping.\")\n",
    "\n",
    "# Create instances of specific animals and demonstrate their behavior\n",
    "dog = Dog(\"Buddy\")\n",
    "cat = Cat(\"Whiskers\")\n",
    "\n",
    "animals = [dog, cat]\n",
    "\n",
    "for animal in animals:\n",
    "    print(animal.name)\n",
    "    animal.eat()\n",
    "    animal.sleep()\n"
   ]
  },
  {
   "cell_type": "markdown",
   "metadata": {},
   "source": [
    "### 9. Explain the significance of encapsulation in achieving abstraction. Provide examples.\n",
    "\n"
   ]
  },
  {
   "cell_type": "markdown",
   "metadata": {},
   "source": [
    "Encapsulation and abstraction are related concepts. Encapsulation hides the internal details of an object, and abstraction provides a simplified view of the object. By combining encapsulation and abstraction, you can create classes with well-defined interfaces and hidden implementation details."
   ]
  },
  {
   "cell_type": "markdown",
   "metadata": {},
   "source": [
    "### 10. What is the purpose of abstract methods, and how do they enforce abstraction in Python classes?\n",
    "\n"
   ]
  },
  {
   "cell_type": "markdown",
   "metadata": {},
   "source": [
    "Abstract methods enforce abstraction by requiring concrete subclasses to provide implementations for these methods. If a subclass fails to implement an abstract method, it will result in a `TypeError` when trying to instantiate the subclass. Abstract methods ensure that specific behaviors are defined in concrete subclasses while adhering to the interface defined by the abstract class."
   ]
  },
  {
   "cell_type": "markdown",
   "metadata": {},
   "source": [
    "### 11. Create a Python class for a vehicle system and demonstrate abstraction by defining common methods (e.g., `start()`, `stop()`) in an abstract base class.\n",
    "\n"
   ]
  },
  {
   "cell_type": "code",
   "execution_count": 307,
   "metadata": {},
   "outputs": [
    {
     "name": "stdout",
     "output_type": "stream",
     "text": [
      "Starting the Toyota Camry car.\n",
      "Stopping the Toyota Camry car.\n",
      "Pedaling the Schwinn Cruiser bicycle.\n",
      "Braking the Schwinn Cruiser bicycle.\n"
     ]
    }
   ],
   "source": [
    "from abc import ABC, abstractmethod\n",
    "\n",
    "class Vehicle(ABC):\n",
    "    def __init__(self, brand, model):\n",
    "        self.brand = brand\n",
    "        self.model = model\n",
    "\n",
    "    @abstractmethod\n",
    "    def start(self):\n",
    "        pass\n",
    "\n",
    "    @abstractmethod\n",
    "    def stop(self):\n",
    "        pass\n",
    "\n",
    "class Car(Vehicle):\n",
    "    def start(self):\n",
    "        return f\"Starting the {self.brand} {self.model} car.\"\n",
    "\n",
    "    def stop(self):\n",
    "        return f\"Stopping the {self.brand} {self.model} car.\"\n",
    "\n",
    "class Bicycle(Vehicle):\n",
    "    def start(self):\n",
    "        return f\"Pedaling the {self.brand} {self.model} bicycle.\"\n",
    "\n",
    "    def stop(self):\n",
    "        return f\"Braking the {self.brand} {self.model} bicycle.\"\n",
    "\n",
    "# Create instances of specific vehicles\n",
    "car = Car(\"Toyota\", \"Camry\")\n",
    "bicycle = Bicycle(\"Schwinn\", \"Cruiser\")\n",
    "\n",
    "# Start and stop the vehicles\n",
    "print(car.start())  # Starting the Toyota Camry car.\n",
    "print(car.stop())   # Stopping the Toyota Camry car.\n",
    "\n",
    "print(bicycle.start())  # Pedaling the Schwinn Cruiser bicycle.\n",
    "print(bicycle.stop())   # Braking the Schwinn Cruiser bicycle.\n"
   ]
  },
  {
   "cell_type": "markdown",
   "metadata": {},
   "source": [
    "### 12. Describe the use of abstract properties in Python and how they can be employed in abstract classes.\n",
    "\n"
   ]
  },
  {
   "cell_type": "markdown",
   "metadata": {},
   "source": [
    "Abstract properties in Python are properties without a defined implementation. They allow you to define a property in an abstract class without specifying how it should be implemented. Subclasses are required to provide their own implementation for these properties."
   ]
  },
  {
   "cell_type": "code",
   "execution_count": 308,
   "metadata": {},
   "outputs": [],
   "source": [
    "from abc import ABC, abstractmethod, abstractproperty\n",
    "\n",
    "class AbstractClass(ABC):\n",
    "    @abstractproperty\n",
    "    def property_name(self):\n",
    "        pass\n",
    "\n",
    "class ConcreteClass(AbstractClass):\n",
    "    def __init__(self):\n",
    "        self._property_name = \"Concrete Property\"\n",
    "\n",
    "    @property\n",
    "    def property_name(self):\n",
    "        return self._property_name"
   ]
  },
  {
   "cell_type": "markdown",
   "metadata": {},
   "source": [
    "### 13. Create a Python class hierarchy for employees in a company (e.g., manager, developer, designer) and implement abstraction by defining a common `get_salary()` method.\n",
    "\n"
   ]
  },
  {
   "cell_type": "code",
   "execution_count": 309,
   "metadata": {},
   "outputs": [
    {
     "name": "stdout",
     "output_type": "stream",
     "text": [
      "John's Salary: $5000\n",
      "Alice's Salary: $4000\n",
      "Bob's Salary: $4500\n"
     ]
    }
   ],
   "source": [
    "from abc import ABC, abstractmethod\n",
    "\n",
    "class Employee(ABC):\n",
    "    def __init__(self, name):\n",
    "        self.name = name\n",
    "\n",
    "    @abstractmethod\n",
    "    def get_salary(self):\n",
    "        pass\n",
    "\n",
    "class Manager(Employee):\n",
    "    def get_salary(self):\n",
    "        return 5000\n",
    "\n",
    "class Developer(Employee):\n",
    "    def get_salary(self):\n",
    "        return 4000\n",
    "\n",
    "class Designer(Employee):\n",
    "    def get_salary(self):\n",
    "        return 4500\n",
    "\n",
    "# Create instances of specific employees\n",
    "manager = Manager(\"John\")\n",
    "developer = Developer(\"Alice\")\n",
    "designer = Designer(\"Bob\")\n",
    "\n",
    "# Get and print the salaries of employees\n",
    "print(f\"{manager.name}'s Salary: ${manager.get_salary()}\")\n",
    "print(f\"{developer.name}'s Salary: ${developer.get_salary()}\")\n",
    "print(f\"{designer.name}'s Salary: ${designer.get_salary()}\")\n"
   ]
  },
  {
   "cell_type": "markdown",
   "metadata": {},
   "source": [
    "### 14. Discuss the differences between abstract classes and concrete classes in Python, including their instantiation.\n",
    "\n"
   ]
  },
  {
   "cell_type": "markdown",
   "metadata": {},
   "source": [
    "The main difference between abstract classes and concrete classes in Python is that abstract classes cannot be instantiated directly, while concrete classes can. Abstract classes serve as blueprints for concrete classes and often contain abstract methods (methods without implementations). Concrete classes provide implementations for these abstract methods and can be instantiated."
   ]
  },
  {
   "cell_type": "markdown",
   "metadata": {},
   "source": [
    "### 15. Explain the concept of abstract data types (ADTs) and their role in achieving abstraction in Python.\n",
    "\n"
   ]
  },
  {
   "cell_type": "markdown",
   "metadata": {},
   "source": [
    "Abstract Data Types (ADTs) are high-level descriptions of data structures that focus on what operations can be performed on the data and not on how those operations are implemented. In Python, ADTs can be implemented using classes with abstract methods that define the allowed operations. ADTs provide a level of abstraction by hiding the implementation details of data structures and focusing on their behaviors."
   ]
  },
  {
   "cell_type": "markdown",
   "metadata": {},
   "source": [
    "### 16. Create a Python class for a computer system, demonstrating abstraction by defining common methods (e.g., `power_on()`, `shutdown()`) in an abstract base class.\n",
    "\n"
   ]
  },
  {
   "cell_type": "code",
   "execution_count": 310,
   "metadata": {},
   "outputs": [
    {
     "name": "stdout",
     "output_type": "stream",
     "text": [
      "Laptop is booting up.\n",
      "Laptop is shutting down.\n",
      "Desktop PC is starting.\n",
      "Desktop PC is powering off.\n"
     ]
    }
   ],
   "source": [
    "from abc import ABC, abstractmethod\n",
    "\n",
    "class Computer(ABC):\n",
    "    @abstractmethod\n",
    "    def power_on(self):\n",
    "        pass\n",
    "\n",
    "    @abstractmethod\n",
    "    def shutdown(self):\n",
    "        pass\n",
    "\n",
    "class Laptop(Computer):\n",
    "    def power_on(self):\n",
    "        return \"Laptop is booting up.\"\n",
    "\n",
    "    def shutdown(self):\n",
    "        return \"Laptop is shutting down.\"\n",
    "\n",
    "class Desktop(Computer):\n",
    "    def power_on(self):\n",
    "        return \"Desktop PC is starting.\"\n",
    "\n",
    "    def shutdown(self):\n",
    "        return \"Desktop PC is powering off.\"\n",
    "\n",
    "# Create instances of specific computers\n",
    "laptop = Laptop()\n",
    "desktop = Desktop()\n",
    "\n",
    "# Power on and shutdown the computers\n",
    "print(laptop.power_on())  # Laptop is booting up.\n",
    "print(laptop.shutdown())  # Laptop is shutting down.\n",
    "\n",
    "print(desktop.power_on())  # Desktop PC is starting.\n",
    "print(desktop.shutdown())  # Desktop PC is powering off.\n"
   ]
  },
  {
   "cell_type": "markdown",
   "metadata": {},
   "source": [
    "### 17. Discuss the benefits of using abstraction in large-scale software development projects.\n",
    "\n"
   ]
  },
  {
   "cell_type": "markdown",
   "metadata": {},
   "source": [
    "Abstraction offers several benefits in large-scale software development projects:\n",
    "\n",
    "   - Code organization: Abstraction helps organize code into manageable components and promotes modularity.\n",
    "   - Complexity reduction: It simplifies complex systems by providing high-level views and hiding implementation details.\n",
    "   - Maintenance: Code maintenance becomes easier as changes can be localized to abstract classes and their concrete implementations.\n",
    "   - Reusability: Abstract classes can serve as templates for creating concrete classes, reducing redundant code.\n",
    "   - Team collaboration: Abstraction provides clear interfaces, making it easier for team members to work on different parts of a project."
   ]
  },
  {
   "cell_type": "markdown",
   "metadata": {},
   "source": [
    "### 18. Explain how abstraction enhances code reusability and modularity in Python programs.\n",
    "\n"
   ]
  },
  {
   "cell_type": "markdown",
   "metadata": {},
   "source": [
    "Abstraction enhances code reusability by providing a structured way to define common behaviors and characteristics in abstract classes. It also promotes modularity by separating high-level concepts from implementation details, which simplifies code maintenance and encourages code organization."
   ]
  },
  {
   "cell_type": "markdown",
   "metadata": {},
   "source": [
    "### 19. Create a Python class for a library system, implementing abstraction by defining common methods (e.g., `add_book()`, `borrow_book()`) in an abstract base class.\n",
    "\n"
   ]
  },
  {
   "cell_type": "code",
   "execution_count": 311,
   "metadata": {},
   "outputs": [
    {
     "name": "stdout",
     "output_type": "stream",
     "text": [
      "The Great Gatsby by F. Scott Fitzgerald is checked out.\n",
      "To Kill a Mockingbird by Harper Lee is checked out.\n",
      "The Great Gatsby by F. Scott Fitzgerald is checked in.\n",
      "To Kill a Mockingbird by Harper Lee is checked in.\n"
     ]
    }
   ],
   "source": [
    "from abc import ABC, abstractmethod\n",
    "\n",
    "class LibraryItem(ABC):\n",
    "    def __init__(self, title, author):\n",
    "        self.title = title\n",
    "        self.author = author\n",
    "        self.checked_out = False\n",
    "\n",
    "    @abstractmethod\n",
    "    def check_out(self):\n",
    "        pass\n",
    "\n",
    "    @abstractmethod\n",
    "    def check_in(self):\n",
    "        pass\n",
    "\n",
    "class Book(LibraryItem):\n",
    "    def check_out(self):\n",
    "        if not self.checked_out:\n",
    "            self.checked_out = True\n",
    "            return f\"{self.title} by {self.author} is checked out.\"\n",
    "        else:\n",
    "            return f\"{self.title} by {self.author} is already checked out.\"\n",
    "\n",
    "    def check_in(self):\n",
    "        if self.checked_out:\n",
    "            self.checked_out = False\n",
    "            return f\"{self.title} by {self.author} is checked in.\"\n",
    "        else:\n",
    "            return f\"{self.title} by {self.author} is already checked in.\"\n",
    "\n",
    "# Example usage\n",
    "book1 = Book(\"The Great Gatsby\", \"F. Scott Fitzgerald\")\n",
    "book2 = Book(\"To Kill a Mockingbird\", \"Harper Lee\")\n",
    "\n",
    "print(book1.check_out())  # Check out book1\n",
    "print(book2.check_out())  # Check out book2\n",
    "\n",
    "print(book1.check_in())   # Check in book1\n",
    "print(book2.check_in())   # Check in book2\n"
   ]
  },
  {
   "cell_type": "markdown",
   "metadata": {},
   "source": [
    "### 20. Describe the concept of method abstraction in Python and how it relates to polymorphism.\n",
    "\n",
    "\n"
   ]
  },
  {
   "cell_type": "markdown",
   "metadata": {},
   "source": [
    "Method abstraction in Python is related to polymorphism. It allows you to define methods in abstract classes without providing implementations, serving as a contract for concrete subclasses to implement. Polymorphism, on the other hand, allows objects of different classes to respond to method calls in a unified way, even if they have different implementations. Method abstraction defines the expected behaviors (method signatures), while polymorphism allows different classes to exhibit these behaviors, making it an essential concept in achieving abstraction through polymorphism."
   ]
  },
  {
   "cell_type": "markdown",
   "metadata": {},
   "source": [
    "## **Composition:**"
   ]
  },
  {
   "cell_type": "markdown",
   "metadata": {},
   "source": [
    "### 1. Explain the concept of composition in Python and how it is used to build complex objects from simpler ones.\n",
    "\n"
   ]
  },
  {
   "cell_type": "markdown",
   "metadata": {},
   "source": [
    "Composition in Python is a design concept where complex objects are created by combining simpler objects. It allows you to build more complex and modular classes or objects by combining other objects as their components. In composition, an object is composed of other objects, and it provides a way to establish relationships between different classes while maintaining encapsulation."
   ]
  },
  {
   "cell_type": "markdown",
   "metadata": {},
   "source": [
    "### 2. Describe the difference between composition and inheritance in object-oriented programming.\n",
    "\n"
   ]
  },
  {
   "cell_type": "markdown",
   "metadata": {},
   "source": [
    "Composition and inheritance are two fundamental concepts in object-oriented programming:\n",
    "\n",
    "   - Inheritance establishes an \"is-a\" relationship, where a subclass inherits properties and behaviors from a superclass. It represents an \"is a kind of\" relationship.\n",
    "   - Composition establishes a \"has-a\" relationship, where a class contains other objects as components or attributes. It represents that an object \"has\" or \"is composed of\" other objects."
   ]
  },
  {
   "cell_type": "markdown",
   "metadata": {},
   "source": [
    "### 3. Create a Python class called `Author` with attributes for name and birthdate. Then, create a `Book` class that contains an instance of `Author` as a composition. Provide an example of creating a `Book` object.\n",
    "\n"
   ]
  },
  {
   "cell_type": "code",
   "execution_count": 312,
   "metadata": {},
   "outputs": [],
   "source": [
    "class Author:\n",
    "    def __init__(self, name, birthdate):\n",
    "        self.name = name\n",
    "        self.birthdate = birthdate\n",
    "\n",
    "class Book:\n",
    "    def __init__(self, title, author):\n",
    "        self.title = title\n",
    "        self.author = author\n",
    "\n",
    "# Example of creating a Book object with an Author\n",
    "author = Author(\"J.K. Rowling\", \"July 31, 1965\")\n",
    "book = Book(\"Harry Potter and the Sorcerer's Stone\", author)"
   ]
  },
  {
   "cell_type": "markdown",
   "metadata": {},
   "source": [
    "### 4. Discuss the benefits of using composition over inheritance in Python, especially in terms of code flexibility and reusability.\n",
    "\n"
   ]
  },
  {
   "cell_type": "markdown",
   "metadata": {},
   "source": [
    "Benefits of using composition over inheritance in Python include:\n",
    "\n",
    "   - Flexibility: Composition allows you to change the behavior of an object at runtime by changing its components, making it more flexible and adaptable.\n",
    "   - Reusability: You can reuse components (e.g., `Author`) in different contexts, promoting code reuse.\n",
    "   - Encapsulation: Composition enforces encapsulation because objects are treated as black boxes with well-defined interfaces.\n",
    "   - Better organization: It encourages better code organization by separating concerns into separate components.\n",
    "   - Avoiding the diamond problem: Composition can avoid issues like the \"diamond problem\" that arise in multiple inheritance."
   ]
  },
  {
   "cell_type": "markdown",
   "metadata": {},
   "source": [
    "### 5. How can you implement composition in Python classes? Provide examples of using composition to create complex objects.\n",
    "\n"
   ]
  },
  {
   "cell_type": "markdown",
   "metadata": {},
   "source": [
    "To implement composition in Python classes, we include instances of other classes as attributes within a class. These attributes represent components that contribute to the behavior of the containing class."
   ]
  },
  {
   "cell_type": "code",
   "execution_count": 313,
   "metadata": {},
   "outputs": [
    {
     "name": "stdout",
     "output_type": "stream",
     "text": [
      "Car started with Engine started.\n"
     ]
    }
   ],
   "source": [
    "class Engine:\n",
    "    def start(self):\n",
    "        return \"Engine started.\"\n",
    "\n",
    "class Car:\n",
    "    def __init__(self):\n",
    "        self.engine = Engine()\n",
    "\n",
    "    def start(self):\n",
    "        return f\"Car started with {self.engine.start()}\"\n",
    "\n",
    "my_car = Car()\n",
    "print(my_car.start()) "
   ]
  },
  {
   "cell_type": "markdown",
   "metadata": {},
   "source": [
    "### 6. Create a Python class hierarchy for a music player system, using composition to represent playlists and songs.\n",
    "\n"
   ]
  },
  {
   "cell_type": "code",
   "execution_count": 314,
   "metadata": {},
   "outputs": [
    {
     "name": "stdout",
     "output_type": "stream",
     "text": [
      "Playlist Name: My Playlist\n",
      "Songs in the playlist:\n",
      "Title: Song 1, Artist: Artist 1\n",
      "Title: Song 2, Artist: Artist 2\n",
      "Title: Song 3, Artist: Artist 3\n"
     ]
    }
   ],
   "source": [
    "class Song:\n",
    "    def __init__(self, title, artist):\n",
    "        self.title = title\n",
    "        self.artist = artist\n",
    "\n",
    "class Playlist:\n",
    "    def __init__(self, name):\n",
    "        self.name = name\n",
    "        self.songs = []\n",
    "\n",
    "    def add_song(self, song):\n",
    "        self.songs.append(song)\n",
    "    \n",
    "# Create songs\n",
    "song1 = Song(\"Song 1\", \"Artist 1\")\n",
    "song2 = Song(\"Song 2\", \"Artist 2\")\n",
    "song3 = Song(\"Song 3\", \"Artist 3\")\n",
    "\n",
    "# Create a playlist\n",
    "my_playlist = Playlist(\"My Playlist\")\n",
    "\n",
    "# Add songs to the playlist\n",
    "my_playlist.add_song(song1)\n",
    "my_playlist.add_song(song2)\n",
    "my_playlist.add_song(song3)\n",
    "\n",
    "# Print the playlist name and songs\n",
    "print(f\"Playlist Name: {my_playlist.name}\")\n",
    "print(\"Songs in the playlist:\")\n",
    "for song in my_playlist.songs:\n",
    "    print(f\"Title: {song.title}, Artist: {song.artist}\")\n"
   ]
  },
  {
   "cell_type": "markdown",
   "metadata": {},
   "source": [
    "### 7. Explain the concept of \"has-a\" relationships in composition and how it helps design software systems.\n",
    "\n"
   ]
  },
  {
   "cell_type": "markdown",
   "metadata": {},
   "source": [
    "\"Has-a\" relationships in composition indicate that an object contains other objects as its components. For example, a car \"has\" an engine, or a music player \"has\" songs. This relationship helps design software systems by allowing you to model complex objects as compositions of simpler, reusable components, promoting modular and maintainable code.\n"
   ]
  },
  {
   "cell_type": "markdown",
   "metadata": {},
   "source": [
    "### 8. Create a Python class for a computer system, using composition to represent components like CPU, RAM, and storage devices.\n",
    "\n"
   ]
  },
  {
   "cell_type": "code",
   "execution_count": 315,
   "metadata": {},
   "outputs": [
    {
     "name": "stdout",
     "output_type": "stream",
     "text": [
      "Executing CPU instructions. Loading data into RAM.\n"
     ]
    }
   ],
   "source": [
    "class CPU:\n",
    "    def execute(self):\n",
    "        return \"Executing CPU instructions.\"\n",
    "\n",
    "class RAM:\n",
    "    def load(self):\n",
    "        return \"Loading data into RAM.\"\n",
    "\n",
    "class Computer:\n",
    "    def __init__(self):\n",
    "        self.cpu = CPU()\n",
    "        self.ram = RAM()\n",
    "\n",
    "    def start(self):\n",
    "        return f\"{self.cpu.execute()} {self.ram.load()}\"\n",
    "\n",
    "my_computer = Computer()\n",
    "print(my_computer.start())"
   ]
  },
  {
   "cell_type": "markdown",
   "metadata": {},
   "source": [
    "### 9. Describe the concept of \"delegation\" in composition and how it simplifies the design of complex systems\n",
    "\n"
   ]
  },
  {
   "cell_type": "markdown",
   "metadata": {},
   "source": [
    "\"Delegation\" in composition means that an object can delegate certain responsibilities or tasks to its components. This simplifies the design of complex systems by distributing tasks to specialized components, leading to more maintainable and modular code. Delegation allows objects to focus on their core functionality while relying on other objects for specific tasks."
   ]
  },
  {
   "cell_type": "markdown",
   "metadata": {},
   "source": [
    "### 10. Create a Python class for a car, using composition to represent components like the engine, wheels, and transmission.\n",
    "\n"
   ]
  },
  {
   "cell_type": "code",
   "execution_count": 316,
   "metadata": {},
   "outputs": [
    {
     "name": "stdout",
     "output_type": "stream",
     "text": [
      "Engine started. Shifted to Drive gear. Wheels rotating.\n"
     ]
    }
   ],
   "source": [
    "class Engine:\n",
    "    def start(self):\n",
    "        return \"Engine started.\"\n",
    "\n",
    "class Wheels:\n",
    "    def rotate(self):\n",
    "        return \"Wheels rotating.\"\n",
    "\n",
    "class Transmission:\n",
    "    def shift_gear(self, gear):\n",
    "        return f\"Shifted to {gear} gear.\"\n",
    "\n",
    "class Car:\n",
    "    def __init__(self):\n",
    "        self.engine = Engine()\n",
    "        self.wheels = Wheels()\n",
    "        self.transmission = Transmission()\n",
    "\n",
    "    def drive(self):\n",
    "        return f\"{self.engine.start()} {self.transmission.shift_gear('Drive')} {self.wheels.rotate()}\"\n",
    "\n",
    "my_car = Car()\n",
    "print(my_car.drive())"
   ]
  },
  {
   "cell_type": "markdown",
   "metadata": {},
   "source": [
    "### 11. How can you encapsulate and hide the details of composed objects in Python classes to maintain abstraction?\n",
    "\n"
   ]
  },
  {
   "cell_type": "code",
   "execution_count": 317,
   "metadata": {},
   "outputs": [
    {
     "name": "stdout",
     "output_type": "stream",
     "text": [
      "Engine started. Shifted to Drive gear. Wheels rotating.\n"
     ]
    }
   ],
   "source": [
    "class Car:\n",
    "    def __init__(self):\n",
    "        self.__engine = Engine()\n",
    "        self.__wheels = Wheels()\n",
    "        self.__transmission = Transmission()\n",
    "\n",
    "    def drive(self):\n",
    "        return f\"{self.__engine.start()} {self.__transmission.shift_gear('Drive')} {self.__wheels.rotate()}\"\n",
    "\n",
    "my_car = Car()\n",
    "print(my_car.drive()) "
   ]
  },
  {
   "cell_type": "markdown",
   "metadata": {},
   "source": [
    "### 12. Create a Python class for a university course, using composition to represent students, instructors, and course materials.\n",
    "\n"
   ]
  },
  {
   "cell_type": "code",
   "execution_count": 318,
   "metadata": {},
   "outputs": [],
   "source": [
    "class Student:\n",
    "    def __init__(self, name, student_id):\n",
    "        self.name = name\n",
    "        self.student_id = student_id\n",
    "\n",
    "class Instructor:\n",
    "    def __init__(self, name, employee_id):\n",
    "        self.name = name\n",
    "        self.employee_id = employee_id\n",
    "\n",
    "class Course:\n",
    "    def __init__(self, title, instructor, students, materials):\n",
    "        self.title = title\n",
    "        self.instructor = instructor\n",
    "        self.students = students\n",
    "        self.materials = materials\n",
    "\n",
    "# Example of creating a course\n",
    "instructor = Instructor(\"Dr. Smith\", \"1234\")\n",
    "students = [Student(\"Alice\", \"S001\"), Student(\"Bob\", \"S002\")]\n",
    "materials = [\"Syllabus\", \"Textbook\"]\n",
    "course = Course(\"Python Programming\", instructor, students, materials)"
   ]
  },
  {
   "cell_type": "markdown",
   "metadata": {},
   "source": [
    "### 13. Discuss the challenges and drawbacks of composition, such as increased complexity and potential for tight coupling between objects.\n",
    "\n"
   ]
  },
  {
   "cell_type": "markdown",
   "metadata": {},
   "source": [
    "Challenges and drawbacks of composition include:\n",
    "\n",
    "   - Increased complexity: As you compose more objects, the complexity of the system can grow, making it harder to manage.\n",
    "   - Tight coupling: Care must be taken to prevent tight coupling between objects, which can lead to dependencies and maintenance challenges.\n",
    "   - Potential for inefficiency: Composition can introduce overhead, as more objects need to be managed and coordinated."
   ]
  },
  {
   "cell_type": "markdown",
   "metadata": {},
   "source": [
    "### 14. Create a Python class hierarchy for a restaurant system, using composition to represent menus, dishes, and ingredients.\n",
    "\n"
   ]
  },
  {
   "cell_type": "code",
   "execution_count": 319,
   "metadata": {},
   "outputs": [],
   "source": [
    "class Ingredient:\n",
    "    def __init__(self, name, quantity):\n",
    "        self.name = name\n",
    "        self.quantity = quantity\n",
    "\n",
    "class Dish:\n",
    "    def __init__(self, name, ingredients):\n",
    "        self.name = name\n",
    "        self.ingredients = ingredients\n",
    "\n",
    "class Menu:\n",
    "    def __init__(self, name, dishes):\n",
    "        self.name = name\n",
    "        self.dishes = dishes\n",
    "\n",
    "# Example of creating a restaurant menu\n",
    "ingredients = [Ingredient(\"Tomato\", 3), Ingredient(\"Cheese\", 2)]\n",
    "dish1 = Dish(\"Margherita Pizza\", ingredients)\n",
    "dish2 = Dish(\"Spaghetti Carbonara\", [Ingredient(\"Pasta\", 1), Ingredient(\"Bacon\", 2)])\n",
    "menu = Menu(\"Italian Menu\", [dish1, dish2])"
   ]
  },
  {
   "cell_type": "markdown",
   "metadata": {},
   "source": [
    "### 15. Explain how composition enhances code maintainability and modularity in Python programs.\n",
    "\n"
   ]
  },
  {
   "cell_type": "markdown",
   "metadata": {},
   "source": [
    "Composition enhances code maintainability and modularity in Python programs by promoting:\n",
    "\n",
    "   - Reusability: Components can be reused in various contexts.\n",
    "   - Encapsulation: Objects are treated as black boxes with well-defined interfaces.\n",
    "   - Flexibility: You can change an object's behavior by changing its components.\n",
    "   - Organization: Separating concerns into components improves code organization."
   ]
  },
  {
   "cell_type": "markdown",
   "metadata": {},
   "source": [
    "### 16. Create a Python class for a computer game character, using composition to represent attributes like weapons, armor, and inventory.\n",
    "\n"
   ]
  },
  {
   "cell_type": "code",
   "execution_count": 321,
   "metadata": {},
   "outputs": [
    {
     "name": "stdout",
     "output_type": "stream",
     "text": [
      "Character: Hero\n",
      "Equipped Weapon: Sword (Damage: 10)\n",
      "Equipped Armor: Shield (Defense: 5)\n",
      "Inventory Items:\n",
      "Item: Sword\n",
      "Item: Shield\n"
     ]
    }
   ],
   "source": [
    "class Weapon:\n",
    "    def __init__(self, name, damage):\n",
    "        self.name = name\n",
    "        self.damage = damage\n",
    "\n",
    "class Armor:\n",
    "    def __init__(self, name, defense):\n",
    "        self.name = name\n",
    "        self.defense = defense\n",
    "\n",
    "class Inventory:\n",
    "    def __init__(self, items):\n",
    "        self.items = items\n",
    "\n",
    "class Character:\n",
    "    def __init__(self, name, weapon, armor, inventory):\n",
    "        self.name = name\n",
    "        self.weapon = weapon\n",
    "        self.armor = armor\n",
    "        self.inventory = inventory\n",
    "\n",
    "# Create some weapons and armor\n",
    "sword = Weapon(\"Sword\", 10)\n",
    "shield = Armor(\"Shield\", 5)\n",
    "\n",
    "# Create an inventory with items\n",
    "inventory_items = [sword, shield]\n",
    "inventory = Inventory(inventory_items)\n",
    "\n",
    "# Create a character with a name, weapon, armor, and inventory\n",
    "character = Character(\"Hero\", sword, shield, inventory)\n",
    "\n",
    "# Print character information\n",
    "print(f\"Character: {character.name}\")\n",
    "print(f\"Equipped Weapon: {character.weapon.name} (Damage: {character.weapon.damage})\")\n",
    "print(f\"Equipped Armor: {character.armor.name} (Defense: {character.armor.defense})\")\n",
    "print(\"Inventory Items:\")\n",
    "for item in character.inventory.items:\n",
    "    print(f\"Item: {item.name}\")\n"
   ]
  },
  {
   "cell_type": "markdown",
   "metadata": {},
   "source": [
    "### 17. Describe the concept of \"aggregation\" in composition and how it differs from simple composition.\n",
    "\n"
   ]
  },
  {
   "cell_type": "markdown",
   "metadata": {},
   "source": [
    "\"Aggregation\" in composition is a more relaxed form of composition, where objects can exist independently and have a \"whole-part\" relationship. In simple composition, the parts are tightly associated with the whole object and may not exist independently."
   ]
  },
  {
   "cell_type": "markdown",
   "metadata": {},
   "source": [
    "### 18. Create a Python class for a house, using composition to represent rooms, furniture, and appliances.\n",
    "\n"
   ]
  },
  {
   "cell_type": "code",
   "execution_count": 322,
   "metadata": {},
   "outputs": [
    {
     "name": "stdout",
     "output_type": "stream",
     "text": [
      "House Rooms:\n",
      "Room: Living Room, Area: 200 sq. ft\n",
      "Room: Kitchen, Area: 150 sq. ft\n",
      "Room: Bedroom, Area: 100 sq. ft\n",
      "\n",
      "House Furniture:\n",
      "Furniture: Sofa\n",
      "Furniture: Dining Table\n",
      "Furniture: Bed\n",
      "\n",
      "House Appliances:\n",
      "Appliance: Refrigerator\n",
      "Appliance: Oven\n",
      "Appliance: Washing Machine\n"
     ]
    }
   ],
   "source": [
    "class Room:\n",
    "    def __init__(self, name, area):\n",
    "        self.name = name\n",
    "        self.area = area\n",
    "\n",
    "class Furniture:\n",
    "    def __init__(self, name):\n",
    "        self.name = name\n",
    "\n",
    "class Appliance:\n",
    "    def __init__(self, name):\n",
    "        self.name = name\n",
    "\n",
    "class House:\n",
    "    def __init__(self, rooms, furniture, appliances):\n",
    "        self.rooms = rooms\n",
    "        self.furniture = furniture\n",
    "        self.appliances = appliances\n",
    "\n",
    "\n",
    "# Create rooms\n",
    "living_room = Room(\"Living Room\", 200)\n",
    "kitchen = Room(\"Kitchen\", 150)\n",
    "bedroom = Room(\"Bedroom\", 100)\n",
    "\n",
    "# Create furniture\n",
    "sofa = Furniture(\"Sofa\")\n",
    "dining_table = Furniture(\"Dining Table\")\n",
    "bed = Furniture(\"Bed\")\n",
    "\n",
    "# Create appliances\n",
    "refrigerator = Appliance(\"Refrigerator\")\n",
    "oven = Appliance(\"Oven\")\n",
    "washing_machine = Appliance(\"Washing Machine\")\n",
    "\n",
    "# Create a house with rooms, furniture, and appliances\n",
    "rooms = [living_room, kitchen, bedroom]\n",
    "furniture = [sofa, dining_table, bed]\n",
    "appliances = [refrigerator, oven, washing_machine]\n",
    "\n",
    "my_house = House(rooms, furniture, appliances)\n",
    "\n",
    "# Print house information\n",
    "print(\"House Rooms:\")\n",
    "for room in my_house.rooms:\n",
    "    print(f\"Room: {room.name}, Area: {room.area} sq. ft\")\n",
    "\n",
    "print(\"\\nHouse Furniture:\")\n",
    "for piece in my_house.furniture:\n",
    "    print(f\"Furniture: {piece.name}\")\n",
    "\n",
    "print(\"\\nHouse Appliances:\")\n",
    "for appliance in my_house.appliances:\n",
    "    print(f\"Appliance: {appliance.name}\")\n"
   ]
  },
  {
   "cell_type": "markdown",
   "metadata": {},
   "source": [
    "### 19. How can you achieve flexibility in composed objects by allowing them to be replaced or modified dynamically at runtime?\n",
    "\n"
   ]
  },
  {
   "cell_type": "markdown",
   "metadata": {},
   "source": [
    "Flexibility in composed objects can be achieved by allowing components to be replaced or modified dynamically at runtime. This can be done by providing methods to add, remove, or modify components. For example, you can provide methods to swap weapons or add new furniture to a character or house."
   ]
  },
  {
   "cell_type": "markdown",
   "metadata": {},
   "source": [
    "### 20. Create a Python class for a social media application, using composition to represent users, posts, and comments."
   ]
  },
  {
   "cell_type": "code",
   "execution_count": 325,
   "metadata": {},
   "outputs": [
    {
     "name": "stdout",
     "output_type": "stream",
     "text": [
      "Alice's Posts:\n",
      "Post Content: My amazing vacation\n",
      "Comments:\n",
      "- Comment by Bob: Great post!\n",
      "- Comment by Alice: Thanks, Bob!\n",
      "\n"
     ]
    }
   ],
   "source": [
    "class User:\n",
    "    def __init__(self, username):\n",
    "        self.username = username\n",
    "        self.posts = []\n",
    "\n",
    "class Post:\n",
    "    def __init__(self, content, comments):\n",
    "        self.content = content\n",
    "        self.comments = comments\n",
    "\n",
    "class Comment:\n",
    "    def __init__(self, text, user):\n",
    "        self.text = text\n",
    "        self.user = user\n",
    "\n",
    "# Example of creating a social media post\n",
    "user1 = User(\"Alice\")\n",
    "user2 = User(\"Bob\")\n",
    "comment1 = Comment(\"Great post!\", user2)\n",
    "comment2 = Comment(\"Thanks, Bob!\", user1)\n",
    "post = Post(\"My amazing vacation\", [comment1, comment2])\n",
    "user1.posts.append(post)\n",
    "\n",
    "# Output information about User1's posts and comments\n",
    "print(f\"{user1.username}'s Posts:\")\n",
    "for post in user1.posts:\n",
    "    print(f\"Post Content: {post.content}\")\n",
    "    print(\"Comments:\")\n",
    "    for comment in post.comments:\n",
    "        print(f\"- Comment by {comment.user.username}: {comment.text}\")\n",
    "    print()\n"
   ]
  }
 ],
 "metadata": {
  "kernelspec": {
   "display_name": "Python 3",
   "language": "python",
   "name": "python3"
  },
  "language_info": {
   "codemirror_mode": {
    "name": "ipython",
    "version": 3
   },
   "file_extension": ".py",
   "mimetype": "text/x-python",
   "name": "python",
   "nbconvert_exporter": "python",
   "pygments_lexer": "ipython3",
   "version": "3.11.3"
  }
 },
 "nbformat": 4,
 "nbformat_minor": 2
}
