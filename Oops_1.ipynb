{
 "cells": [
  {
   "cell_type": "markdown",
   "id": "77f5e5b7-59fe-4366-9348-8ff2c8e96427",
   "metadata": {},
   "source": [
    "## Problem 1: Bank Account Create a class representing a bank account with attributes like account number, account holder name, and balance. Implement methods to deposit and withdraw money from the account."
   ]
  },
  {
   "cell_type": "code",
   "execution_count": 1,
   "id": "4ebe8836-9156-4dd7-b27f-ad108512df9b",
   "metadata": {},
   "outputs": [
    {
     "name": "stdout",
     "output_type": "stream",
     "text": [
      "Deposited 500. New balance is 1500.\n",
      "Withdrew 200. New balance is 1300.\n"
     ]
    }
   ],
   "source": [
    "## defining the class name\n",
    "class BankAccount:\n",
    "    ## initialisation\n",
    "    def __init__(self, account_number, account_holder_name, balance=0):\n",
    "        self.account_number = account_number\n",
    "        self.account_holder_name = account_holder_name\n",
    "        self.balance = balance\n",
    "        \n",
    "    ## function for deposit balance\n",
    "    def deposit(self, amount):\n",
    "        if amount > 0:\n",
    "            self.balance += amount\n",
    "            print(f\"Deposited {amount}. New balance is {self.balance}.\")\n",
    "        else:\n",
    "            print(\"Deposit amount must be positive.\")\n",
    "            \n",
    "    ## function for withdrawing amount\n",
    "    def withdraw(self, amount):\n",
    "        if amount > 0 and amount <= self.balance:\n",
    "            self.balance -= amount\n",
    "            print(f\"Withdrew {amount}. New balance is {self.balance}.\")\n",
    "        else:\n",
    "            print(\"Invalid withdraw amount.\")\n",
    "\n",
    "# Example Usage\n",
    "account = BankAccount(\"123456\", \"John Doe\", 1000)\n",
    "account.deposit(500)\n",
    "account.withdraw(200)\n"
   ]
  },
  {
   "cell_type": "markdown",
   "id": "42099ea7-9df2-47e8-bc92-73078f4d9cd8",
   "metadata": {},
   "source": [
    "## Problem 2: Employee Management Create a class representing an employee with attributes like employee ID, name, and salary. Implement methods to calculate the yearly bonus and display employee details."
   ]
  },
  {
   "cell_type": "code",
   "execution_count": 2,
   "id": "6d71262a-5068-4e33-a749-d05029870d89",
   "metadata": {},
   "outputs": [
    {
     "name": "stdout",
     "output_type": "stream",
     "text": [
      "Employee ID: 1\n",
      "Name: Alice\n",
      "Salary: 50000\n",
      "Yearly Bonus: 5000.0\n"
     ]
    }
   ],
   "source": [
    "## defining the class name\n",
    "class Employee:\n",
    "    ## initialisation\n",
    "    def __init__(self, employee_id, name, salary):\n",
    "        self.employee_id = employee_id\n",
    "        self.name = name\n",
    "        self.salary = salary\n",
    "\n",
    "    ## function for calculating the yealy bonus\n",
    "    def calculate_yearly_bonus(self, bonus_percentage):\n",
    "        return self.salary * bonus_percentage / 100\n",
    "\n",
    "    ## function for displaying the employee detail\n",
    "    def display_employee_details(self):\n",
    "        print(f\"Employee ID: {self.employee_id}\")\n",
    "        print(f\"Name: {self.name}\")\n",
    "        print(f\"Salary: {self.salary}\")\n",
    "\n",
    "# Example Usage\n",
    "employee = Employee(1, \"Alice\", 50000)\n",
    "employee.display_employee_details()\n",
    "print(f\"Yearly Bonus: {employee.calculate_yearly_bonus(10)}\")\n"
   ]
  },
  {
   "cell_type": "markdown",
   "id": "d4d80567-0db6-4c79-a8d1-4a38d13a56a6",
   "metadata": {},
   "source": [
    "## Problem 3: Vehicle Rental Create a class representing a vehicle rental system. Implement methods to rent a vehicle, return a vehicle, and display available vehicles."
   ]
  },
  {
   "cell_type": "code",
   "execution_count": 3,
   "id": "4c06244d-ad6b-4380-a154-1918c110ee01",
   "metadata": {},
   "outputs": [
    {
     "name": "stdout",
     "output_type": "stream",
     "text": [
      "Available Vehicles:\n",
      "Car1\n",
      "Car2\n",
      "Vehicle Car1 rented out.\n",
      "Available Vehicles:\n",
      "Car2\n",
      "Vehicle Car1 returned.\n",
      "Available Vehicles:\n",
      "Car2\n",
      "Car1\n"
     ]
    }
   ],
   "source": [
    "## defining the class name\n",
    "class VehicleRental:\n",
    "    ##Initialisation\n",
    "    def __init__(self):\n",
    "        self.available_vehicles = []\n",
    "\n",
    "    ## function for add vehicle\n",
    "    def add_vehicle(self, vehicle):\n",
    "        self.available_vehicles.append(vehicle)\n",
    "\n",
    "    ## function for vehicle rent\n",
    "    def rent_vehicle(self, vehicle):\n",
    "        if vehicle in self.available_vehicles:\n",
    "            self.available_vehicles.remove(vehicle)\n",
    "            print(f\"Vehicle {vehicle} rented out.\")\n",
    "        else:\n",
    "            print(\"Vehicle not available.\")\n",
    "\n",
    "    ## function for returning the vehicle\n",
    "    def return_vehicle(self, vehicle):\n",
    "        self.available_vehicles.append(vehicle)\n",
    "        print(f\"Vehicle {vehicle} returned.\")\n",
    "\n",
    "    ## functon for displaying the available vehicle\n",
    "    def display_available_vehicles(self):\n",
    "        print(\"Available Vehicles:\")\n",
    "        for vehicle in self.available_vehicles:\n",
    "            print(vehicle)\n",
    "\n",
    "# Example Usage\n",
    "rental_system = VehicleRental()\n",
    "rental_system.add_vehicle(\"Car1\")\n",
    "rental_system.add_vehicle(\"Car2\")\n",
    "rental_system.display_available_vehicles()\n",
    "rental_system.rent_vehicle(\"Car1\")\n",
    "rental_system.display_available_vehicles()\n",
    "rental_system.return_vehicle(\"Car1\")\n",
    "rental_system.display_available_vehicles()\n"
   ]
  },
  {
   "cell_type": "markdown",
   "id": "c2a52969-552f-4508-b4fd-4df6f6dd584c",
   "metadata": {},
   "source": [
    "## Problem 4: Library Catalog Create classes representing a library and a book. Implement methods to add books to the library, borrow books, and display available books."
   ]
  },
  {
   "cell_type": "code",
   "execution_count": 4,
   "id": "2d5ba6a7-9087-4430-b7e4-5f4a93b05439",
   "metadata": {},
   "outputs": [
    {
     "name": "stdout",
     "output_type": "stream",
     "text": [
      "Available Books:\n",
      "Book1 by Author1\n",
      "Book2 by Author2\n",
      "Book Book1 borrowed.\n",
      "Available Books:\n",
      "Book2 by Author2\n"
     ]
    }
   ],
   "source": [
    "## definign the class name\n",
    "class Book:\n",
    "    ## initialisation\n",
    "    def __init__(self, title, author):\n",
    "        self.title = title\n",
    "        self.author = author\n",
    "        self.is_borrowed = False\n",
    "        \n",
    "## class Library\n",
    "class Library:\n",
    "    ## initialisation\n",
    "    def __init__(self):\n",
    "        self.books = []\n",
    "\n",
    "    ## function for adding the book\n",
    "    def add_book(self, book):\n",
    "        self.books.append(book)\n",
    "\n",
    "    ##function for borrowing book\n",
    "    def borrow_book(self, book_title):\n",
    "        for book in self.books:\n",
    "            if book.title == book_title and not book.is_borrowed:\n",
    "                book.is_borrowed = True\n",
    "                print(f\"Book {book_title} borrowed.\")\n",
    "                return\n",
    "        print(f\"Book {book_title} not available.\")\n",
    "\n",
    "    ## function for displaying available book\n",
    "    def display_available_books(self):\n",
    "        print(\"Available Books:\")\n",
    "        for book in self.books:\n",
    "            if not book.is_borrowed:\n",
    "                print(f\"{book.title} by {book.author}\")\n",
    "\n",
    "# Example Usage\n",
    "library = Library()\n",
    "library.add_book(Book(\"Book1\", \"Author1\"))\n",
    "library.add_book(Book(\"Book2\", \"Author2\"))\n",
    "library.display_available_books()\n",
    "library.borrow_book(\"Book1\")\n",
    "library.display_available_books()\n"
   ]
  },
  {
   "cell_type": "markdown",
   "id": "7095b7b2-6ee5-4bca-878c-980503daebe7",
   "metadata": {},
   "source": [
    "## Problem 5: Product Inventory Create classes representing a product and an inventory system. Implement methods to add products to the inventory, update product quantity, and display available products."
   ]
  },
  {
   "cell_type": "code",
   "execution_count": 5,
   "id": "eae06d94-4881-4592-bc71-971f2892deec",
   "metadata": {},
   "outputs": [
    {
     "name": "stdout",
     "output_type": "stream",
     "text": [
      "Available Products:\n",
      "Product1: 10\n",
      "Product2: 20\n",
      "Updated Product1 quantity to 15.\n",
      "Available Products:\n",
      "Product1: 15\n",
      "Product2: 20\n"
     ]
    }
   ],
   "source": [
    "## defining the class product\n",
    "class Product:\n",
    "    ## initialisation\n",
    "    def __init__(self, product_id, name, quantity):\n",
    "        self.product_id = product_id\n",
    "        self.name = name\n",
    "        self.quantity = quantity\n",
    "\n",
    "## defining the class inventory\n",
    "class Inventory:\n",
    "    def __init__(self):\n",
    "        self.products = []\n",
    "    \n",
    "    ## function for adding product\n",
    "    def add_product(self, product):\n",
    "        self.products.append(product)\n",
    "\n",
    "    ##function for update product\n",
    "    def update_product_quantity(self, product_id, quantity):\n",
    "        for product in self.products:\n",
    "            if product.product_id == product_id:\n",
    "                product.quantity += quantity\n",
    "                print(f\"Updated {product.name} quantity to {product.quantity}.\")\n",
    "                return\n",
    "        print(\"Product not found.\")\n",
    "\n",
    "    ## function for display available product\n",
    "    def display_available_products(self):\n",
    "        print(\"Available Products:\")\n",
    "        for product in self.products:\n",
    "            print(f\"{product.name}: {product.quantity}\")\n",
    "\n",
    "# Example Usage\n",
    "inventory = Inventory()\n",
    "inventory.add_product(Product(1, \"Product1\", 10))\n",
    "inventory.add_product(Product(2, \"Product2\", 20))\n",
    "inventory.display_available_products()\n",
    "inventory.update_product_quantity(1, 5)\n",
    "inventory.display_available_products()\n"
   ]
  },
  {
   "cell_type": "markdown",
   "id": "f27bfacc-b494-4b90-b827-98406bbc184c",
   "metadata": {},
   "source": [
    "## Problem 6: Shape Calculation Create a class representing a shape with attributes like length, width, and height. Implement methods to calculate the area and perimeter of the shape."
   ]
  },
  {
   "cell_type": "code",
   "execution_count": 6,
   "id": "1e86f94e-ad42-440d-9cf3-8ce78a358ee4",
   "metadata": {},
   "outputs": [
    {
     "name": "stdout",
     "output_type": "stream",
     "text": [
      "Rectangle Area: 50\n",
      "Cuboid Surface Area: 550\n",
      "Rectangle Perimeter: 30\n",
      "Cuboid Perimeter: 120\n"
     ]
    }
   ],
   "source": [
    "## defining the class\n",
    "class Shape:\n",
    "    ## initialisation\n",
    "    def __init__(self, length, width, height=None):\n",
    "        self.length = length\n",
    "        self.width = width\n",
    "        self.height = height\n",
    "\n",
    "    ## function for calculating area\n",
    "    def calculate_area(self):\n",
    "        if self.height is None:\n",
    "            return self.length * self.width  # Rectangle area\n",
    "        else:\n",
    "            return 2 * (self.length * self.width + self.length * self.height + self.width * self.height)  # Surface area of cuboid\n",
    "\n",
    "    ## function for calculating perimeter\n",
    "    def calculate_perimeter(self):\n",
    "        if self.height is None:\n",
    "            return 2 * (self.length + self.width)  # Rectangle perimeter\n",
    "        else:\n",
    "            return 4 * (self.length + self.width + self.height)  # Sum of all edges of cuboid\n",
    "\n",
    "# Example Usage\n",
    "rectangle = Shape(5, 10)\n",
    "cuboid = Shape(5, 10, 15)\n",
    "print(f\"Rectangle Area: {rectangle.calculate_area()}\")\n",
    "print(f\"Cuboid Surface Area: {cuboid.calculate_area()}\")\n",
    "print(f\"Rectangle Perimeter: {rectangle.calculate_perimeter()}\")\n",
    "print(f\"Cuboid Perimeter: {cuboid.calculate_perimeter()}\")\n"
   ]
  },
  {
   "cell_type": "markdown",
   "id": "c4974927-a4df-4317-9286-c3394621f2de",
   "metadata": {},
   "source": [
    "## Problem 7: Student Management Create a class representing a student with attributes like student ID, name, and grades. Implement methods to calculate the average grade and display student details."
   ]
  },
  {
   "cell_type": "code",
   "execution_count": 7,
   "id": "bcb35339-b390-4079-8f29-a584b5fb3d50",
   "metadata": {},
   "outputs": [
    {
     "name": "stdout",
     "output_type": "stream",
     "text": [
      "Student ID: 1\n",
      "Name: Bob\n",
      "Grades: [90, 80, 85]\n",
      "Average Grade: 85.0\n"
     ]
    }
   ],
   "source": [
    "## definign the class student\n",
    "class Student:\n",
    "    def __init__(self, student_id, name):\n",
    "        self.student_id = student_id\n",
    "        self.name = name\n",
    "        self.grades = []\n",
    "\n",
    "    ## function for adding grade\n",
    "    def add_grade(self, grade):\n",
    "        self.grades.append(grade)\n",
    "    \n",
    "    ## function for calculating average grade\n",
    "    def calculate_average_grade(self):\n",
    "        if self.grades:\n",
    "            return sum(self.grades) / len(self.grades)\n",
    "        return 0\n",
    "\n",
    "    ## function for displaying student details\n",
    "    def display_student_details(self):\n",
    "        print(f\"Student ID: {self.student_id}\")\n",
    "        print(f\"Name: {self.name}\")\n",
    "        print(f\"Grades: {self.grades}\")\n",
    "        print(f\"Average Grade: {self.calculate_average_grade()}\")\n",
    "\n",
    "# Example Usage\n",
    "student = Student(1, \"Bob\")\n",
    "student.add_grade(90)\n",
    "student.add_grade(80)\n",
    "student.add_grade(85)\n",
    "student.display_student_details()\n"
   ]
  },
  {
   "cell_type": "markdown",
   "id": "9a701e91-2d50-4b0a-8feb-af211f9ed76c",
   "metadata": {},
   "source": [
    "## Problem 8: Email Management Create a class representing an email with attributes like sender, recipient, and subject. Implement methods to send an email and display email details."
   ]
  },
  {
   "cell_type": "code",
   "execution_count": 8,
   "id": "74f45821-4379-45d3-a68e-76db3d458ab7",
   "metadata": {},
   "outputs": [
    {
     "name": "stdout",
     "output_type": "stream",
     "text": [
      "Sender: alice@example.com\n",
      "Recipient: bob@example.com\n",
      "Subject: Meeting\n",
      "Content: Let's meet at 10 AM tomorrow.\n",
      "Sending email from alice@example.com to bob@example.com\n",
      "Subject: Meeting\n",
      "Content: Let's meet at 10 AM tomorrow.\n"
     ]
    }
   ],
   "source": [
    "## defining the class email\n",
    "class Email:\n",
    "    def __init__(self, sender, recipient, subject, content):\n",
    "        self.sender = sender\n",
    "        self.recipient = recipient\n",
    "        self.subject = subject\n",
    "        self.content = content\n",
    "\n",
    "    ## function for sending the email\n",
    "    def send_email(self):\n",
    "        print(f\"Sending email from {self.sender} to {self.recipient}\")\n",
    "        print(f\"Subject: {self.subject}\")\n",
    "        print(f\"Content: {self.content}\")\n",
    "    \n",
    "    ## function for displaying the email details\n",
    "    def display_email_details(self):\n",
    "        print(f\"Sender: {self.sender}\")\n",
    "        print(f\"Recipient: {self.recipient}\")\n",
    "        print(f\"Subject: {self.subject}\")\n",
    "        print(f\"Content: {self.content}\")\n",
    "\n",
    "# Example Usage\n",
    "email = Email(\"alice@example.com\", \"bob@example.com\", \"Meeting\", \"Let's meet at 10 AM tomorrow.\")\n",
    "email.display_email_details()\n",
    "email.send_email()\n"
   ]
  },
  {
   "cell_type": "markdown",
   "id": "410d5509-a439-4ad7-bcd4-74f6a5050da2",
   "metadata": {},
   "source": [
    "## Problem 9: Social Media Profile Create a class representing a social media profile with attributes like username and posts. Implement methods to add posts, display posts, and search for posts by keyword."
   ]
  },
  {
   "cell_type": "code",
   "execution_count": 9,
   "id": "8a4aecd7-0c32-4ef2-a46f-2e544db47ff7",
   "metadata": {},
   "outputs": [
    {
     "name": "stdout",
     "output_type": "stream",
     "text": [
      "Post added: Hello world!\n",
      "Post added: Learning Python is fun.\n",
      "johndoe's Posts:\n",
      "Hello world!\n",
      "Learning Python is fun.\n",
      "Searching posts for keyword: Python\n",
      "Learning Python is fun.\n"
     ]
    }
   ],
   "source": [
    "## defining the class\n",
    "class SocialMediaProfile:\n",
    "    def __init__(self, username):\n",
    "        self.username = username\n",
    "        self.posts = []\n",
    "\n",
    "    ## function for adding post\n",
    "    def add_post(self, post):\n",
    "        self.posts.append(post)\n",
    "        print(f\"Post added: {post}\")\n",
    "\n",
    "    ## function for displaying posts\n",
    "    def display_posts(self):\n",
    "        print(f\"{self.username}'s Posts:\")\n",
    "        for post in self.posts:\n",
    "            print(post)\n",
    "\n",
    "    def search_posts_by_keyword(self, keyword):\n",
    "        print(f\"Searching posts for keyword: {keyword}\")\n",
    "        for post in self.posts:\n",
    "            if keyword in post:\n",
    "                print(post)\n",
    "\n",
    "# Example Usage\n",
    "profile = SocialMediaProfile(\"johndoe\")\n",
    "profile.add_post(\"Hello world!\")\n",
    "profile.add_post(\"Learning Python is fun.\")\n",
    "profile.display_posts()\n",
    "profile.search_posts_by_keyword(\"Python\")\n"
   ]
  },
  {
   "cell_type": "markdown",
   "id": "9353489f-5632-41a6-8363-6f4614c6fcd5",
   "metadata": {},
   "source": [
    "## Problem 10: ToDo List Create a class representing a ToDo list with attributes like tasks and due dates. Implement methods to add tasks, mark tasks as completed, and display pending tasks."
   ]
  },
  {
   "cell_type": "code",
   "execution_count": 10,
   "id": "7c206ce5-f021-4d32-ab28-b5477a89171f",
   "metadata": {},
   "outputs": [
    {
     "name": "stdout",
     "output_type": "stream",
     "text": [
      "Task added: Buy groceries\n",
      "Task added: Read a book\n",
      "Pending Tasks:\n",
      "Buy groceries (Due: 2024-06-01)\n",
      "Read a book (Due: 2024-06-02)\n",
      "Task 'Buy groceries' marked as completed.\n",
      "Pending Tasks:\n",
      "Read a book (Due: 2024-06-02)\n"
     ]
    }
   ],
   "source": [
    "## defining the class TAsk\n",
    "class Task:\n",
    "    def __init__(self, description, due_date):\n",
    "        self.description = description\n",
    "        self.due_date = due_date\n",
    "        self.completed = False\n",
    "\n",
    "    def mark_completed(self):\n",
    "        self.completed = True\n",
    "        print(f\"Task '{self.description}' marked as completed.\")\n",
    "\n",
    "class ToDoList:\n",
    "    def __init__(self):\n",
    "        self.tasks = []\n",
    "\n",
    "    def add_task(self, task):\n",
    "        self.tasks.append(task)\n",
    "        print(f\"Task added: {task.description}\")\n",
    "\n",
    "    def display_pending_tasks(self):\n",
    "        print(\"Pending Tasks:\")\n",
    "        for task in self.tasks:\n",
    "            if not task.completed:\n",
    "                print(f\"{task.description} (Due: {task.due_date})\")\n",
    "\n",
    "# Example Usage\n",
    "todo_list = ToDoList()\n",
    "task1 = Task(\"Buy groceries\", \"2024-06-01\")\n",
    "task2 = Task(\"Read a book\", \"2024-06-02\")\n",
    "todo_list.add_task(task1)\n",
    "todo_list.add_task(task2)\n",
    "todo_list.display_pending_tasks()\n",
    "task1.mark_completed()\n",
    "todo_list.display_pending_tasks()\n"
   ]
  },
  {
   "cell_type": "code",
   "execution_count": null,
   "id": "6337e518-4a23-4d4f-9a70-4982a9fe5dd6",
   "metadata": {},
   "outputs": [],
   "source": []
  }
 ],
 "metadata": {
  "kernelspec": {
   "display_name": "Python 3 (ipykernel)",
   "language": "python",
   "name": "python3"
  },
  "language_info": {
   "codemirror_mode": {
    "name": "ipython",
    "version": 3
   },
   "file_extension": ".py",
   "mimetype": "text/x-python",
   "name": "python",
   "nbconvert_exporter": "python",
   "pygments_lexer": "ipython3",
   "version": "3.11.7"
  }
 },
 "nbformat": 4,
 "nbformat_minor": 5
}
