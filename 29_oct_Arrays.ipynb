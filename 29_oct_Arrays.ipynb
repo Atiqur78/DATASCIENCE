{
 "cells": [
  {
   "cell_type": "markdown",
   "id": "f557d62e",
   "metadata": {},
   "source": [
    "1. Given an array, check if it contains any duplicates or not. arr = [1, 2, 4, 2, 5, 9] Output = True"
   ]
  },
  {
   "cell_type": "code",
   "execution_count": 2,
   "id": "1cc5a60c",
   "metadata": {},
   "outputs": [
    {
     "name": "stdout",
     "output_type": "stream",
     "text": [
      "True\n"
     ]
    }
   ],
   "source": [
    "#function definition\n",
    "def find_dup(arr):\n",
    "    #checking whether length of original array is equal to length of array after converting to seti.e set remove the duplicate \n",
    "  return len(arr)!= len(set(arr))\n",
    "\n",
    "#Driver code\n",
    "arr = [1, 2, 4, 2, 5, 9]\n",
    "print(find_dup(arr))"
   ]
  },
  {
   "cell_type": "markdown",
   "id": "acf65270",
   "metadata": {},
   "source": [
    "2. Given an array and an integer k, rotate the array to the right by k steps. arr = [1, 2, 3, 4, 5, 6, 7] k = 3 Output = [5, 6, 7, 1, 2, 3, 4]"
   ]
  },
  {
   "cell_type": "code",
   "execution_count": 3,
   "id": "b728ada2",
   "metadata": {},
   "outputs": [
    {
     "name": "stdout",
     "output_type": "stream",
     "text": [
      "[5, 6, 7, 1, 2, 3, 4]\n"
     ]
    }
   ],
   "source": [
    "#function definition\n",
    "ef rotate_array(arr, k):\n",
    "    k = k % len(arr)\n",
    "    #using for loop iterated over each element\n",
    "    for i in range(k):\n",
    "        #using pop() function last element is removed and stored\n",
    "      back = arr.pop()\n",
    "    #using insert() funuction the removed elemnt is inserted at 0th location\n",
    "      arr.insert(0,back)\n",
    "    return arr\n",
    "\n",
    "#driver code\n",
    "arr = [1, 2, 3, 4, 5, 6, 7]\n",
    "k = 3\n",
    "output = rotate_array(arr, k)\n",
    "print(output)"
   ]
  },
  {
   "cell_type": "markdown",
   "id": "82e611c7",
   "metadata": {},
   "source": [
    "3. Reverse the given array in-place, means without using any extra data structure. arr = [2, 4, 5, 7, 9, 12] Output = [12, 9, 7, 5, 4, 2]"
   ]
  },
  {
   "cell_type": "code",
   "execution_count": 4,
   "id": "6ae36bbe",
   "metadata": {},
   "outputs": [
    {
     "name": "stdout",
     "output_type": "stream",
     "text": [
      "[12, 9, 7, 5, 4, 2]\n"
     ]
    }
   ],
   "source": [
    "#function definition\n",
    "def reverse_arr(arr):\n",
    "    #temp variable\n",
    "  tem1=0\n",
    "#using for loop elemet is iterated \n",
    "  for i in range(len(arr)):\n",
    "    for j in range(len(arr)):\n",
    "        #using if the element is swaped\n",
    "      if arr[i]> arr[j]:\n",
    "        tem1 = arr[i]\n",
    "        arr[i]=arr[j]\n",
    "        arr[j]= tem1\n",
    "  return arr\n",
    "\n",
    "#driver code\n",
    "arr = [2, 4, 5, 7, 9, 12]\n",
    "print(reverse_arr(arr))\n"
   ]
  },
  {
   "cell_type": "markdown",
   "id": "c239f712",
   "metadata": {},
   "source": [
    "4. Given an array of integers, find the maximum element in an array arr = [10, 5, 20, 8, 15] Output = 20"
   ]
  },
  {
   "cell_type": "code",
   "execution_count": 6,
   "id": "b3450278",
   "metadata": {},
   "outputs": [
    {
     "name": "stdout",
     "output_type": "stream",
     "text": [
      "20\n"
     ]
    }
   ],
   "source": [
    "#function definition\n",
    "def maximim_ele(arr):\n",
    "    #max is initialized with the first elemnt of array\n",
    "  max =arr[0]\n",
    "#using for loop element is iterated \n",
    "  for i in range(len(arr)):\n",
    "        #using if each elemnt is checked .. if the element is greater then max will store the greater element\n",
    "    if arr[i]>max:\n",
    "      max = arr[i]\n",
    "  return max#driver code\n",
    "\n",
    "\n",
    "arr = [10, 5, 20, 8, 15]\n",
    "print(maximim_ele(arr))\n"
   ]
  },
  {
   "cell_type": "markdown",
   "id": "241229c4",
   "metadata": {},
   "source": [
    "5. Given a sorted array, remove the duplicate element without using any extra data structure. arr = [1, 1, 2, 2, 2, 3, 3, 4, 4, 4, 5, 5] Output = [1, 2, 3, 4, 5]"
   ]
  },
  {
   "cell_type": "code",
   "execution_count": 9,
   "id": "c877b5f3",
   "metadata": {},
   "outputs": [
    {
     "name": "stdout",
     "output_type": "stream",
     "text": [
      "[1, 2, 3, 4, 5]\n"
     ]
    }
   ],
   "source": [
    "#function definition \n",
    "def remove_dup(arr):\n",
    "    #using set() function the duplicate element is removed\n",
    "  return list(set(arr))\n",
    "\n",
    "#driver code\n",
    "arr = [1, 1, 2, 2, 2, 3, 3, 4, 4, 4, 5, 5]\n",
    "print(remove_dup(arr))"
   ]
  },
  {
   "cell_type": "code",
   "execution_count": null,
   "id": "6bfa6b49",
   "metadata": {},
   "outputs": [],
   "source": []
  }
 ],
 "metadata": {
  "kernelspec": {
   "display_name": "Python 3 (ipykernel)",
   "language": "python",
   "name": "python3"
  },
  "language_info": {
   "codemirror_mode": {
    "name": "ipython",
    "version": 3
   },
   "file_extension": ".py",
   "mimetype": "text/x-python",
   "name": "python",
   "nbconvert_exporter": "python",
   "pygments_lexer": "ipython3",
   "version": "3.11.5"
  }
 },
 "nbformat": 4,
 "nbformat_minor": 5
}
