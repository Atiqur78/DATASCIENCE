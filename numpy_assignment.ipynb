{
 "cells": [
  {
   "cell_type": "markdown",
   "id": "2979b956-bb66-4df6-b9c1-2fa17f47a508",
   "metadata": {},
   "source": [
    "## 1. What is a Python library? Why do we use Python libraries?"
   ]
  },
  {
   "cell_type": "markdown",
   "id": "2515f851-0a35-4ae0-94bc-821326ba6fa5",
   "metadata": {},
   "source": [
    "A Python library is a collection of modules and packages that provide pre-written code to perform common tasks, making it easier and faster to develop applications. We use Python libraries to avoid reinventing the wheel, to improve code efficiency, and to leverage the expertise encapsulated in these libraries for various functionalities such as numerical operations (NumPy), data manipulation (pandas), web development (Django), and more."
   ]
  },
  {
   "cell_type": "markdown",
   "id": "3f255def-7612-4892-8bff-1a8fe03492d7",
   "metadata": {},
   "source": [
    "## 2. What is the difference between Numpy array and List?"
   ]
  },
  {
   "cell_type": "markdown",
   "id": "f6c0ab39-38f6-45c5-b7e7-de5c7744df95",
   "metadata": {},
   "source": [
    "Numpy Array: A NumPy array is a grid of values, all of the same type, indexed by a tuple of non-negative integers. It provides efficient storage and operations for large numerical datasets and supports vectorized operations, which are faster and more concise.\n",
    "\n",
    "List: A Python list is a collection of elements that can be of different types. Lists are flexible and easy to use but are not optimized for numerical operations, making them slower for mathematical computations compared to NumPy arrays.\n"
   ]
  },
  {
   "cell_type": "markdown",
   "id": "f726a214-ebe5-4476-8c27-c39821830c67",
   "metadata": {},
   "source": [
    "## 3. Find the shape, size, and dimension of the following array?\n",
    "\n",
    "[[1, 2, 3, 4]\n",
    "\n",
    "[5, 6, 7, 8],\n",
    "\n",
    "[9, 10, 11, 12]]"
   ]
  },
  {
   "cell_type": "code",
   "execution_count": 1,
   "id": "8669d6a4-8cda-40d1-9124-10f9645f829f",
   "metadata": {},
   "outputs": [
    {
     "name": "stdout",
     "output_type": "stream",
     "text": [
      "Shape of array: (3, 4)\n",
      "Size of array: 12\n",
      "Dimmension of array: 2\n"
     ]
    }
   ],
   "source": [
    "## import the required libraries\n",
    "import numpy as np\n",
    "\n",
    "## creating the numpy array\n",
    "arr = np.array([[1, 2, 3, 4],\n",
    "                [5, 6, 7, 8],\n",
    "                [9, 10, 11, 12]])\n",
    "#3 for getting the shape, size, dimmension of array\n",
    "shape = arr.shape\n",
    "size = arr.size   \n",
    "dimension = arr.ndim\n",
    "\n",
    "print(f'Shape of array: {shape}')\n",
    "print(f'Size of array: {size}')\n",
    "print(f'Dimmension of array: {dimension}')\n"
   ]
  },
  {
   "cell_type": "markdown",
   "id": "622d7f0e-c3db-4f92-92e7-ca63244f1bcc",
   "metadata": {},
   "source": [
    "## 4. Write Python code to access the first row of the following array?\n",
    "\n",
    "[[1, 2, 3, 4]\n",
    "\n",
    "[5, 6, 7, 8],\n",
    "\n",
    "[9, 10, 11, 12]]"
   ]
  },
  {
   "cell_type": "code",
   "execution_count": 2,
   "id": "c0195fc8-c88e-43df-b885-e5dd649acd6f",
   "metadata": {},
   "outputs": [
    {
     "name": "stdout",
     "output_type": "stream",
     "text": [
      "First row of array: [1 2 3 4]\n"
     ]
    }
   ],
   "source": [
    "## import the required libraries\n",
    "import numpy as np\n",
    "\n",
    "## creating the numpy array\n",
    "arr = np.array([[1, 2, 3, 4],\n",
    "                [5, 6, 7, 8],\n",
    "                [9, 10, 11, 12]])\n",
    "\n",
    "## for getting first row\n",
    "first_row = arr[0]\n",
    "print(f'First row of array: {first_row}')"
   ]
  },
  {
   "cell_type": "markdown",
   "id": "6c72a8a1-5bbb-4e92-9690-4d2de0234126",
   "metadata": {},
   "source": [
    "## 5. How do you access the element at the third row and fourth column from the given numpy array?\n",
    "\n",
    "[[1, 2, 3, 4]\n",
    "\n",
    "[5, 6, 7, 8],\n",
    "\n",
    "[9, 10, 11, 12]]"
   ]
  },
  {
   "cell_type": "code",
   "execution_count": 4,
   "id": "17d9a522-5896-4982-b495-437e8ac513d3",
   "metadata": {},
   "outputs": [
    {
     "name": "stdout",
     "output_type": "stream",
     "text": [
      "Element of third row and fourth column: 12\n"
     ]
    }
   ],
   "source": [
    "## import the required libraries\n",
    "import numpy as np\n",
    "\n",
    "## creating the numpy array\n",
    "arr = np.array([[1, 2, 3, 4],\n",
    "                [5, 6, 7, 8],\n",
    "                [9, 10, 11, 12]])\n",
    "## for accesing th element of third row and fourth column\n",
    "element = arr[2,3]\n",
    "print(f'Element of third row and fourth column: {element}')"
   ]
  },
  {
   "cell_type": "markdown",
   "id": "32e7f931-acfe-4c12-89dc-ffd4a495203a",
   "metadata": {},
   "source": [
    "## 6. Write code to extract all odd-indexed elements from the given numpy array?\n",
    "\n",
    "[[1, 2, 3, 4]\n",
    "\n",
    "[5, 6, 7, 8],\n",
    "\n",
    "[9, 10, 11, 12]]"
   ]
  },
  {
   "cell_type": "code",
   "execution_count": 7,
   "id": "1e4f866f-68d1-4e9d-bdd6-7ea213a2d77d",
   "metadata": {},
   "outputs": [
    {
     "name": "stdout",
     "output_type": "stream",
     "text": [
      "Odd indexed element: \n",
      "[[ 2  4]\n",
      " [10 12]]\n"
     ]
    }
   ],
   "source": [
    "## import the required libraries\n",
    "import numpy as np\n",
    "\n",
    "## creating the numpy array\n",
    "arr = np.array([[1, 2, 3, 4],\n",
    "                [5, 6, 7, 8],\n",
    "                [9, 10, 11, 12]])\n",
    "\n",
    "element = arr[::2,1::2]\n",
    "print(f'Odd indexed element: \\n{element}')"
   ]
  },
  {
   "cell_type": "markdown",
   "id": "a6aa13c6-c4fc-44eb-978e-0341fdd2d82d",
   "metadata": {},
   "source": [
    "## 7. How can you generate a random 3x3 matrix with values between 0 and 1?"
   ]
  },
  {
   "cell_type": "code",
   "execution_count": 14,
   "id": "f953332f-f1cf-45d5-84f9-d8547ee9eeec",
   "metadata": {},
   "outputs": [
    {
     "name": "stdout",
     "output_type": "stream",
     "text": [
      "Random number :\n",
      "[[0.91358912 0.01632546 0.43535982]\n",
      " [0.14330833 0.20918716 0.24515714]\n",
      " [0.6037552  0.57096489 0.95092722]]\n"
     ]
    }
   ],
   "source": [
    "## import the required libraries\n",
    "import numpy as np\n",
    "\n",
    "## for generating random number of 3 x 3 matrix\n",
    "arr = np.random.rand(3,3)\n",
    "\n",
    "print(f'Random number :\\n{arr}')"
   ]
  },
  {
   "cell_type": "markdown",
   "id": "3f3c6c6d-6045-4d0d-b7dc-4cb280cef0f0",
   "metadata": {},
   "source": [
    "## 8. Describe the difference between np.random.rand and np.random.randn?"
   ]
  },
  {
   "cell_type": "markdown",
   "id": "a2a130dd-e7d2-4d05-9a76-6d823130e244",
   "metadata": {},
   "source": [
    "np.random.rand: Generates random numbers in a given shape, uniformly distributed between 0 and 1.\n",
    "\n",
    "np.random.randn: Generates random numbers in a given shape, normally distributed with mean 0 and standard deviation 1."
   ]
  },
  {
   "cell_type": "markdown",
   "id": "6267c9a7-13e5-4b63-bf8f-1e8970c0e089",
   "metadata": {},
   "source": [
    "## 9. Write code to increase the dimension of the following array?\n",
    "\n",
    "[[1, 2, 3, 4]\n",
    "\n",
    "[5, 6, 7, 8],\n",
    "\n",
    "[9, 10, 11, 12]]"
   ]
  },
  {
   "cell_type": "code",
   "execution_count": 16,
   "id": "ce35504c-7568-48c4-9971-c16764b38b28",
   "metadata": {},
   "outputs": [
    {
     "name": "stdout",
     "output_type": "stream",
     "text": [
      "After increasing the dimension: \n",
      "[[[ 1  2  3  4]]\n",
      "\n",
      " [[ 5  6  7  8]]\n",
      "\n",
      " [[ 9 10 11 12]]]\n"
     ]
    }
   ],
   "source": [
    "## import the required libraries\n",
    "import numpy as np\n",
    "\n",
    "## creating the numpy array\n",
    "arr = np.array([[1, 2, 3, 4],\n",
    "                [5, 6, 7, 8],\n",
    "                [9, 10, 11, 12]])\n",
    "## for incresing the dimension\n",
    "new_arr = arr[:, np.newaxis]\n",
    "print(f'After increasing the dimension: \\n{new_arr}')"
   ]
  },
  {
   "cell_type": "markdown",
   "id": "2612a08a-6746-4a96-a2aa-77993a88b257",
   "metadata": {},
   "source": [
    "## 10. How to transpose the following array in NumPy?\n",
    "\n",
    "[[1, 2, 3, 4]\n",
    "\n",
    "[5, 6, 7, 8],\n",
    "\n",
    "[9, 10, 11, 12]]"
   ]
  },
  {
   "cell_type": "code",
   "execution_count": 18,
   "id": "f5f822b8-752a-41c2-aace-82230f02ab16",
   "metadata": {},
   "outputs": [
    {
     "name": "stdout",
     "output_type": "stream",
     "text": [
      "After transposing the array: \n",
      "[[ 1  5  9]\n",
      " [ 2  6 10]\n",
      " [ 3  7 11]\n",
      " [ 4  8 12]]\n"
     ]
    }
   ],
   "source": [
    "## import the required libraries\n",
    "import numpy as np\n",
    "\n",
    "## creating the numpy array\n",
    "arr = np.array([[1, 2, 3, 4],\n",
    "                [5, 6, 7, 8],\n",
    "                [9, 10, 11, 12]])\n",
    "## for transposing the array\n",
    "arr = arr.T\n",
    "print(f'After transposing the array: \\n{arr}')"
   ]
  },
  {
   "cell_type": "markdown",
   "id": "e9cf1181-69ff-4966-9ae5-8304715babdb",
   "metadata": {},
   "source": [
    "## 11. Consider the following matrix:\n",
    "\n",
    "Matrix A2 [[1, 2, 3, 4] [5, 6, 7, 8],[9, 10, 11, 12]]\n",
    "\n",
    "Matrix B2 [[1, 2, 3, 4] [5, 6, 7, 8],[9, 10, 11, 12]]\n",
    "\n",
    "#### 1.Index wise multiplication\n",
    "#### 2.Matix multiplication\n",
    "#### 3.Add both the maticx\n",
    "#### 4.Subtact matix B from A\n",
    "#### 5.Divide Matix B by A"
   ]
  },
  {
   "cell_type": "code",
   "execution_count": 19,
   "id": "7a034c19-fd3a-4674-a312-093f48b0e5a4",
   "metadata": {},
   "outputs": [
    {
     "name": "stdout",
     "output_type": "stream",
     "text": [
      "Elemen Wise multiplication: \n",
      "[[  1   4   9  16]\n",
      " [ 25  36  49  64]\n",
      " [ 81 100 121 144]]\n",
      "Matrix multiplication: \n",
      "[[ 30  70 110]\n",
      " [ 70 174 278]\n",
      " [110 278 446]]\n",
      "Addition of matices: \n",
      "[[ 2  4  6  8]\n",
      " [10 12 14 16]\n",
      " [18 20 22 24]]\n",
      "Subtraction of matrices: \n",
      "[[0 0 0 0]\n",
      " [0 0 0 0]\n",
      " [0 0 0 0]]\n",
      "Devision of matrices: \n",
      "[[1. 1. 1. 1.]\n",
      " [1. 1. 1. 1.]\n",
      " [1. 1. 1. 1.]]\n"
     ]
    }
   ],
   "source": [
    "Matrix_A = np.array([[1, 2, 3, 4],\n",
    "                     [5, 6, 7, 8],\n",
    "                     [9, 10, 11, 12]])\n",
    "\n",
    "Matrix_B = np.array([[1, 2, 3, 4],\n",
    "                     [5, 6, 7, 8],\n",
    "                     [9, 10, 11, 12]])\n",
    "\n",
    "# Element-wise multiplication\n",
    "element_wise_mult = Matrix_A * Matrix_B\n",
    "\n",
    "# Matrix multiplication\n",
    "matrix_mult = np.dot(Matrix_A, Matrix_B.T)\n",
    "\n",
    "# Addition of both matrices\n",
    "addition = Matrix_A + Matrix_B\n",
    "\n",
    "# Subtraction of Matrix B from Matrix A\n",
    "subtraction = Matrix_A - Matrix_B\n",
    "\n",
    "# Division of Matrix B by Matrix A\n",
    "division = Matrix_B / Matrix_A\n",
    "\n",
    "print(f'Elemen Wise multiplication: \\n{element_wise_mult}')\n",
    "print(f'Matrix multiplication: \\n{matrix_mult}')\n",
    "print(f'Addition of matices: \\n{addition}')\n",
    "print(f'Subtraction of matrices: \\n{subtraction}')\n",
    "print(f'Devision of matrices: \\n{division}')\n"
   ]
  },
  {
   "cell_type": "markdown",
   "id": "6d6fb28f-58f4-4101-9beb-b62351239c38",
   "metadata": {},
   "source": [
    "## 12. Which function in NumPy can be used to swap the byte order of an array?"
   ]
  },
  {
   "cell_type": "markdown",
   "id": "4dfd9252-6570-44cb-84dc-673bf315de97",
   "metadata": {},
   "source": [
    "np.ndarray.byteswap()"
   ]
  },
  {
   "cell_type": "markdown",
   "id": "8121b30a-44cb-4e82-892d-fe26a9448d95",
   "metadata": {},
   "source": [
    "## 13. What does the np.reshape function do, and how is it used?"
   ]
  },
  {
   "cell_type": "code",
   "execution_count": 21,
   "id": "95fe873c-c5e2-4fef-a423-6c5a4cdac48b",
   "metadata": {},
   "outputs": [
    {
     "name": "stdout",
     "output_type": "stream",
     "text": [
      "After reshaping the array: \n",
      "[[ 1  5  9]\n",
      " [ 2  6 10]\n",
      " [ 3  7 11]\n",
      " [ 4  8 12]]\n"
     ]
    }
   ],
   "source": [
    "reshaped_array = np.reshape(arr, (4, 3))\n",
    "print(f'After reshaping the array: \\n{reshaped_array}')\n"
   ]
  },
  {
   "cell_type": "markdown",
   "id": "d328a8ed-0570-47ee-926d-a79de065e5f9",
   "metadata": {},
   "source": [
    "## 14. What is the significance of the np.linalg.inv function?"
   ]
  },
  {
   "cell_type": "code",
   "execution_count": null,
   "id": "efef8734-4c06-43da-8741-d019d1c5553c",
   "metadata": {},
   "outputs": [],
   "source": []
  },
  {
   "cell_type": "markdown",
   "id": "812908ea-e2c9-4aee-9f31-4c68bc986c7b",
   "metadata": {},
   "source": [
    "## 15. What is broadcasting in NumPy?"
   ]
  },
  {
   "cell_type": "markdown",
   "id": "d16b51d4-cdcf-4d7b-b7a0-e205301be95d",
   "metadata": {},
   "source": [
    "Broadcasting is a mechanism that allows NumPy to perform arithmetic operations on arrays of different shapes. It automatically expands the smaller array to match the shape of the larger array so element-wise operations can be performed. This feature enables efficient computation without the need for explicit loops."
   ]
  },
  {
   "cell_type": "code",
   "execution_count": null,
   "id": "0537e741-4771-4743-be96-4abf888ccc01",
   "metadata": {},
   "outputs": [],
   "source": []
  }
 ],
 "metadata": {
  "kernelspec": {
   "display_name": "Python 3 (ipykernel)",
   "language": "python",
   "name": "python3"
  },
  "language_info": {
   "codemirror_mode": {
    "name": "ipython",
    "version": 3
   },
   "file_extension": ".py",
   "mimetype": "text/x-python",
   "name": "python",
   "nbconvert_exporter": "python",
   "pygments_lexer": "ipython3",
   "version": "3.11.7"
  }
 },
 "nbformat": 4,
 "nbformat_minor": 5
}
