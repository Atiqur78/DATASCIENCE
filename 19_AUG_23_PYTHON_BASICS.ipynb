{
 "cells": [
  {
   "cell_type": "markdown",
   "metadata": {},
   "source": [
    "python Basic\n",
    "\n",
    "1.Declare two variables, `x` and `y`, and assign them integer values. Swap the\n",
    "values of these variables without using any temporary variable."
   ]
  },
  {
   "cell_type": "code",
   "execution_count": 40,
   "metadata": {},
   "outputs": [
    {
     "name": "stdout",
     "output_type": "stream",
     "text": [
      "After swaping 20 10\n"
     ]
    }
   ],
   "source": [
    "#declared the two variable of int type\n",
    "x =10\n",
    "y =20\n",
    "#after that x is added with y so it became 30\n",
    "x = x+y\n",
    "#then x is subtracted by y and the value of y became 10\n",
    "y= x-y\n",
    "# now from x y is subtracted so x value became 20\n",
    "x = x-y\n",
    "#after swaping the value is printed\n",
    "print(\"After swaping\",x, y)"
   ]
  },
  {
   "cell_type": "markdown",
   "metadata": {},
   "source": [
    "2.Create a program that calculates the area of a rectangle. Take the length and\n",
    "width as inputs from the user and store them in variables. Calculate and\n",
    "display the area."
   ]
  },
  {
   "cell_type": "code",
   "execution_count": 41,
   "metadata": {},
   "outputs": [
    {
     "name": "stdout",
     "output_type": "stream",
     "text": [
      "Enter the length: \n",
      "10\n",
      "Enter the breadth: \n",
      "20\n",
      "Area of rectangle is 200\n"
     ]
    }
   ],
   "source": [
    "# taken input of lenght and breadth from input\n",
    "print(\"Enter the length: \")\n",
    "length = int(input())\n",
    "print(\"Enter the breadth: \")\n",
    "breadth = int(input())\n",
    "# noe calculated the are of reectangle using formula length * breadth\n",
    "area_of_rectangle = length* breadth\n",
    "#printed the output \n",
    "print(\"Area of rectangle is\",area_of_rectangle)"
   ]
  },
  {
   "cell_type": "markdown",
   "metadata": {},
   "source": [
    "3.Write a Python program that converts temperatures from Celsius to\n",
    "Fahrenheit. Take the temperature in Celsius as input, store it in a variable,\n",
    "convert it to Fahrenheit, and display the result."
   ]
  },
  {
   "cell_type": "code",
   "execution_count": 42,
   "metadata": {},
   "outputs": [
    {
     "name": "stdout",
     "output_type": "stream",
     "text": [
      "Enter the temperature: \n",
      "25\n",
      "Temperature in fahrenhiet: 77.0\n"
     ]
    }
   ],
   "source": [
    "print(\"Enter the temperature: \")\n",
    "temp = int(input())\n",
    "\n",
    "con_to_far = (temp*9/5)+32\n",
    "\n",
    "print(\"Temperature in fahrenhiet:\",con_to_far)"
   ]
  },
  {
   "cell_type": "markdown",
   "metadata": {},
   "source": [
    "String Based\n",
    "\n",
    "1. Write a Python program that takes a string as input and prints the length of the string."
   ]
  },
  {
   "cell_type": "code",
   "execution_count": 44,
   "metadata": {},
   "outputs": [
    {
     "name": "stdout",
     "output_type": "stream",
     "text": [
      "my name is rahman\n"
     ]
    }
   ],
   "source": [
    "# for taking input, input() is used\n",
    "input_string = input()"
   ]
  },
  {
   "cell_type": "code",
   "execution_count": 46,
   "metadata": {},
   "outputs": [
    {
     "name": "stdout",
     "output_type": "stream",
     "text": [
      "length of string is:  17\n"
     ]
    }
   ],
   "source": [
    "# for checking length of string, len() is used \n",
    "print(\"length of string is: \",len(input_string))"
   ]
  },
  {
   "cell_type": "markdown",
   "metadata": {},
   "source": [
    "2.Create a program that takes a sentence from the user and counts the number\n",
    "of vowels (a, e, i, o, u) in the string.\n"
   ]
  },
  {
   "cell_type": "code",
   "execution_count": 7,
   "metadata": {},
   "outputs": [
    {
     "name": "stdout",
     "output_type": "stream",
     "text": [
      "My name is rahman\n"
     ]
    }
   ],
   "source": [
    " input_sen = input()"
   ]
  },
  {
   "cell_type": "code",
   "execution_count": 47,
   "metadata": {},
   "outputs": [
    {
     "name": "stdout",
     "output_type": "stream",
     "text": [
      "Vowel occurence in string:  5\n"
     ]
    }
   ],
   "source": [
    "#count variable is used to count the number of occurenece\n",
    "count=0\n",
    "# to lowercase thestring\n",
    "input_sen=input_sen.lower()\n",
    "# for iterating over all element of string\n",
    "for i in input_sen:\n",
    "    # for checking the if the vowel is in the given string\n",
    "    if i == 'a' or i == 'e' or i == 'i' or i == 'o' or i == 'u'  in input_sen:\n",
    "        #incresing the count if vowel is in the string\n",
    "        count+=1\n",
    "#printing the count of of vowel in string\n",
    "print(\"Vowel occurence in string: \",count)"
   ]
  },
  {
   "cell_type": "markdown",
   "metadata": {},
   "source": [
    "3.Given a string, reverse the order of characters using string slicing and print\n",
    "the reversed string."
   ]
  },
  {
   "cell_type": "code",
   "execution_count": 48,
   "metadata": {},
   "outputs": [
    {
     "name": "stdout",
     "output_type": "stream",
     "text": [
      "Enter the string: \n",
      "my name is rahman\n",
      "Reverse string is:  namhar si eman ym\n"
     ]
    }
   ],
   "source": [
    "print(\"Enter the string: \")\n",
    "string = input()\n",
    "# using slicing reversing the word and storing the value on new string1\n",
    "string1= string[::-1]\n",
    "# printing the reverse string\n",
    "print(\"Reverse string is: \",string1)"
   ]
  },
  {
   "cell_type": "markdown",
   "metadata": {},
   "source": [
    "4.Write a program that takes a string as input and checks if it is a palindrome\n",
    "(reads the same forwards and backwards)."
   ]
  },
  {
   "cell_type": "code",
   "execution_count": 50,
   "metadata": {},
   "outputs": [
    {
     "name": "stdout",
     "output_type": "stream",
     "text": [
      "Enter the string: \n",
      "wow\n",
      "It is palindrome\n"
     ]
    }
   ],
   "source": [
    "# take the input of string from the user\n",
    "print(\"Enter the string: \")\n",
    "string = input()\n",
    "# store the string in string1 in reverse order using slicing\n",
    "string1= string[::-1]\n",
    "# check the both string whether it is equal or not . if it is equla then it is palindrome else it is not palindrome\n",
    "if string == string1:\n",
    "    print(\"It is palindrome\")\n",
    "else:\n",
    "    print(\"It is not palindrome\")\n",
    "    "
   ]
  },
  {
   "cell_type": "markdown",
   "metadata": {},
   "source": [
    "5.Create a program that takes a string as input and removes all the spaces from\n",
    "it. Print the modified string without spaces."
   ]
  },
  {
   "cell_type": "code",
   "execution_count": 17,
   "metadata": {},
   "outputs": [
    {
     "name": "stdout",
     "output_type": "stream",
     "text": [
      "Enter the string: \n",
      "my name is rahman\n",
      "mynameisrahman\n"
     ]
    }
   ],
   "source": [
    "#take the string input from user\n",
    "print(\"Enter the string: \")\n",
    "string3= input()\n",
    "#using string replace method replace the white space\n",
    "string3 =string3.replace(\" \",\"\")\n",
    "\n",
    "# print the string after replacing white space\n",
    "print(string3)"
   ]
  },
  {
   "cell_type": "code",
   "execution_count": null,
   "metadata": {},
   "outputs": [],
   "source": []
  }
 ],
 "metadata": {
  "kernelspec": {
   "display_name": "Python 3 (ipykernel)",
   "language": "python",
   "name": "python3"
  },
  "language_info": {
   "codemirror_mode": {
    "name": "ipython",
    "version": 3
   },
   "file_extension": ".py",
   "mimetype": "text/x-python",
   "name": "python",
   "nbconvert_exporter": "python",
   "pygments_lexer": "ipython3",
   "version": "3.11.4"
  }
 },
 "nbformat": 4,
 "nbformat_minor": 2
}
